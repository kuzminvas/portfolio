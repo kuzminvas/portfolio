{
 "cells": [
  {
   "cell_type": "markdown",
   "metadata": {
    "toc": true
   },
   "source": [
    "<h1>Содержание<span class=\"tocSkip\"></span></h1>\n",
    "<div class=\"toc\"><ul class=\"toc-item\"><li><span><a href=\"#Подготовка\" data-toc-modified-id=\"Подготовка-1\"><span class=\"toc-item-num\">1&nbsp;&nbsp;</span>Подготовка</a></span><ul class=\"toc-item\"><li><span><a href=\"#Лемматизация-текста\" data-toc-modified-id=\"Лемматизация-текста-1.1\"><span class=\"toc-item-num\">1.1&nbsp;&nbsp;</span>Лемматизация текста</a></span></li></ul></li><li><span><a href=\"#Обучение\" data-toc-modified-id=\"Обучение-2\"><span class=\"toc-item-num\">2&nbsp;&nbsp;</span>Обучение</a></span><ul class=\"toc-item\"><li><span><a href=\"#class_weight-=-'balanced'\" data-toc-modified-id=\"class_weight-=-'balanced'-2.1\"><span class=\"toc-item-num\">2.1&nbsp;&nbsp;</span>class_weight = 'balanced'</a></span><ul class=\"toc-item\"><li><span><a href=\"#LogisticRegression\" data-toc-modified-id=\"LogisticRegression-2.1.1\"><span class=\"toc-item-num\">2.1.1&nbsp;&nbsp;</span>LogisticRegression</a></span></li><li><span><a href=\"#DecisionTreeClassifier\" data-toc-modified-id=\"DecisionTreeClassifier-2.1.2\"><span class=\"toc-item-num\">2.1.2&nbsp;&nbsp;</span>DecisionTreeClassifier</a></span></li><li><span><a href=\"#LightGBM-Classifier\" data-toc-modified-id=\"LightGBM-Classifier-2.1.3\"><span class=\"toc-item-num\">2.1.3&nbsp;&nbsp;</span>LightGBM Classifier</a></span></li></ul></li><li><span><a href=\"#Функция-RandomUnderSampler-для-балансировки-классов-путем-уменьшения-мажоритарного-класса\" data-toc-modified-id=\"Функция-RandomUnderSampler-для-балансировки-классов-путем-уменьшения-мажоритарного-класса-2.2\"><span class=\"toc-item-num\">2.2&nbsp;&nbsp;</span>Функция RandomUnderSampler для балансировки классов путем уменьшения мажоритарного класса</a></span><ul class=\"toc-item\"><li><span><a href=\"#LogisticRegression\" data-toc-modified-id=\"LogisticRegression-2.2.1\"><span class=\"toc-item-num\">2.2.1&nbsp;&nbsp;</span>LogisticRegression</a></span></li><li><span><a href=\"#DecisionTreeClassifier\" data-toc-modified-id=\"DecisionTreeClassifier-2.2.2\"><span class=\"toc-item-num\">2.2.2&nbsp;&nbsp;</span>DecisionTreeClassifier</a></span></li><li><span><a href=\"#LightGBM-Classifier\" data-toc-modified-id=\"LightGBM-Classifier-2.2.3\"><span class=\"toc-item-num\">2.2.3&nbsp;&nbsp;</span>LightGBM Classifier</a></span></li></ul></li><li><span><a href=\"#Функция-SMOTE-для-балансировки-классов-путем-увеличения-меньшего-класса\" data-toc-modified-id=\"Функция-SMOTE-для-балансировки-классов-путем-увеличения-меньшего-класса-2.3\"><span class=\"toc-item-num\">2.3&nbsp;&nbsp;</span>Функция SMOTE для балансировки классов путем увеличения меньшего класса</a></span><ul class=\"toc-item\"><li><span><a href=\"#LogisticRegression\" data-toc-modified-id=\"LogisticRegression-2.3.1\"><span class=\"toc-item-num\">2.3.1&nbsp;&nbsp;</span>LogisticRegression</a></span></li><li><span><a href=\"#DecisionTreeClassifier\" data-toc-modified-id=\"DecisionTreeClassifier-2.3.2\"><span class=\"toc-item-num\">2.3.2&nbsp;&nbsp;</span>DecisionTreeClassifier</a></span></li><li><span><a href=\"#LightGBM-Classifier\" data-toc-modified-id=\"LightGBM-Classifier-2.3.3\"><span class=\"toc-item-num\">2.3.3&nbsp;&nbsp;</span>LightGBM Classifier</a></span></li></ul></li></ul></li><li><span><a href=\"#тестирование-модели\" data-toc-modified-id=\"тестирование-модели-3\"><span class=\"toc-item-num\">3&nbsp;&nbsp;</span>тестирование модели</a></span></li><li><span><a href=\"#Выводы\" data-toc-modified-id=\"Выводы-4\"><span class=\"toc-item-num\">4&nbsp;&nbsp;</span>Выводы</a></span></li></ul></div>"
   ]
  },
  {
   "cell_type": "markdown",
   "metadata": {
    "id": "K8zEglpX6sne"
   },
   "source": [
    "Заказчику нужен инструмент, который будет искать токсичные комментарии и отправлять их на модерацию.\n",
    "\n",
    "\n",
    "**Задача:** Обучить модель классифицировать комментарии на позитивные и негативные.\n",
    "\n",
    "**Цель:** Обучить несколько моделей, выбрать лучшую, добиться значением метрики качества F1 не меньше 0.75. \n",
    " В нашем распоряжении набор данных с разметкой о токсичности правок.\n",
    "\n",
    "\n",
    "Работы выполним в 3 этапа\n",
    "\n",
    "1. Загрузка и подготовка данных.\n",
    "2. Обучение разных моделей. \n",
    "3. Выбор модели и проверка на тестовых данных.\n",
    "\n",
    "**Описание данных**\n",
    "\n",
    "Данные находятся в файле `toxic_comments.csv`. Столбец *text* в нём содержит текст комментария, а *toxic* — целевой признак."
   ]
  },
  {
   "cell_type": "markdown",
   "metadata": {
    "id": "vrEQxN7E6sng"
   },
   "source": [
    "## Подготовка"
   ]
  },
  {
   "cell_type": "code",
   "execution_count": 1,
   "metadata": {
    "colab": {
     "base_uri": "https://localhost:8080/"
    },
    "executionInfo": {
     "elapsed": 3652,
     "status": "ok",
     "timestamp": 1678788963521,
     "user": {
      "displayName": "Vasiliy Kuzmin",
      "userId": "10187521586314845244"
     },
     "user_tz": -180
    },
    "id": "5u7FIz0Z6snh",
    "outputId": "f5717b5f-e2a1-4776-ce37-db36b6d4702a"
   },
   "outputs": [],
   "source": [
    "#!pip install -q pymystem3"
   ]
  },
  {
   "cell_type": "code",
   "execution_count": 2,
   "metadata": {
    "colab": {
     "base_uri": "https://localhost:8080/"
    },
    "executionInfo": {
     "elapsed": 4307,
     "status": "ok",
     "timestamp": 1678788967819,
     "user": {
      "displayName": "Vasiliy Kuzmin",
      "userId": "10187521586314845244"
     },
     "user_tz": -180
    },
    "id": "QFcAPRn96snj",
    "outputId": "368f9a9b-ebad-4640-dd5a-2e174c15d6e1"
   },
   "outputs": [],
   "source": [
    "#!pip install -q nltk"
   ]
  },
  {
   "cell_type": "code",
   "execution_count": 5,
   "metadata": {},
   "outputs": [],
   "source": [
    "#!pip install -q imblearn"
   ]
  },
  {
   "cell_type": "code",
   "execution_count": 18,
   "metadata": {
    "colab": {
     "base_uri": "https://localhost:8080/"
    },
    "executionInfo": {
     "elapsed": 1009,
     "status": "ok",
     "timestamp": 1678789006091,
     "user": {
      "displayName": "Vasiliy Kuzmin",
      "userId": "10187521586314845244"
     },
     "user_tz": -180
    },
    "id": "w8RFI4M76snk",
    "outputId": "296ab6e3-f1f3-460e-8579-9cc9e93c1092"
   },
   "outputs": [
    {
     "name": "stderr",
     "output_type": "stream",
     "text": [
      "[nltk_data] Downloading package omw-1.4 to /home/jovyan/nltk_data...\n"
     ]
    },
    {
     "data": {
      "text/plain": [
       "True"
      ]
     },
     "execution_count": 18,
     "metadata": {},
     "output_type": "execute_result"
    }
   ],
   "source": [
    "nltk.download('omw-1.4')"
   ]
  },
  {
   "cell_type": "code",
   "execution_count": 17,
   "metadata": {
    "colab": {
     "base_uri": "https://localhost:8080/"
    },
    "executionInfo": {
     "elapsed": 307,
     "status": "ok",
     "timestamp": 1678790549374,
     "user": {
      "displayName": "Vasiliy Kuzmin",
      "userId": "10187521586314845244"
     },
     "user_tz": -180
    },
    "id": "bulbDt_E6snw",
    "outputId": "04fd85e6-fd39-484d-9029-b3b409b8f1a8"
   },
   "outputs": [
    {
     "name": "stderr",
     "output_type": "stream",
     "text": [
      "[nltk_data] Downloading package averaged_perceptron_tagger to\n",
      "[nltk_data]     /home/jovyan/nltk_data...\n",
      "[nltk_data]   Unzipping taggers/averaged_perceptron_tagger.zip.\n"
     ]
    },
    {
     "data": {
      "text/plain": [
       "True"
      ]
     },
     "execution_count": 17,
     "metadata": {},
     "output_type": "execute_result"
    }
   ],
   "source": [
    "nltk.download('averaged_perceptron_tagger')"
   ]
  },
  {
   "cell_type": "code",
   "execution_count": 6,
   "metadata": {
    "executionInfo": {
     "elapsed": 2275,
     "status": "ok",
     "timestamp": 1678789002169,
     "user": {
      "displayName": "Vasiliy Kuzmin",
      "userId": "10187521586314845244"
     },
     "user_tz": -180
    },
    "id": "2YlXiWGB6snl"
   },
   "outputs": [],
   "source": [
    "\n",
    "import string\n",
    "import warnings\n",
    "import re\n",
    "\n",
    "import pandas as pd\n",
    "import numpy as np\n",
    "\n",
    "import matplotlib.pyplot as plt\n",
    "from pymystem3 import Mystem\n",
    "\n",
    "from tqdm import tqdm\n",
    "from time import time\n",
    "\n",
    "import nltk\n",
    "from nltk import pos_tag\n",
    "from nltk.corpus import wordnet\n",
    "from nltk.stem import WordNetLemmatizer\n",
    "from nltk.corpus import stopwords as nltk_stopwords\n",
    "\n",
    "from sklearn.feature_extraction.text import TfidfVectorizer\n",
    "from sklearn.model_selection import train_test_split, RandomizedSearchCV\n",
    "from sklearn.metrics import roc_auc_score, f1_score, roc_curve\n",
    "\n",
    "from sklearn.linear_model import LogisticRegression\n",
    "from sklearn.tree import DecisionTreeClassifier\n",
    "from sklearn.dummy import DummyClassifier\n",
    "from sklearn.pipeline import Pipeline\n",
    "\n",
    "from imblearn.pipeline import make_pipeline\n",
    "from imblearn.under_sampling import RandomUnderSampler\n",
    "from imblearn.over_sampling import SMOTE\n",
    "\n",
    "import lightgbm as lgb\n",
    "\n",
    "warnings.filterwarnings('ignore')\n",
    "tqdm.pandas(desc='Processing Dataframe')\n",
    "RNDST = 1234"
   ]
  },
  {
   "cell_type": "code",
   "execution_count": 7,
   "metadata": {
    "executionInfo": {
     "elapsed": 310,
     "status": "ok",
     "timestamp": 1678789011348,
     "user": {
      "displayName": "Vasiliy Kuzmin",
      "userId": "10187521586314845244"
     },
     "user_tz": -180
    },
    "id": "BWlAhR3J6sno"
   },
   "outputs": [],
   "source": [
    "try:\n",
    "    data = pd.read_csv('/____________________/toxic_comments.csv')\n",
    "except FileNotFoundError:\n",
    "    data = pd.read_csv('toxic_comments.csv')"
   ]
  },
  {
   "cell_type": "code",
   "execution_count": 8,
   "metadata": {
    "colab": {
     "base_uri": "https://localhost:8080/"
    },
    "executionInfo": {
     "elapsed": 393,
     "status": "ok",
     "timestamp": 1678790528588,
     "user": {
      "displayName": "Vasiliy Kuzmin",
      "userId": "10187521586314845244"
     },
     "user_tz": -180
    },
    "id": "srZerp316snr",
    "outputId": "997f4242-d943-48f4-b290-735bdfeec576"
   },
   "outputs": [
    {
     "name": "stdout",
     "output_type": "stream",
     "text": [
      "<class 'pandas.core.frame.DataFrame'>\n",
      "RangeIndex: 159292 entries, 0 to 159291\n",
      "Data columns (total 3 columns):\n",
      " #   Column      Non-Null Count   Dtype \n",
      "---  ------      --------------   ----- \n",
      " 0   Unnamed: 0  159292 non-null  int64 \n",
      " 1   text        159292 non-null  object\n",
      " 2   toxic       159292 non-null  int64 \n",
      "dtypes: int64(2), object(1)\n",
      "memory usage: 3.6+ MB\n"
     ]
    }
   ],
   "source": [
    "data.info()"
   ]
  },
  {
   "cell_type": "code",
   "execution_count": 9,
   "metadata": {
    "colab": {
     "base_uri": "https://localhost:8080/",
     "height": 206
    },
    "executionInfo": {
     "elapsed": 366,
     "status": "ok",
     "timestamp": 1678790532133,
     "user": {
      "displayName": "Vasiliy Kuzmin",
      "userId": "10187521586314845244"
     },
     "user_tz": -180
    },
    "id": "RVOdLL_36sns",
    "outputId": "b95edac1-c117-4200-8d17-0512e64c299b"
   },
   "outputs": [
    {
     "data": {
      "text/html": [
       "<div>\n",
       "<style scoped>\n",
       "    .dataframe tbody tr th:only-of-type {\n",
       "        vertical-align: middle;\n",
       "    }\n",
       "\n",
       "    .dataframe tbody tr th {\n",
       "        vertical-align: top;\n",
       "    }\n",
       "\n",
       "    .dataframe thead th {\n",
       "        text-align: right;\n",
       "    }\n",
       "</style>\n",
       "<table border=\"1\" class=\"dataframe\">\n",
       "  <thead>\n",
       "    <tr style=\"text-align: right;\">\n",
       "      <th></th>\n",
       "      <th>Unnamed: 0</th>\n",
       "      <th>text</th>\n",
       "      <th>toxic</th>\n",
       "    </tr>\n",
       "  </thead>\n",
       "  <tbody>\n",
       "    <tr>\n",
       "      <th>107567</th>\n",
       "      <td>107664</td>\n",
       "      <td>\"\\n\\nAncient history\\n\\nTalk:Wikipedia:Civilit...</td>\n",
       "      <td>0</td>\n",
       "    </tr>\n",
       "    <tr>\n",
       "      <th>80797</th>\n",
       "      <td>80873</td>\n",
       "      <td>\"\\n\\n Jackson \\nWacko Jacko has only sold 170 ...</td>\n",
       "      <td>0</td>\n",
       "    </tr>\n",
       "    <tr>\n",
       "      <th>38940</th>\n",
       "      <td>38989</td>\n",
       "      <td>Linear B writing = Pelasgians language\\n\\nIf l...</td>\n",
       "      <td>0</td>\n",
       "    </tr>\n",
       "    <tr>\n",
       "      <th>158206</th>\n",
       "      <td>158365</td>\n",
       "      <td>Good Call\\nWhoever organized the external link...</td>\n",
       "      <td>0</td>\n",
       "    </tr>\n",
       "    <tr>\n",
       "      <th>50602</th>\n",
       "      <td>50658</td>\n",
       "      <td>thanks fer new energy \\n\\ni have noticed a new...</td>\n",
       "      <td>0</td>\n",
       "    </tr>\n",
       "  </tbody>\n",
       "</table>\n",
       "</div>"
      ],
      "text/plain": [
       "        Unnamed: 0                                               text  toxic\n",
       "107567      107664  \"\\n\\nAncient history\\n\\nTalk:Wikipedia:Civilit...      0\n",
       "80797        80873  \"\\n\\n Jackson \\nWacko Jacko has only sold 170 ...      0\n",
       "38940        38989  Linear B writing = Pelasgians language\\n\\nIf l...      0\n",
       "158206      158365  Good Call\\nWhoever organized the external link...      0\n",
       "50602        50658  thanks fer new energy \\n\\ni have noticed a new...      0"
      ]
     },
     "execution_count": 9,
     "metadata": {},
     "output_type": "execute_result"
    }
   ],
   "source": [
    "data.sample(5)"
   ]
  },
  {
   "cell_type": "code",
   "execution_count": 10,
   "metadata": {
    "executionInfo": {
     "elapsed": 941,
     "status": "ok",
     "timestamp": 1678790536020,
     "user": {
      "displayName": "Vasiliy Kuzmin",
      "userId": "10187521586314845244"
     },
     "user_tz": -180
    },
    "id": "UmKoH8Tb6snt"
   },
   "outputs": [],
   "source": [
    "# Удалим колонку дублирующую индексы\n",
    "data = data.drop('Unnamed: 0', axis=1)"
   ]
  },
  {
   "cell_type": "code",
   "execution_count": 11,
   "metadata": {
    "colab": {
     "base_uri": "https://localhost:8080/"
    },
    "executionInfo": {
     "elapsed": 968,
     "status": "ok",
     "timestamp": 1678790542511,
     "user": {
      "displayName": "Vasiliy Kuzmin",
      "userId": "10187521586314845244"
     },
     "user_tz": -180
    },
    "id": "7KiWnIUq6snu",
    "outputId": "592144dd-6f1f-4daa-b50f-5911cf592cc7"
   },
   "outputs": [
    {
     "data": {
      "text/plain": [
       "0    143106\n",
       "1     16186\n",
       "Name: toxic, dtype: int64"
      ]
     },
     "execution_count": 11,
     "metadata": {},
     "output_type": "execute_result"
    }
   ],
   "source": [
    "data['toxic'].value_counts()"
   ]
  },
  {
   "cell_type": "markdown",
   "metadata": {
    "id": "zLorav-k6snv"
   },
   "source": [
    "Наблюдаем сильный дисбаланс классов почти 1 к 9."
   ]
  },
  {
   "cell_type": "code",
   "execution_count": 12,
   "metadata": {
    "colab": {
     "base_uri": "https://localhost:8080/",
     "height": 316
    },
    "executionInfo": {
     "elapsed": 1104,
     "status": "ok",
     "timestamp": 1678790546373,
     "user": {
      "displayName": "Vasiliy Kuzmin",
      "userId": "10187521586314845244"
     },
     "user_tz": -180
    },
    "id": "a2Z0GrGl6snw",
    "outputId": "81e6553d-fd36-458f-cdff-d610e3f99a5e"
   },
   "outputs": [
    {
     "data": {
      "image/png": "[encoded data removed]",
      "text/plain": [
       "<Figure size 432x288 with 1 Axes>"
      ]
     },
     "metadata": {},
     "output_type": "display_data"
    }
   ],
   "source": [
    "# посмотрим на количество строк с разными классами\n",
    "\n",
    "plt.pie(data['toxic'].value_counts(), labels=data['toxic'].value_counts().index, autopct='%1.1f%%')\n",
    "\n",
    "# подпись\n",
    "plt.title('Соотношение классов в целевом признаке')\n",
    "\n",
    "# выведем на экран\n",
    "plt.show() "
   ]
  },
  {
   "cell_type": "markdown",
   "metadata": {},
   "source": [
    "### Лемматизация текста"
   ]
  },
  {
   "cell_type": "code",
   "execution_count": 13,
   "metadata": {
    "id": "f5LDj_2qyevE"
   },
   "outputs": [],
   "source": [
    "# используя wordnet присвоим словам метку соответствующую части речи.\n",
    "def get_wordnet_pos(pos_tag):\n",
    "    if pos_tag.startswith('J'):\n",
    "        return wordnet.ADJ\n",
    "    elif pos_tag.startswith('V'):\n",
    "        return wordnet.VERB\n",
    "    elif pos_tag.startswith('N'):\n",
    "        return wordnet.NOUN\n",
    "    elif pos_tag.startswith('R'):\n",
    "        return wordnet.ADV\n",
    "    else:\n",
    "        return wordnet.NOUN\n",
    "    "
   ]
  },
  {
   "cell_type": "code",
   "execution_count": 14,
   "metadata": {
    "colab": {
     "base_uri": "https://localhost:8080/"
    },
    "executionInfo": {
     "elapsed": 692,
     "status": "ok",
     "timestamp": 1678790557711,
     "user": {
      "displayName": "Vasiliy Kuzmin",
      "userId": "10187521586314845244"
     },
     "user_tz": -180
    },
    "id": "h1j1c9zd6sny",
    "outputId": "a8d7586d-dc6a-478c-e7fb-a748f5e48ce1"
   },
   "outputs": [
    {
     "name": "stderr",
     "output_type": "stream",
     "text": [
      "[nltk_data] Downloading package stopwords to /home/jovyan/nltk_data...\n",
      "[nltk_data]   Package stopwords is already up-to-date!\n"
     ]
    }
   ],
   "source": [
    "nltk.download('stopwords')\n",
    "stopwords = set(nltk_stopwords.words('english'))"
   ]
  },
  {
   "cell_type": "code",
   "execution_count": 15,
   "metadata": {
    "executionInfo": {
     "elapsed": 10,
     "status": "ok",
     "timestamp": 1678790562994,
     "user": {
      "displayName": "Vasiliy Kuzmin",
      "userId": "10187521586314845244"
     },
     "user_tz": -180
    },
    "id": "Ybj6U6746sny"
   },
   "outputs": [],
   "source": [
    "def clean_text(text):\n",
    "    # перевелем текст в нижний регистр\n",
    "    text = text.lower()\n",
    "    # уберем пунктуацию и разобьем текст на слова\n",
    "    text = [word.strip(string.punctuation) for word in text.split(\" \")]\n",
    "    # удалим ненужные слова, содержащие цифры\n",
    "    text = [word for word in text if not any(c.isdigit() for c in word)]\n",
    "    # удалим стоп слова \n",
    "    text = [x for x in text if x not in stopwords]\n",
    "    # удалим пустые токены\n",
    "    text = [t for t in text if len(t) > 0]\n",
    "    # пометим части речи\n",
    "    pos_tags = pos_tag(text)\n",
    "    # лемматизируем текст для каждого слова найдем корневую форму.\n",
    "    text = [WordNetLemmatizer().lemmatize(t[0], get_wordnet_pos(t[1])) for t in pos_tags]\n",
    "    # удалим слова состоящие из одной буквы\n",
    "    text = [t for t in text if len(t) > 1]\n",
    "    # объединим в текст\n",
    "    text = \" \".join(text)\n",
    "    # в очищенный текст запишем слова содержащие буквы английского алфавита строчные и заглавные, разделим их пробелами\n",
    "    text = re.sub(r'[^a-zA-Z ]', ' ', text)\n",
    "    return(text)\n"
   ]
  },
  {
   "cell_type": "code",
   "execution_count": 19,
   "metadata": {
    "colab": {
     "base_uri": "https://localhost:8080/"
    },
    "executionInfo": {
     "elapsed": 477876,
     "status": "ok",
     "timestamp": 1678791044249,
     "user": {
      "displayName": "Vasiliy Kuzmin",
      "userId": "10187521586314845244"
     },
     "user_tz": -180
    },
    "id": "Y2qL8slY6snz",
    "outputId": "f1196b1c-1616-4cc7-e40d-547b60d86eac",
    "scrolled": false
   },
   "outputs": [
    {
     "name": "stderr",
     "output_type": "stream",
     "text": [
      "Processing Dataframe: 100%|██████████| 159292/159292 [05:06<00:00, 520.04it/s]\n"
     ]
    }
   ],
   "source": [
    "data['clean_text'] = data['text'].progress_apply(clean_text)"
   ]
  },
  {
   "cell_type": "code",
   "execution_count": 30,
   "metadata": {
    "colab": {
     "base_uri": "https://localhost:8080/",
     "height": 206
    },
    "executionInfo": {
     "elapsed": 277,
     "status": "ok",
     "timestamp": 1678791088892,
     "user": {
      "displayName": "Vasiliy Kuzmin",
      "userId": "10187521586314845244"
     },
     "user_tz": -180
    },
    "id": "-MvtaiFh6sn0",
    "outputId": "ad882f15-10d4-413c-ee3e-a7caf55801b6",
    "scrolled": true
   },
   "outputs": [
    {
     "data": {
      "text/html": [
       "<div>\n",
       "<style scoped>\n",
       "    .dataframe tbody tr th:only-of-type {\n",
       "        vertical-align: middle;\n",
       "    }\n",
       "\n",
       "    .dataframe tbody tr th {\n",
       "        vertical-align: top;\n",
       "    }\n",
       "\n",
       "    .dataframe thead th {\n",
       "        text-align: right;\n",
       "    }\n",
       "</style>\n",
       "<table border=\"1\" class=\"dataframe\">\n",
       "  <thead>\n",
       "    <tr style=\"text-align: right;\">\n",
       "      <th></th>\n",
       "      <th>text</th>\n",
       "      <th>toxic</th>\n",
       "      <th>clean_text</th>\n",
       "    </tr>\n",
       "  </thead>\n",
       "  <tbody>\n",
       "    <tr>\n",
       "      <th>0</th>\n",
       "      <td>Explanation\\nWhy the edits made under my usern...</td>\n",
       "      <td>0</td>\n",
       "      <td>explanation why edits make username hardcore m...</td>\n",
       "    </tr>\n",
       "    <tr>\n",
       "      <th>1</th>\n",
       "      <td>D'aww! He matches this background colour I'm s...</td>\n",
       "      <td>0</td>\n",
       "      <td>d aww match background colour i m seemingly st...</td>\n",
       "    </tr>\n",
       "    <tr>\n",
       "      <th>2</th>\n",
       "      <td>Hey man, I'm really not trying to edit war. It...</td>\n",
       "      <td>0</td>\n",
       "      <td>hey man i m really try edit war guy constantly...</td>\n",
       "    </tr>\n",
       "    <tr>\n",
       "      <th>3</th>\n",
       "      <td>\"\\nMore\\nI can't make any real suggestions on ...</td>\n",
       "      <td>0</td>\n",
       "      <td>more i can t make real suggestion improvement...</td>\n",
       "    </tr>\n",
       "    <tr>\n",
       "      <th>4</th>\n",
       "      <td>You, sir, are my hero. Any chance you remember...</td>\n",
       "      <td>0</td>\n",
       "      <td>sir hero chance remember page that s</td>\n",
       "    </tr>\n",
       "  </tbody>\n",
       "</table>\n",
       "</div>"
      ],
      "text/plain": [
       "                                                text  toxic  \\\n",
       "0  Explanation\\nWhy the edits made under my usern...      0   \n",
       "1  D'aww! He matches this background colour I'm s...      0   \n",
       "2  Hey man, I'm really not trying to edit war. It...      0   \n",
       "3  \"\\nMore\\nI can't make any real suggestions on ...      0   \n",
       "4  You, sir, are my hero. Any chance you remember...      0   \n",
       "\n",
       "                                          clean_text  \n",
       "0  explanation why edits make username hardcore m...  \n",
       "1  d aww match background colour i m seemingly st...  \n",
       "2  hey man i m really try edit war guy constantly...  \n",
       "3   more i can t make real suggestion improvement...  \n",
       "4               sir hero chance remember page that s  "
      ]
     },
     "execution_count": 30,
     "metadata": {},
     "output_type": "execute_result"
    }
   ],
   "source": [
    "data.head()"
   ]
  },
  {
   "cell_type": "code",
   "execution_count": 31,
   "metadata": {
    "executionInfo": {
     "elapsed": 314,
     "status": "ok",
     "timestamp": 1678791094785,
     "user": {
      "displayName": "Vasiliy Kuzmin",
      "userId": "10187521586314845244"
     },
     "user_tz": -180
    },
    "id": "R0L34Bx16sn2"
   },
   "outputs": [],
   "source": [
    "target = data['toxic']\n",
    "feature = data['clean_text']"
   ]
  },
  {
   "cell_type": "code",
   "execution_count": 32,
   "metadata": {
    "executionInfo": {
     "elapsed": 388,
     "status": "ok",
     "timestamp": 1678791097057,
     "user": {
      "displayName": "Vasiliy Kuzmin",
      "userId": "10187521586314845244"
     },
     "user_tz": -180
    },
    "id": "DtDjSFk56sn2"
   },
   "outputs": [],
   "source": [
    "# до всех преобразований разделим данные на обучающую и тестовую выборки  \n",
    "feature_train, feature_test, target_train, target_test = train_test_split(feature, \n",
    "                                                                              target, \n",
    "                                                                              test_size=0.10,\n",
    "                                                                              stratify=target,\n",
    "                                                                              shuffle=True, \n",
    "                                                                              random_state=RNDST)"
   ]
  },
  {
   "cell_type": "code",
   "execution_count": 33,
   "metadata": {},
   "outputs": [
    {
     "name": "stdout",
     "output_type": "stream",
     "text": [
      "Размер тренировочной выборки: (143362,)\n",
      "Размер тестовой выборки: (15930,)\n"
     ]
    }
   ],
   "source": [
    "# посмотрим на количество строк с разными классами\n",
    "print('Размер тренировочной выборки:',feature_train.shape)\n",
    "print('Размер тестовой выборки:',feature_test.shape)"
   ]
  },
  {
   "cell_type": "markdown",
   "metadata": {
    "id": "HOjyCV9o6sn3"
   },
   "source": [
    "## Обучение"
   ]
  },
  {
   "cell_type": "markdown",
   "metadata": {
    "id": "uMC9_Grr6sn3"
   },
   "source": [
    "### class_weight = 'balanced'"
   ]
  },
  {
   "cell_type": "code",
   "execution_count": 27,
   "metadata": {
    "executionInfo": {
     "elapsed": 24,
     "status": "aborted",
     "timestamp": 1678788968322,
     "user": {
      "displayName": "Vasiliy Kuzmin",
      "userId": "10187521586314845244"
     },
     "user_tz": -180
    },
    "id": "n6lg1Qio6sn4"
   },
   "outputs": [],
   "source": [
    "#подготовим переменные для сбора данных\n",
    "\n",
    "model_name = []\n",
    "model_F1 = []\n",
    "model_ROC_AUC = []\n",
    "model_fit_time = []"
   ]
  },
  {
   "cell_type": "code",
   "execution_count": 28,
   "metadata": {},
   "outputs": [
    {
     "name": "stdout",
     "output_type": "stream",
     "text": [
      "F1 мера DummyClassifier модели со случайными значениями: 0.10110123391269735\n",
      "\n",
      "AUC ROC DummyClassifier модели со случайными значениями: 0.4998393536640773\n"
     ]
    }
   ],
   "source": [
    "\n",
    "#Будем проверять на адекватность наши модели с моделью которая генерирует ответы с учетом дисбаланса классов\n",
    "\n",
    "dummy_clf = DummyClassifier(constant=0, random_state=RNDST, strategy='stratified')\n",
    "\n",
    "dummy_clf.fit(feature_train, target_train)\n",
    "\n",
    "predicted_dummy = dummy_clf.predict(feature_train)\n",
    "\n",
    "dummy_f1_scores = f1_score(target_train, predicted_dummy)\n",
    "dummy_roc_auc_score = roc_auc_score(target_train, dummy_clf.predict_proba(feature_train)[:, 1])\n",
    "\n",
    "print(\"F1 мера DummyClassifier модели со случайными значениями:\", dummy_f1_scores)\n",
    "\n",
    "print()\n",
    "\n",
    "print(\"AUC ROC DummyClassifier модели со случайными значениями:\", dummy_roc_auc_score)\n"
   ]
  },
  {
   "cell_type": "markdown",
   "metadata": {
    "id": "lk1GR-my6sn4"
   },
   "source": [
    "#### LogisticRegression"
   ]
  },
  {
   "cell_type": "code",
   "execution_count": 29,
   "metadata": {
    "executionInfo": {
     "elapsed": 23,
     "status": "aborted",
     "timestamp": 1678788968323,
     "user": {
      "displayName": "Vasiliy Kuzmin",
      "userId": "10187521586314845244"
     },
     "user_tz": -180
    },
    "id": "hmpkGHP16sn5"
   },
   "outputs": [
    {
     "data": {
      "text/plain": [
       "Pipeline(steps=[('vect', TfidfVectorizer()),\n",
       "                ('clf', LogisticRegression(class_weight='balanced'))])"
      ]
     },
     "execution_count": 29,
     "metadata": {},
     "output_type": "execute_result"
    }
   ],
   "source": [
    "pipeline_lr_balanced = Pipeline(\n",
    "    [\n",
    "        (\"vect\", TfidfVectorizer(norm=\"l2\")),\n",
    "        (\"clf\", LogisticRegression(class_weight='balanced')),\n",
    "    ]\n",
    ")\n",
    "pipeline_lr_balanced"
   ]
  },
  {
   "cell_type": "code",
   "execution_count": 30,
   "metadata": {
    "executionInfo": {
     "elapsed": 7,
     "status": "ok",
     "timestamp": 1678793357750,
     "user": {
      "displayName": "Vasiliy Kuzmin",
      "userId": "10187521586314845244"
     },
     "user_tz": -180
    },
    "id": "RPAL9COD6sn6"
   },
   "outputs": [],
   "source": [
    "parameter_grid__lr = {\n",
    "    \"vect__max_df\": (0.5, 0.7),    # процент документов в которых встречаются эти слова\n",
    "    \"vect__min_df\": (3, 5),        # минимальное количество документов, которые должны содержать это слово\n",
    "    \"vect__ngram_range\": ((1, 1), (1, 2)),\n",
    "    \"clf__solver\": ('liblinear', 'lbfgs'),\n",
    "    \"clf__C\": (6, 9, 12)\n",
    "                    }\n",
    "\n",
    "scoring = {\"auc\": \"roc_auc\", \"f_1\": \"f1\"}"
   ]
  },
  {
   "cell_type": "code",
   "execution_count": 31,
   "metadata": {
    "executionInfo": {
     "elapsed": 24,
     "status": "aborted",
     "timestamp": 1678788968324,
     "user": {
      "displayName": "Vasiliy Kuzmin",
      "userId": "10187521586314845244"
     },
     "user_tz": -180
    },
    "id": "8Ir2Rfbg6sn6",
    "scrolled": false
   },
   "outputs": [
    {
     "name": "stdout",
     "output_type": "stream",
     "text": [
      "Fitting 3 folds for each of 40 candidates, totalling 120 fits\n",
      "Лучший результат F1 меры модели LogisticRegression на кросвалидационной выборке: 0.7711976723672483\n",
      "\n",
      "время обучения модели: 753.89 секунд \n",
      "\n",
      "параметры модели для лучшего результата F1 меры на кросвалидационной выборке: \n",
      " {'vect__ngram_range': (1, 2), 'vect__min_df': 3, 'vect__max_df': 0.7, 'clf__solver': 'lbfgs', 'clf__C': 9}\n"
     ]
    }
   ],
   "source": [
    "rs_pipeline_lr_balanced = RandomizedSearchCV(\n",
    "    estimator=pipeline_lr_balanced,\n",
    "    param_distributions=parameter_grid__lr,\n",
    "    n_iter=40,\n",
    "    random_state=RNDST,\n",
    "    n_jobs=-1,\n",
    "    verbose=3,\n",
    "    scoring=scoring,\n",
    "    refit=\"f_1\",\n",
    "    cv=3\n",
    ")\n",
    "\n",
    "start = time()\n",
    "rs_pipeline_lr_balanced.fit(feature_train, target_train)\n",
    "fit_time_rs_lr = time() - start\n",
    "\n",
    "print('Лучший результат F1 меры модели LogisticRegression на кросвалидационной выборке:', \n",
    "      rs_pipeline_lr_balanced.best_score_)\n",
    "print()\n",
    "print('время обучения модели: %.2F секунд' %fit_time_rs_lr, '\\n')\n",
    "print('параметры модели для лучшего результата F1 меры на кросвалидационной выборке:', '\\n',\n",
    "      rs_pipeline_lr_balanced.best_params_)"
   ]
  },
  {
   "cell_type": "code",
   "execution_count": 32,
   "metadata": {
    "executionInfo": {
     "elapsed": 25,
     "status": "aborted",
     "timestamp": 1678788968325,
     "user": {
      "displayName": "Vasiliy Kuzmin",
      "userId": "10187521586314845244"
     },
     "user_tz": -180
    },
    "id": "5qu8bzBw6sn7"
   },
   "outputs": [],
   "source": [
    "lr_balanced_df = pd.DataFrame(rs_pipeline_lr_balanced.cv_results_\n",
    "                 ).sort_values(by='mean_test_f_1',ascending=False).reset_index(drop=True)"
   ]
  },
  {
   "cell_type": "code",
   "execution_count": 33,
   "metadata": {
    "executionInfo": {
     "elapsed": 24,
     "status": "aborted",
     "timestamp": 1678788968325,
     "user": {
      "displayName": "Vasiliy Kuzmin",
      "userId": "10187521586314845244"
     },
     "user_tz": -180
    },
    "id": "Er0Efv-I6sn8",
    "scrolled": true
   },
   "outputs": [
    {
     "data": {
      "text/html": [
       "<div>\n",
       "<style scoped>\n",
       "    .dataframe tbody tr th:only-of-type {\n",
       "        vertical-align: middle;\n",
       "    }\n",
       "\n",
       "    .dataframe tbody tr th {\n",
       "        vertical-align: top;\n",
       "    }\n",
       "\n",
       "    .dataframe thead th {\n",
       "        text-align: right;\n",
       "    }\n",
       "</style>\n",
       "<table border=\"1\" class=\"dataframe\">\n",
       "  <thead>\n",
       "    <tr style=\"text-align: right;\">\n",
       "      <th></th>\n",
       "      <th>mean_fit_time</th>\n",
       "      <th>mean_score_time</th>\n",
       "      <th>params</th>\n",
       "      <th>mean_test_auc</th>\n",
       "      <th>mean_test_f_1</th>\n",
       "    </tr>\n",
       "  </thead>\n",
       "  <tbody>\n",
       "    <tr>\n",
       "      <th>0</th>\n",
       "      <td>27.412352</td>\n",
       "      <td>10.842972</td>\n",
       "      <td>{'vect__ngram_range': (1, 2), 'vect__min_df': ...</td>\n",
       "      <td>0.967295</td>\n",
       "      <td>0.771198</td>\n",
       "    </tr>\n",
       "    <tr>\n",
       "      <th>1</th>\n",
       "      <td>26.017189</td>\n",
       "      <td>11.728024</td>\n",
       "      <td>{'vect__ngram_range': (1, 2), 'vect__min_df': ...</td>\n",
       "      <td>0.967295</td>\n",
       "      <td>0.771198</td>\n",
       "    </tr>\n",
       "    <tr>\n",
       "      <th>2</th>\n",
       "      <td>21.211163</td>\n",
       "      <td>10.241626</td>\n",
       "      <td>{'vect__ngram_range': (1, 2), 'vect__min_df': ...</td>\n",
       "      <td>0.967291</td>\n",
       "      <td>0.771197</td>\n",
       "    </tr>\n",
       "    <tr>\n",
       "      <th>3</th>\n",
       "      <td>22.391991</td>\n",
       "      <td>11.406288</td>\n",
       "      <td>{'vect__ngram_range': (1, 2), 'vect__min_df': ...</td>\n",
       "      <td>0.967291</td>\n",
       "      <td>0.771197</td>\n",
       "    </tr>\n",
       "    <tr>\n",
       "      <th>4</th>\n",
       "      <td>21.258325</td>\n",
       "      <td>10.937131</td>\n",
       "      <td>{'vect__ngram_range': (1, 2), 'vect__min_df': ...</td>\n",
       "      <td>0.966733</td>\n",
       "      <td>0.770748</td>\n",
       "    </tr>\n",
       "  </tbody>\n",
       "</table>\n",
       "</div>"
      ],
      "text/plain": [
       "   mean_fit_time  mean_score_time  \\\n",
       "0      27.412352        10.842972   \n",
       "1      26.017189        11.728024   \n",
       "2      21.211163        10.241626   \n",
       "3      22.391991        11.406288   \n",
       "4      21.258325        10.937131   \n",
       "\n",
       "                                              params  mean_test_auc  \\\n",
       "0  {'vect__ngram_range': (1, 2), 'vect__min_df': ...       0.967295   \n",
       "1  {'vect__ngram_range': (1, 2), 'vect__min_df': ...       0.967295   \n",
       "2  {'vect__ngram_range': (1, 2), 'vect__min_df': ...       0.967291   \n",
       "3  {'vect__ngram_range': (1, 2), 'vect__min_df': ...       0.967291   \n",
       "4  {'vect__ngram_range': (1, 2), 'vect__min_df': ...       0.966733   \n",
       "\n",
       "   mean_test_f_1  \n",
       "0       0.771198  \n",
       "1       0.771198  \n",
       "2       0.771197  \n",
       "3       0.771197  \n",
       "4       0.770748  "
      ]
     },
     "execution_count": 33,
     "metadata": {},
     "output_type": "execute_result"
    }
   ],
   "source": [
    "lr_balanced_df[['mean_fit_time', 'mean_score_time', 'params', 'mean_test_auc', 'mean_test_f_1']].head()"
   ]
  },
  {
   "cell_type": "code",
   "execution_count": 34,
   "metadata": {
    "id": "4UyN0mYA6sn9"
   },
   "outputs": [
    {
     "data": {
      "text/plain": [
       "['LogisticRegression_class_weight_balanced']"
      ]
     },
     "execution_count": 34,
     "metadata": {},
     "output_type": "execute_result"
    }
   ],
   "source": [
    "#Соберем данные для итоговой таблицы\n",
    "\n",
    "model_name.append('LogisticRegression_class_weight_balanced')\n",
    "model_F1.append(rs_pipeline_lr_balanced.best_score_)\n",
    "model_fit_time.append(fit_time_rs_lr)\n",
    "model_ROC_AUC.append(lr_balanced_df.mean_test_auc[0])\n",
    "\n",
    "model_name"
   ]
  },
  {
   "cell_type": "markdown",
   "metadata": {
    "id": "lfIumgzq6sn9"
   },
   "source": [
    "#### DecisionTreeClassifier"
   ]
  },
  {
   "cell_type": "code",
   "execution_count": 35,
   "metadata": {
    "executionInfo": {
     "elapsed": 25,
     "status": "aborted",
     "timestamp": 1678788968326,
     "user": {
      "displayName": "Vasiliy Kuzmin",
      "userId": "10187521586314845244"
     },
     "user_tz": -180
    },
    "id": "VP1F7rOz6sn9"
   },
   "outputs": [
    {
     "data": {
      "text/plain": [
       "Pipeline(steps=[('vect', TfidfVectorizer()),\n",
       "                ('dtc',\n",
       "                 DecisionTreeClassifier(class_weight='balanced',\n",
       "                                        min_samples_leaf=2,\n",
       "                                        min_samples_split=4))])"
      ]
     },
     "execution_count": 35,
     "metadata": {},
     "output_type": "execute_result"
    }
   ],
   "source": [
    "pipeline_dtc_balanced = Pipeline(\n",
    "    [\n",
    "        (\"vect\", TfidfVectorizer(norm=\"l2\")),\n",
    "        (\"dtc\", DecisionTreeClassifier(min_samples_split=4,\n",
    "                                       min_samples_leaf=2,\n",
    "                                       class_weight='balanced')),\n",
    "    ]\n",
    ")\n",
    "pipeline_dtc_balanced"
   ]
  },
  {
   "cell_type": "code",
   "execution_count": 36,
   "metadata": {
    "executionInfo": {
     "elapsed": 25,
     "status": "aborted",
     "timestamp": 1678788968326,
     "user": {
      "displayName": "Vasiliy Kuzmin",
      "userId": "10187521586314845244"
     },
     "user_tz": -180
    },
    "id": "6y1orfYW6sn-"
   },
   "outputs": [],
   "source": [
    "parameter_grid__dtc = {\n",
    "    \"vect__max_df\": (0.5, 0.7),\n",
    "    \"vect__min_df\": (3, 5),\n",
    "    \"vect__ngram_range\": ((1, 1), (1, 2)),\n",
    "    \"dtc__max_depth\": (20, 40, 60)\n",
    "}\n",
    "\n"
   ]
  },
  {
   "cell_type": "code",
   "execution_count": 37,
   "metadata": {
    "executionInfo": {
     "elapsed": 26,
     "status": "aborted",
     "timestamp": 1678788968327,
     "user": {
      "displayName": "Vasiliy Kuzmin",
      "userId": "10187521586314845244"
     },
     "user_tz": -180
    },
    "id": "TQ9MUmFm6sn-"
   },
   "outputs": [
    {
     "name": "stdout",
     "output_type": "stream",
     "text": [
      "Fitting 3 folds for each of 24 candidates, totalling 72 fits\n",
      "Лучший результат F1 меры модели DecisionTreeClassifier на кросвалидационной выборке: 0.6308278386601646\n",
      "\n",
      "время обучения модели: 1144.10 секунд \n",
      "\n",
      "параметры модели для лучшего результата F1 меры на кросвалидационной выборке: \n",
      " {'vect__ngram_range': (1, 1), 'vect__min_df': 5, 'vect__max_df': 0.7, 'dtc__max_depth': 40}\n"
     ]
    }
   ],
   "source": [
    "rs_pipeline_dtc_balanced = RandomizedSearchCV(\n",
    "    estimator=pipeline_dtc_balanced,\n",
    "    param_distributions=parameter_grid__dtc,\n",
    "    n_iter=40,\n",
    "    random_state=RNDST,\n",
    "    n_jobs=-1,\n",
    "    verbose=2,\n",
    "    scoring=scoring,\n",
    "    refit=\"f_1\",\n",
    "    cv=3\n",
    ")\n",
    "\n",
    "start = time()\n",
    "rs_pipeline_dtc_balanced.fit(feature_train, target_train)\n",
    "fit_time_rs_dtc = time() - start\n",
    "\n",
    "\n",
    "print('Лучший результат F1 меры модели DecisionTreeClassifier на кросвалидационной выборке:', \n",
    "      rs_pipeline_dtc_balanced.best_score_)\n",
    "print()\n",
    "print('время обучения модели: %.2F секунд' %fit_time_rs_dtc, '\\n')\n",
    "print('параметры модели для лучшего результата F1 меры на кросвалидационной выборке:', '\\n',\n",
    "      rs_pipeline_dtc_balanced.best_params_)"
   ]
  },
  {
   "cell_type": "code",
   "execution_count": 38,
   "metadata": {
    "executionInfo": {
     "elapsed": 26,
     "status": "aborted",
     "timestamp": 1678788968327,
     "user": {
      "displayName": "Vasiliy Kuzmin",
      "userId": "10187521586314845244"
     },
     "user_tz": -180
    },
    "id": "U7Nx5wd36sn_"
   },
   "outputs": [],
   "source": [
    "dtc_balanced_df = pd.DataFrame(rs_pipeline_dtc_balanced.cv_results_\n",
    "                 ).sort_values(by='mean_test_f_1',ascending=False).reset_index(drop=True)\n"
   ]
  },
  {
   "cell_type": "code",
   "execution_count": 39,
   "metadata": {
    "executionInfo": {
     "elapsed": 27,
     "status": "aborted",
     "timestamp": 1678788968328,
     "user": {
      "displayName": "Vasiliy Kuzmin",
      "userId": "10187521586314845244"
     },
     "user_tz": -180
    },
    "id": "op4L7HHL6sn_"
   },
   "outputs": [
    {
     "data": {
      "text/html": [
       "<div>\n",
       "<style scoped>\n",
       "    .dataframe tbody tr th:only-of-type {\n",
       "        vertical-align: middle;\n",
       "    }\n",
       "\n",
       "    .dataframe tbody tr th {\n",
       "        vertical-align: top;\n",
       "    }\n",
       "\n",
       "    .dataframe thead th {\n",
       "        text-align: right;\n",
       "    }\n",
       "</style>\n",
       "<table border=\"1\" class=\"dataframe\">\n",
       "  <thead>\n",
       "    <tr style=\"text-align: right;\">\n",
       "      <th></th>\n",
       "      <th>mean_fit_time</th>\n",
       "      <th>mean_score_time</th>\n",
       "      <th>params</th>\n",
       "      <th>mean_test_auc</th>\n",
       "      <th>mean_test_f_1</th>\n",
       "    </tr>\n",
       "  </thead>\n",
       "  <tbody>\n",
       "    <tr>\n",
       "      <th>0</th>\n",
       "      <td>34.934394</td>\n",
       "      <td>5.336501</td>\n",
       "      <td>{'vect__ngram_range': (1, 1), 'vect__min_df': ...</td>\n",
       "      <td>0.817862</td>\n",
       "      <td>0.630828</td>\n",
       "    </tr>\n",
       "    <tr>\n",
       "      <th>1</th>\n",
       "      <td>35.296570</td>\n",
       "      <td>5.431610</td>\n",
       "      <td>{'vect__ngram_range': (1, 1), 'vect__min_df': ...</td>\n",
       "      <td>0.816618</td>\n",
       "      <td>0.630309</td>\n",
       "    </tr>\n",
       "    <tr>\n",
       "      <th>2</th>\n",
       "      <td>37.195930</td>\n",
       "      <td>5.573624</td>\n",
       "      <td>{'vect__ngram_range': (1, 1), 'vect__min_df': ...</td>\n",
       "      <td>0.815112</td>\n",
       "      <td>0.630286</td>\n",
       "    </tr>\n",
       "    <tr>\n",
       "      <th>3</th>\n",
       "      <td>36.629839</td>\n",
       "      <td>5.322571</td>\n",
       "      <td>{'vect__ngram_range': (1, 1), 'vect__min_df': ...</td>\n",
       "      <td>0.814201</td>\n",
       "      <td>0.629821</td>\n",
       "    </tr>\n",
       "    <tr>\n",
       "      <th>4</th>\n",
       "      <td>80.092042</td>\n",
       "      <td>11.499355</td>\n",
       "      <td>{'vect__ngram_range': (1, 2), 'vect__min_df': ...</td>\n",
       "      <td>0.811725</td>\n",
       "      <td>0.620661</td>\n",
       "    </tr>\n",
       "  </tbody>\n",
       "</table>\n",
       "</div>"
      ],
      "text/plain": [
       "   mean_fit_time  mean_score_time  \\\n",
       "0      34.934394         5.336501   \n",
       "1      35.296570         5.431610   \n",
       "2      37.195930         5.573624   \n",
       "3      36.629839         5.322571   \n",
       "4      80.092042        11.499355   \n",
       "\n",
       "                                              params  mean_test_auc  \\\n",
       "0  {'vect__ngram_range': (1, 1), 'vect__min_df': ...       0.817862   \n",
       "1  {'vect__ngram_range': (1, 1), 'vect__min_df': ...       0.816618   \n",
       "2  {'vect__ngram_range': (1, 1), 'vect__min_df': ...       0.815112   \n",
       "3  {'vect__ngram_range': (1, 1), 'vect__min_df': ...       0.814201   \n",
       "4  {'vect__ngram_range': (1, 2), 'vect__min_df': ...       0.811725   \n",
       "\n",
       "   mean_test_f_1  \n",
       "0       0.630828  \n",
       "1       0.630309  \n",
       "2       0.630286  \n",
       "3       0.629821  \n",
       "4       0.620661  "
      ]
     },
     "execution_count": 39,
     "metadata": {},
     "output_type": "execute_result"
    }
   ],
   "source": [
    "dtc_balanced_df[['mean_fit_time', 'mean_score_time', 'params', 'mean_test_auc', 'mean_test_f_1']].head()"
   ]
  },
  {
   "cell_type": "code",
   "execution_count": 40,
   "metadata": {},
   "outputs": [
    {
     "data": {
      "text/plain": [
       "['LogisticRegression_class_weight_balanced',\n",
       " 'DecisionTreeClassifier_class_weight_balanced']"
      ]
     },
     "execution_count": 40,
     "metadata": {},
     "output_type": "execute_result"
    }
   ],
   "source": [
    "#Соберем данные для итоговой таблицы\n",
    "\n",
    "model_name.append('DecisionTreeClassifier_class_weight_balanced')\n",
    "model_F1.append(rs_pipeline_dtc_balanced.best_score_)\n",
    "model_fit_time.append(fit_time_rs_dtc)\n",
    "model_ROC_AUC.append(dtc_balanced_df.mean_test_auc[0])\n",
    "\n",
    "model_name"
   ]
  },
  {
   "cell_type": "markdown",
   "metadata": {
    "id": "crGy3QxG6soA"
   },
   "source": [
    "#### LightGBM Classifier"
   ]
  },
  {
   "cell_type": "code",
   "execution_count": 41,
   "metadata": {
    "executionInfo": {
     "elapsed": 345,
     "status": "ok",
     "timestamp": 1678801132791,
     "user": {
      "displayName": "Vasiliy Kuzmin",
      "userId": "10187521586314845244"
     },
     "user_tz": -180
    },
    "id": "GZnQg0vg6soA"
   },
   "outputs": [],
   "source": [
    "from lightgbm import LGBMClassifier"
   ]
  },
  {
   "cell_type": "code",
   "execution_count": 42,
   "metadata": {
    "executionInfo": {
     "elapsed": 30,
     "status": "aborted",
     "timestamp": 1678788968331,
     "user": {
      "displayName": "Vasiliy Kuzmin",
      "userId": "10187521586314845244"
     },
     "user_tz": -180
    },
    "id": "2QKj1ZY76soB"
   },
   "outputs": [
    {
     "data": {
      "text/plain": [
       "Pipeline(steps=[('vect', TfidfVectorizer(norm='l1')),\n",
       "                ('lgbm',\n",
       "                 LGBMClassifier(class_weight='balanced', learning_rate=0.3,\n",
       "                                n_estimators=500))])"
      ]
     },
     "execution_count": 42,
     "metadata": {},
     "output_type": "execute_result"
    }
   ],
   "source": [
    "pipeline_lgbm_balanced = Pipeline([(\"vect\", TfidfVectorizer(norm=\"l1\", ngram_range=(1, 1))),\n",
    "                                   (\"lgbm\", LGBMClassifier(learning_rate=0.3, \n",
    "                                                           class_weight='balanced', \n",
    "                                                           n_estimators=500))])\n",
    "pipeline_lgbm_balanced"
   ]
  },
  {
   "cell_type": "code",
   "execution_count": 43,
   "metadata": {
    "executionInfo": {
     "elapsed": 31,
     "status": "aborted",
     "timestamp": 1678788968332,
     "user": {
      "displayName": "Vasiliy Kuzmin",
      "userId": "10187521586314845244"
     },
     "user_tz": -180
    },
    "id": "TsbrKckl6soB"
   },
   "outputs": [],
   "source": [
    "parameter_grid__lgbm = {\n",
    "    \"lgbm__max_depth\": (20, 30)\n",
    "}"
   ]
  },
  {
   "cell_type": "code",
   "execution_count": 44,
   "metadata": {
    "executionInfo": {
     "elapsed": 31,
     "status": "aborted",
     "timestamp": 1678788968333,
     "user": {
      "displayName": "Vasiliy Kuzmin",
      "userId": "10187521586314845244"
     },
     "user_tz": -180
    },
    "id": "BA_bs2ik6soC"
   },
   "outputs": [
    {
     "name": "stdout",
     "output_type": "stream",
     "text": [
      "Fitting 3 folds for each of 2 candidates, totalling 6 fits\n",
      "Лучший результат F1 меры модели LGBMClassifier на кросвалидационной выборке: 0.7638197628886467\n",
      "\n",
      "время обучения модели: 434.41 секунд \n",
      "\n",
      "параметры модели для лучшего результата F1 меры на кросвалидационной выборке: \n",
      " {'lgbm__max_depth': 20}\n"
     ]
    }
   ],
   "source": [
    "rs_pipeline_lgbm_balanced = RandomizedSearchCV(\n",
    "    estimator=pipeline_lgbm_balanced,\n",
    "    param_distributions=parameter_grid__lgbm,\n",
    "    n_iter=20,\n",
    "    random_state=RNDST,\n",
    "    n_jobs=-1,\n",
    "    verbose=2,\n",
    "    scoring=scoring,\n",
    "    refit=\"f_1\",\n",
    "    cv=3\n",
    ")\n",
    "\n",
    "start = time()\n",
    "rs_pipeline_lgbm_balanced.fit(feature_train, target_train)\n",
    "fit_time_rs_lgbm = time() - start\n",
    "\n",
    "F1_rs_lgb = abs(rs_pipeline_lgbm_balanced.best_score_)\n",
    "\n",
    "print('Лучший результат F1 меры модели LGBMClassifier на кросвалидационной выборке:', \n",
    "      rs_pipeline_lgbm_balanced.best_score_)\n",
    "print()\n",
    "print('время обучения модели: %.2F секунд' %fit_time_rs_lgbm, '\\n')\n",
    "print('параметры модели для лучшего результата F1 меры на кросвалидационной выборке:', '\\n',\n",
    "      rs_pipeline_lgbm_balanced.best_params_)"
   ]
  },
  {
   "cell_type": "code",
   "execution_count": 45,
   "metadata": {
    "executionInfo": {
     "elapsed": 33,
     "status": "aborted",
     "timestamp": 1678788968335,
     "user": {
      "displayName": "Vasiliy Kuzmin",
      "userId": "10187521586314845244"
     },
     "user_tz": -180
    },
    "id": "0dPcBiKb6soD"
   },
   "outputs": [
    {
     "data": {
      "text/html": [
       "<div>\n",
       "<style scoped>\n",
       "    .dataframe tbody tr th:only-of-type {\n",
       "        vertical-align: middle;\n",
       "    }\n",
       "\n",
       "    .dataframe tbody tr th {\n",
       "        vertical-align: top;\n",
       "    }\n",
       "\n",
       "    .dataframe thead th {\n",
       "        text-align: right;\n",
       "    }\n",
       "</style>\n",
       "<table border=\"1\" class=\"dataframe\">\n",
       "  <thead>\n",
       "    <tr style=\"text-align: right;\">\n",
       "      <th></th>\n",
       "      <th>mean_fit_time</th>\n",
       "      <th>mean_score_time</th>\n",
       "      <th>params</th>\n",
       "      <th>mean_test_auc</th>\n",
       "      <th>mean_test_f_1</th>\n",
       "    </tr>\n",
       "  </thead>\n",
       "  <tbody>\n",
       "    <tr>\n",
       "      <th>0</th>\n",
       "      <td>177.298676</td>\n",
       "      <td>13.952337</td>\n",
       "      <td>{'lgbm__max_depth': 20}</td>\n",
       "      <td>0.955372</td>\n",
       "      <td>0.76382</td>\n",
       "    </tr>\n",
       "    <tr>\n",
       "      <th>1</th>\n",
       "      <td>163.808088</td>\n",
       "      <td>8.846916</td>\n",
       "      <td>{'lgbm__max_depth': 30}</td>\n",
       "      <td>0.954485</td>\n",
       "      <td>0.76148</td>\n",
       "    </tr>\n",
       "  </tbody>\n",
       "</table>\n",
       "</div>"
      ],
      "text/plain": [
       "   mean_fit_time  mean_score_time                   params  mean_test_auc  \\\n",
       "0     177.298676        13.952337  {'lgbm__max_depth': 20}       0.955372   \n",
       "1     163.808088         8.846916  {'lgbm__max_depth': 30}       0.954485   \n",
       "\n",
       "   mean_test_f_1  \n",
       "0        0.76382  \n",
       "1        0.76148  "
      ]
     },
     "execution_count": 45,
     "metadata": {},
     "output_type": "execute_result"
    }
   ],
   "source": [
    "lgbm_balanced_df = pd.DataFrame(rs_pipeline_lgbm_balanced.cv_results_\n",
    "                 ).sort_values(by='mean_test_f_1',ascending=False).reset_index(drop=True)\n",
    "\n",
    "lgbm_balanced_df[['mean_fit_time', 'mean_score_time', 'params', 'mean_test_auc', 'mean_test_f_1']].head()"
   ]
  },
  {
   "cell_type": "code",
   "execution_count": 46,
   "metadata": {},
   "outputs": [
    {
     "data": {
      "text/plain": [
       "['LogisticRegression_class_weight_balanced',\n",
       " 'DecisionTreeClassifier_class_weight_balanced',\n",
       " 'LGBMClassifier_class_weight_balanced']"
      ]
     },
     "execution_count": 46,
     "metadata": {},
     "output_type": "execute_result"
    }
   ],
   "source": [
    "#Соберем данные для итоговой таблицы\n",
    "\n",
    "model_name.append('LGBMClassifier_class_weight_balanced')\n",
    "model_F1.append(rs_pipeline_lgbm_balanced.best_score_)\n",
    "model_fit_time.append(fit_time_rs_lgbm)\n",
    "model_ROC_AUC.append(lgbm_balanced_df.mean_test_auc[0])\n",
    "\n",
    "model_name"
   ]
  },
  {
   "cell_type": "code",
   "execution_count": 47,
   "metadata": {
    "id": "DySoNoe96soE"
   },
   "outputs": [
    {
     "data": {
      "text/html": [
       "<div>\n",
       "<style scoped>\n",
       "    .dataframe tbody tr th:only-of-type {\n",
       "        vertical-align: middle;\n",
       "    }\n",
       "\n",
       "    .dataframe tbody tr th {\n",
       "        vertical-align: top;\n",
       "    }\n",
       "\n",
       "    .dataframe thead th {\n",
       "        text-align: right;\n",
       "    }\n",
       "</style>\n",
       "<table border=\"1\" class=\"dataframe\">\n",
       "  <thead>\n",
       "    <tr style=\"text-align: right;\">\n",
       "      <th></th>\n",
       "      <th>Name</th>\n",
       "      <th>f1_scores</th>\n",
       "      <th>roc_auc</th>\n",
       "      <th>fit_time</th>\n",
       "    </tr>\n",
       "  </thead>\n",
       "  <tbody>\n",
       "    <tr>\n",
       "      <th>0</th>\n",
       "      <td>LogisticRegression_class_weight_balanced</td>\n",
       "      <td>0.771198</td>\n",
       "      <td>0.967295</td>\n",
       "      <td>753.891382</td>\n",
       "    </tr>\n",
       "    <tr>\n",
       "      <th>1</th>\n",
       "      <td>LGBMClassifier_class_weight_balanced</td>\n",
       "      <td>0.763820</td>\n",
       "      <td>0.955372</td>\n",
       "      <td>434.413973</td>\n",
       "    </tr>\n",
       "    <tr>\n",
       "      <th>2</th>\n",
       "      <td>DecisionTreeClassifier_class_weight_balanced</td>\n",
       "      <td>0.630828</td>\n",
       "      <td>0.817862</td>\n",
       "      <td>1144.100445</td>\n",
       "    </tr>\n",
       "  </tbody>\n",
       "</table>\n",
       "</div>"
      ],
      "text/plain": [
       "                                           Name  f1_scores   roc_auc  \\\n",
       "0      LogisticRegression_class_weight_balanced   0.771198  0.967295   \n",
       "1          LGBMClassifier_class_weight_balanced   0.763820  0.955372   \n",
       "2  DecisionTreeClassifier_class_weight_balanced   0.630828  0.817862   \n",
       "\n",
       "      fit_time  \n",
       "0   753.891382  \n",
       "1   434.413973  \n",
       "2  1144.100445  "
      ]
     },
     "execution_count": 47,
     "metadata": {},
     "output_type": "execute_result"
    }
   ],
   "source": [
    "# Соберем в датафрейм полученные результаты со всех моделей.\n",
    "\n",
    "scores = pd.DataFrame( {'Name' : model_name, \n",
    "                       'f1_scores' : model_F1, \n",
    "                       'roc_auc' : model_ROC_AUC,\n",
    "                       'fit_time' : model_fit_time}) \n",
    "\n",
    "\n",
    "scores.sort_values(by='f1_scores', ascending=False).reset_index(drop=True)"
   ]
  },
  {
   "cell_type": "code",
   "execution_count": 49,
   "metadata": {
    "scrolled": true
   },
   "outputs": [
    {
     "data": {
      "image/png": "[encoded data removed]",
      "text/plain": [
       "<Figure size 432x288 with 1 Axes>"
      ]
     },
     "metadata": {
      "needs_background": "light"
     },
     "output_type": "display_data"
    }
   ],
   "source": [
    "#результаты F1 меры на моделях с использованием 'class_weight': 'balanced'\n",
    "\n",
    "ax = scores.plot.bar(y='f1_scores', \n",
    "                     x='Name', rot=90)\n",
    "\n",
    "\n",
    "plt.xlabel(\"Модели\")\n",
    "plt.ylabel(\"Scores\")\n",
    "plt.title(\"Результаты F1 меры на моделях с использованием 'class_weight': 'balanced'\")\n",
    "plt.legend([\"f1_scores\"])\n",
    "plt.grid(b=True, axis='y')\n",
    "\n",
    "plt.show()"
   ]
  },
  {
   "cell_type": "markdown",
   "metadata": {
    "id": "34R8lRVy6soE"
   },
   "source": [
    "### Функция RandomUnderSampler для балансировки классов путем уменьшения мажоритарного класса"
   ]
  },
  {
   "cell_type": "markdown",
   "metadata": {
    "id": "j8_nmG3K6soF"
   },
   "source": [
    "#### LogisticRegression"
   ]
  },
  {
   "cell_type": "code",
   "execution_count": 50,
   "metadata": {
    "executionInfo": {
     "elapsed": 35,
     "status": "aborted",
     "timestamp": 1678788968337,
     "user": {
      "displayName": "Vasiliy Kuzmin",
      "userId": "10187521586314845244"
     },
     "user_tz": -180
    },
    "id": "peoKEOuL6soF"
   },
   "outputs": [
    {
     "data": {
      "text/plain": [
       "Pipeline(steps=[('tfidfvectorizer', TfidfVectorizer()),\n",
       "                ('randomundersampler', RandomUnderSampler(random_state=1234)),\n",
       "                ('logisticregression', LogisticRegression())])"
      ]
     },
     "execution_count": 50,
     "metadata": {},
     "output_type": "execute_result"
    }
   ],
   "source": [
    "\n",
    "pipeline_lr_undersample = make_pipeline(TfidfVectorizer(norm=\"l2\", ngram_range=(1, 1)), \n",
    "                                        RandomUnderSampler(random_state=RNDST), \n",
    "                                        LogisticRegression())\n",
    "\n",
    "pipeline_lr_undersample"
   ]
  },
  {
   "cell_type": "code",
   "execution_count": 51,
   "metadata": {
    "executionInfo": {
     "elapsed": 35,
     "status": "aborted",
     "timestamp": 1678788968337,
     "user": {
      "displayName": "Vasiliy Kuzmin",
      "userId": "10187521586314845244"
     },
     "user_tz": -180
    },
    "id": "DryiKRVj6soG"
   },
   "outputs": [],
   "source": [
    "parameter_grid__pipe_lr_undersample = {\n",
    "    \"tfidfvectorizer__max_df\": (0.5, 0.7),\n",
    "    \"tfidfvectorizer__min_df\": (3, 5),\n",
    "    \"logisticregression__solver\": ('liblinear', 'lbfgs'),\n",
    "    \"logisticregression__C\": (6, 9, 12)\n",
    "}"
   ]
  },
  {
   "cell_type": "code",
   "execution_count": 53,
   "metadata": {
    "executionInfo": {
     "elapsed": 36,
     "status": "aborted",
     "timestamp": 1678788968338,
     "user": {
      "displayName": "Vasiliy Kuzmin",
      "userId": "10187521586314845244"
     },
     "user_tz": -180
    },
    "id": "3xPTxXlC6soG"
   },
   "outputs": [
    {
     "name": "stdout",
     "output_type": "stream",
     "text": [
      "Fitting 3 folds for each of 24 candidates, totalling 72 fits\n",
      "Лучший результат F1 меры модели LogisticRegression на кросвалидационной выборке: 0.6816716492314804 \n",
      "\n",
      "время обучения модели: 221.93 секунд\n"
     ]
    }
   ],
   "source": [
    "rs_pipeline_lr_undersample = RandomizedSearchCV(\n",
    "    estimator=pipeline_lr_undersample,\n",
    "    param_distributions=parameter_grid__pipe_lr_undersample,\n",
    "    n_iter=40,\n",
    "    random_state=RNDST,\n",
    "    n_jobs=-1,\n",
    "    verbose=3,\n",
    "    scoring=scoring,\n",
    "    refit=\"f_1\",\n",
    "    cv=3\n",
    ")\n",
    "\n",
    "start = time()\n",
    "\n",
    "rs_pipeline_lr_undersample.fit(feature_train, target_train)\n",
    "\n",
    "fit_time_rs_lr_undersample = time() - start\n",
    "\n",
    "print('Лучший результат F1 меры модели LogisticRegression на кросвалидационной выборке:', \n",
    "      rs_pipeline_lr_undersample.best_score_, '\\n')\n",
    "\n",
    "print('время обучения модели: %.2F секунд' %fit_time_rs_lr_undersample)\n"
   ]
  },
  {
   "cell_type": "code",
   "execution_count": 54,
   "metadata": {
    "executionInfo": {
     "elapsed": 36,
     "status": "aborted",
     "timestamp": 1678788968338,
     "user": {
      "displayName": "Vasiliy Kuzmin",
      "userId": "10187521586314845244"
     },
     "user_tz": -180
    },
    "id": "RJA8sHIc6soH"
   },
   "outputs": [
    {
     "data": {
      "text/html": [
       "<div>\n",
       "<style scoped>\n",
       "    .dataframe tbody tr th:only-of-type {\n",
       "        vertical-align: middle;\n",
       "    }\n",
       "\n",
       "    .dataframe tbody tr th {\n",
       "        vertical-align: top;\n",
       "    }\n",
       "\n",
       "    .dataframe thead th {\n",
       "        text-align: right;\n",
       "    }\n",
       "</style>\n",
       "<table border=\"1\" class=\"dataframe\">\n",
       "  <thead>\n",
       "    <tr style=\"text-align: right;\">\n",
       "      <th></th>\n",
       "      <th>mean_fit_time</th>\n",
       "      <th>mean_score_time</th>\n",
       "      <th>params</th>\n",
       "      <th>mean_test_auc</th>\n",
       "      <th>mean_test_f_1</th>\n",
       "    </tr>\n",
       "  </thead>\n",
       "  <tbody>\n",
       "    <tr>\n",
       "      <th>0</th>\n",
       "      <td>7.030758</td>\n",
       "      <td>5.327749</td>\n",
       "      <td>{'tfidfvectorizer__min_df': 3, 'tfidfvectorize...</td>\n",
       "      <td>0.963080</td>\n",
       "      <td>0.681672</td>\n",
       "    </tr>\n",
       "    <tr>\n",
       "      <th>1</th>\n",
       "      <td>6.608913</td>\n",
       "      <td>5.218382</td>\n",
       "      <td>{'tfidfvectorizer__min_df': 3, 'tfidfvectorize...</td>\n",
       "      <td>0.963080</td>\n",
       "      <td>0.681672</td>\n",
       "    </tr>\n",
       "    <tr>\n",
       "      <th>2</th>\n",
       "      <td>6.907589</td>\n",
       "      <td>6.004016</td>\n",
       "      <td>{'tfidfvectorizer__min_df': 3, 'tfidfvectorize...</td>\n",
       "      <td>0.963078</td>\n",
       "      <td>0.681601</td>\n",
       "    </tr>\n",
       "    <tr>\n",
       "      <th>3</th>\n",
       "      <td>6.237302</td>\n",
       "      <td>6.193576</td>\n",
       "      <td>{'tfidfvectorizer__min_df': 3, 'tfidfvectorize...</td>\n",
       "      <td>0.963078</td>\n",
       "      <td>0.681601</td>\n",
       "    </tr>\n",
       "    <tr>\n",
       "      <th>4</th>\n",
       "      <td>6.489129</td>\n",
       "      <td>5.291295</td>\n",
       "      <td>{'tfidfvectorizer__min_df': 5, 'tfidfvectorize...</td>\n",
       "      <td>0.962658</td>\n",
       "      <td>0.680118</td>\n",
       "    </tr>\n",
       "  </tbody>\n",
       "</table>\n",
       "</div>"
      ],
      "text/plain": [
       "   mean_fit_time  mean_score_time  \\\n",
       "0       7.030758         5.327749   \n",
       "1       6.608913         5.218382   \n",
       "2       6.907589         6.004016   \n",
       "3       6.237302         6.193576   \n",
       "4       6.489129         5.291295   \n",
       "\n",
       "                                              params  mean_test_auc  \\\n",
       "0  {'tfidfvectorizer__min_df': 3, 'tfidfvectorize...       0.963080   \n",
       "1  {'tfidfvectorizer__min_df': 3, 'tfidfvectorize...       0.963080   \n",
       "2  {'tfidfvectorizer__min_df': 3, 'tfidfvectorize...       0.963078   \n",
       "3  {'tfidfvectorizer__min_df': 3, 'tfidfvectorize...       0.963078   \n",
       "4  {'tfidfvectorizer__min_df': 5, 'tfidfvectorize...       0.962658   \n",
       "\n",
       "   mean_test_f_1  \n",
       "0       0.681672  \n",
       "1       0.681672  \n",
       "2       0.681601  \n",
       "3       0.681601  \n",
       "4       0.680118  "
      ]
     },
     "execution_count": 54,
     "metadata": {},
     "output_type": "execute_result"
    }
   ],
   "source": [
    "rs_pipeline_lr_undersample_df = pd.DataFrame(rs_pipeline_lr_undersample.cv_results_\n",
    "                                            ).sort_values(by='mean_test_f_1',ascending=False).reset_index(drop=True)\n",
    "\n",
    "rs_pipeline_lr_undersample_df[['mean_fit_time', 'mean_score_time', 'params', 'mean_test_auc', 'mean_test_f_1']].head()"
   ]
  },
  {
   "cell_type": "code",
   "execution_count": 55,
   "metadata": {},
   "outputs": [],
   "source": [
    "# добавим данные в итоговую таблицу\n",
    "dicts = [{'Name': 'LogisticRegression_undersample', \n",
    "          'f1_scores': rs_pipeline_lr_undersample.best_score_,\n",
    "          'roc_auc': rs_pipeline_lr_undersample_df.mean_test_auc[0],\n",
    "          'fit_time': fit_time_rs_lr_undersample\n",
    "         }]\n",
    "        \n",
    "scores = scores.append(dicts, ignore_index=True, sort=False)"
   ]
  },
  {
   "cell_type": "code",
   "execution_count": 56,
   "metadata": {},
   "outputs": [
    {
     "data": {
      "text/html": [
       "<div>\n",
       "<style scoped>\n",
       "    .dataframe tbody tr th:only-of-type {\n",
       "        vertical-align: middle;\n",
       "    }\n",
       "\n",
       "    .dataframe tbody tr th {\n",
       "        vertical-align: top;\n",
       "    }\n",
       "\n",
       "    .dataframe thead th {\n",
       "        text-align: right;\n",
       "    }\n",
       "</style>\n",
       "<table border=\"1\" class=\"dataframe\">\n",
       "  <thead>\n",
       "    <tr style=\"text-align: right;\">\n",
       "      <th></th>\n",
       "      <th>Name</th>\n",
       "      <th>f1_scores</th>\n",
       "      <th>roc_auc</th>\n",
       "      <th>fit_time</th>\n",
       "    </tr>\n",
       "  </thead>\n",
       "  <tbody>\n",
       "    <tr>\n",
       "      <th>0</th>\n",
       "      <td>LogisticRegression_class_weight_balanced</td>\n",
       "      <td>0.771198</td>\n",
       "      <td>0.967295</td>\n",
       "      <td>753.891382</td>\n",
       "    </tr>\n",
       "    <tr>\n",
       "      <th>1</th>\n",
       "      <td>DecisionTreeClassifier_class_weight_balanced</td>\n",
       "      <td>0.630828</td>\n",
       "      <td>0.817862</td>\n",
       "      <td>1144.100445</td>\n",
       "    </tr>\n",
       "    <tr>\n",
       "      <th>2</th>\n",
       "      <td>LGBMClassifier_class_weight_balanced</td>\n",
       "      <td>0.763820</td>\n",
       "      <td>0.955372</td>\n",
       "      <td>434.413973</td>\n",
       "    </tr>\n",
       "    <tr>\n",
       "      <th>3</th>\n",
       "      <td>LogisticRegression_undersample</td>\n",
       "      <td>0.681672</td>\n",
       "      <td>0.963080</td>\n",
       "      <td>221.933149</td>\n",
       "    </tr>\n",
       "  </tbody>\n",
       "</table>\n",
       "</div>"
      ],
      "text/plain": [
       "                                           Name  f1_scores   roc_auc  \\\n",
       "0      LogisticRegression_class_weight_balanced   0.771198  0.967295   \n",
       "1  DecisionTreeClassifier_class_weight_balanced   0.630828  0.817862   \n",
       "2          LGBMClassifier_class_weight_balanced   0.763820  0.955372   \n",
       "3                LogisticRegression_undersample   0.681672  0.963080   \n",
       "\n",
       "      fit_time  \n",
       "0   753.891382  \n",
       "1  1144.100445  \n",
       "2   434.413973  \n",
       "3   221.933149  "
      ]
     },
     "execution_count": 56,
     "metadata": {},
     "output_type": "execute_result"
    }
   ],
   "source": [
    "scores"
   ]
  },
  {
   "cell_type": "markdown",
   "metadata": {
    "id": "RHm2XaPH6soH"
   },
   "source": [
    "#### DecisionTreeClassifier"
   ]
  },
  {
   "cell_type": "code",
   "execution_count": 57,
   "metadata": {
    "executionInfo": {
     "elapsed": 36,
     "status": "aborted",
     "timestamp": 1678788968338,
     "user": {
      "displayName": "Vasiliy Kuzmin",
      "userId": "10187521586314845244"
     },
     "user_tz": -180
    },
    "id": "w1AsLFJ46soI"
   },
   "outputs": [
    {
     "data": {
      "text/plain": [
       "Pipeline(steps=[('tfidfvectorizer', TfidfVectorizer()),\n",
       "                ('randomundersampler', RandomUnderSampler(random_state=1234)),\n",
       "                ('decisiontreeclassifier', DecisionTreeClassifier())])"
      ]
     },
     "execution_count": 57,
     "metadata": {},
     "output_type": "execute_result"
    }
   ],
   "source": [
    "\n",
    "pipeline_dtc_undersample = make_pipeline(TfidfVectorizer(norm=\"l2\", ngram_range=(1, 1)), \n",
    "                                        RandomUnderSampler(random_state=RNDST), \n",
    "                                        DecisionTreeClassifier())\n",
    "\n",
    "pipeline_dtc_undersample"
   ]
  },
  {
   "cell_type": "code",
   "execution_count": 58,
   "metadata": {
    "executionInfo": {
     "elapsed": 36,
     "status": "aborted",
     "timestamp": 1678788968338,
     "user": {
      "displayName": "Vasiliy Kuzmin",
      "userId": "10187521586314845244"
     },
     "user_tz": -180
    },
    "id": "c773JsIG6soI"
   },
   "outputs": [],
   "source": [
    "parameter_grid__pipe_dtc_undersample = {\n",
    "    \"tfidfvectorizer__max_df\": (0.5, 0.7),\n",
    "    \"tfidfvectorizer__min_df\": (3, 5),\n",
    "    \"decisiontreeclassifier__max_depth\": (20, 40, 60)\n",
    "}"
   ]
  },
  {
   "cell_type": "code",
   "execution_count": 59,
   "metadata": {
    "executionInfo": {
     "elapsed": 37,
     "status": "aborted",
     "timestamp": 1678788968339,
     "user": {
      "displayName": "Vasiliy Kuzmin",
      "userId": "10187521586314845244"
     },
     "user_tz": -180
    },
    "id": "sUfiyD6E6soJ"
   },
   "outputs": [
    {
     "name": "stdout",
     "output_type": "stream",
     "text": [
      "Fitting 3 folds for each of 12 candidates, totalling 36 fits\n",
      "Лучший результат F1 меры модели DecisionTreeClassifier на кросвалидационной выборке: 0.5676044994499526\n",
      "время обучения модели: 139.49 секунд\n"
     ]
    }
   ],
   "source": [
    "rs_pipeline_dtc_undersample = RandomizedSearchCV(\n",
    "    estimator=pipeline_dtc_undersample,\n",
    "    param_distributions=parameter_grid__pipe_dtc_undersample,\n",
    "    n_iter=20,\n",
    "    random_state=RNDST,\n",
    "    n_jobs=-1,\n",
    "    verbose=3,\n",
    "    scoring=scoring,\n",
    "    refit=\"f_1\",\n",
    "    cv=3\n",
    ")\n",
    "\n",
    "start = time()\n",
    "\n",
    "rs_pipeline_dtc_undersample.fit(feature_train, target_train)\n",
    "\n",
    "fit_time_rs_dtc_undersample = time() - start\n",
    "\n",
    "print('Лучший результат F1 меры модели DecisionTreeClassifier на кросвалидационной выборке:', \n",
    "      rs_pipeline_dtc_undersample.best_score_)\n",
    "\n",
    "print('время обучения модели: %.2F секунд' %fit_time_rs_dtc_undersample)\n"
   ]
  },
  {
   "cell_type": "code",
   "execution_count": 60,
   "metadata": {
    "executionInfo": {
     "elapsed": 37,
     "status": "aborted",
     "timestamp": 1678788968339,
     "user": {
      "displayName": "Vasiliy Kuzmin",
      "userId": "10187521586314845244"
     },
     "user_tz": -180
    },
    "id": "7JSHXszE6soK"
   },
   "outputs": [
    {
     "data": {
      "text/html": [
       "<div>\n",
       "<style scoped>\n",
       "    .dataframe tbody tr th:only-of-type {\n",
       "        vertical-align: middle;\n",
       "    }\n",
       "\n",
       "    .dataframe tbody tr th {\n",
       "        vertical-align: top;\n",
       "    }\n",
       "\n",
       "    .dataframe thead th {\n",
       "        text-align: right;\n",
       "    }\n",
       "</style>\n",
       "<table border=\"1\" class=\"dataframe\">\n",
       "  <thead>\n",
       "    <tr style=\"text-align: right;\">\n",
       "      <th></th>\n",
       "      <th>mean_fit_time</th>\n",
       "      <th>mean_score_time</th>\n",
       "      <th>params</th>\n",
       "      <th>mean_test_auc</th>\n",
       "      <th>mean_test_f_1</th>\n",
       "    </tr>\n",
       "  </thead>\n",
       "  <tbody>\n",
       "    <tr>\n",
       "      <th>0</th>\n",
       "      <td>9.180542</td>\n",
       "      <td>4.997384</td>\n",
       "      <td>{'tfidfvectorizer__min_df': 3, 'tfidfvectorize...</td>\n",
       "      <td>0.838002</td>\n",
       "      <td>0.567604</td>\n",
       "    </tr>\n",
       "    <tr>\n",
       "      <th>1</th>\n",
       "      <td>6.721504</td>\n",
       "      <td>5.197808</td>\n",
       "      <td>{'tfidfvectorizer__min_df': 5, 'tfidfvectorize...</td>\n",
       "      <td>0.826435</td>\n",
       "      <td>0.566792</td>\n",
       "    </tr>\n",
       "    <tr>\n",
       "      <th>2</th>\n",
       "      <td>6.871916</td>\n",
       "      <td>4.974868</td>\n",
       "      <td>{'tfidfvectorizer__min_df': 3, 'tfidfvectorize...</td>\n",
       "      <td>0.826262</td>\n",
       "      <td>0.565412</td>\n",
       "    </tr>\n",
       "    <tr>\n",
       "      <th>3</th>\n",
       "      <td>7.039385</td>\n",
       "      <td>5.203733</td>\n",
       "      <td>{'tfidfvectorizer__min_df': 5, 'tfidfvectorize...</td>\n",
       "      <td>0.825366</td>\n",
       "      <td>0.564267</td>\n",
       "    </tr>\n",
       "    <tr>\n",
       "      <th>4</th>\n",
       "      <td>7.213036</td>\n",
       "      <td>5.390371</td>\n",
       "      <td>{'tfidfvectorizer__min_df': 3, 'tfidfvectorize...</td>\n",
       "      <td>0.825483</td>\n",
       "      <td>0.564025</td>\n",
       "    </tr>\n",
       "  </tbody>\n",
       "</table>\n",
       "</div>"
      ],
      "text/plain": [
       "   mean_fit_time  mean_score_time  \\\n",
       "0       9.180542         4.997384   \n",
       "1       6.721504         5.197808   \n",
       "2       6.871916         4.974868   \n",
       "3       7.039385         5.203733   \n",
       "4       7.213036         5.390371   \n",
       "\n",
       "                                              params  mean_test_auc  \\\n",
       "0  {'tfidfvectorizer__min_df': 3, 'tfidfvectorize...       0.838002   \n",
       "1  {'tfidfvectorizer__min_df': 5, 'tfidfvectorize...       0.826435   \n",
       "2  {'tfidfvectorizer__min_df': 3, 'tfidfvectorize...       0.826262   \n",
       "3  {'tfidfvectorizer__min_df': 5, 'tfidfvectorize...       0.825366   \n",
       "4  {'tfidfvectorizer__min_df': 3, 'tfidfvectorize...       0.825483   \n",
       "\n",
       "   mean_test_f_1  \n",
       "0       0.567604  \n",
       "1       0.566792  \n",
       "2       0.565412  \n",
       "3       0.564267  \n",
       "4       0.564025  "
      ]
     },
     "execution_count": 60,
     "metadata": {},
     "output_type": "execute_result"
    }
   ],
   "source": [
    "rs_pipeline_dtc_undersample_df = pd.DataFrame(rs_pipeline_dtc_undersample.cv_results_\n",
    "                                            ).sort_values(by='mean_test_f_1',ascending=False).reset_index(drop=True)\n",
    "\n",
    "rs_pipeline_dtc_undersample_df[['mean_fit_time', 'mean_score_time', 'params', 'mean_test_auc', 'mean_test_f_1']].head()"
   ]
  },
  {
   "cell_type": "code",
   "execution_count": 61,
   "metadata": {},
   "outputs": [],
   "source": [
    "# добавим данные в итоговую таблицу\n",
    "dicts = [{'Name': 'DecisionTreeClassifier_undersample', \n",
    "          'f1_scores': rs_pipeline_dtc_undersample.best_score_,\n",
    "          'roc_auc': rs_pipeline_dtc_undersample_df.mean_test_auc[0],\n",
    "          'fit_time': fit_time_rs_dtc_undersample\n",
    "         }]\n",
    "        \n",
    "scores = scores.append(dicts, ignore_index=True, sort=False)"
   ]
  },
  {
   "cell_type": "code",
   "execution_count": 62,
   "metadata": {},
   "outputs": [
    {
     "data": {
      "text/html": [
       "<div>\n",
       "<style scoped>\n",
       "    .dataframe tbody tr th:only-of-type {\n",
       "        vertical-align: middle;\n",
       "    }\n",
       "\n",
       "    .dataframe tbody tr th {\n",
       "        vertical-align: top;\n",
       "    }\n",
       "\n",
       "    .dataframe thead th {\n",
       "        text-align: right;\n",
       "    }\n",
       "</style>\n",
       "<table border=\"1\" class=\"dataframe\">\n",
       "  <thead>\n",
       "    <tr style=\"text-align: right;\">\n",
       "      <th></th>\n",
       "      <th>Name</th>\n",
       "      <th>f1_scores</th>\n",
       "      <th>roc_auc</th>\n",
       "      <th>fit_time</th>\n",
       "    </tr>\n",
       "  </thead>\n",
       "  <tbody>\n",
       "    <tr>\n",
       "      <th>0</th>\n",
       "      <td>LogisticRegression_class_weight_balanced</td>\n",
       "      <td>0.771198</td>\n",
       "      <td>0.967295</td>\n",
       "      <td>753.891382</td>\n",
       "    </tr>\n",
       "    <tr>\n",
       "      <th>1</th>\n",
       "      <td>DecisionTreeClassifier_class_weight_balanced</td>\n",
       "      <td>0.630828</td>\n",
       "      <td>0.817862</td>\n",
       "      <td>1144.100445</td>\n",
       "    </tr>\n",
       "    <tr>\n",
       "      <th>2</th>\n",
       "      <td>LGBMClassifier_class_weight_balanced</td>\n",
       "      <td>0.763820</td>\n",
       "      <td>0.955372</td>\n",
       "      <td>434.413973</td>\n",
       "    </tr>\n",
       "    <tr>\n",
       "      <th>3</th>\n",
       "      <td>LogisticRegression_undersample</td>\n",
       "      <td>0.681672</td>\n",
       "      <td>0.963080</td>\n",
       "      <td>221.933149</td>\n",
       "    </tr>\n",
       "    <tr>\n",
       "      <th>4</th>\n",
       "      <td>DecisionTreeClassifier_undersample</td>\n",
       "      <td>0.567604</td>\n",
       "      <td>0.838002</td>\n",
       "      <td>139.489653</td>\n",
       "    </tr>\n",
       "  </tbody>\n",
       "</table>\n",
       "</div>"
      ],
      "text/plain": [
       "                                           Name  f1_scores   roc_auc  \\\n",
       "0      LogisticRegression_class_weight_balanced   0.771198  0.967295   \n",
       "1  DecisionTreeClassifier_class_weight_balanced   0.630828  0.817862   \n",
       "2          LGBMClassifier_class_weight_balanced   0.763820  0.955372   \n",
       "3                LogisticRegression_undersample   0.681672  0.963080   \n",
       "4            DecisionTreeClassifier_undersample   0.567604  0.838002   \n",
       "\n",
       "      fit_time  \n",
       "0   753.891382  \n",
       "1  1144.100445  \n",
       "2   434.413973  \n",
       "3   221.933149  \n",
       "4   139.489653  "
      ]
     },
     "execution_count": 62,
     "metadata": {},
     "output_type": "execute_result"
    }
   ],
   "source": [
    "scores"
   ]
  },
  {
   "cell_type": "markdown",
   "metadata": {
    "id": "MyjEMow46soL"
   },
   "source": [
    "#### LightGBM Classifier"
   ]
  },
  {
   "cell_type": "code",
   "execution_count": 63,
   "metadata": {
    "executionInfo": {
     "elapsed": 38,
     "status": "aborted",
     "timestamp": 1678788968340,
     "user": {
      "displayName": "Vasiliy Kuzmin",
      "userId": "10187521586314845244"
     },
     "user_tz": -180
    },
    "id": "UfYmxTFD6soL"
   },
   "outputs": [
    {
     "data": {
      "text/plain": [
       "Pipeline(steps=[('tfidfvectorizer', TfidfVectorizer()),\n",
       "                ('randomundersampler', RandomUnderSampler(random_state=1234)),\n",
       "                ('lgbmclassifier',\n",
       "                 LGBMClassifier(learning_rate=0.3, n_estimators=500))])"
      ]
     },
     "execution_count": 63,
     "metadata": {},
     "output_type": "execute_result"
    }
   ],
   "source": [
    "\n",
    "pipeline_lgbm_undersample = make_pipeline(TfidfVectorizer(norm=\"l2\", ngram_range=(1, 1)),\n",
    "                                         RandomUnderSampler(random_state=RNDST),\n",
    "                                         LGBMClassifier(learning_rate=0.3,\n",
    "                                                        n_estimators=500))\n",
    "\n",
    "pipeline_lgbm_undersample"
   ]
  },
  {
   "cell_type": "code",
   "execution_count": 64,
   "metadata": {
    "executionInfo": {
     "elapsed": 39,
     "status": "aborted",
     "timestamp": 1678788968340,
     "user": {
      "displayName": "Vasiliy Kuzmin",
      "userId": "10187521586314845244"
     },
     "user_tz": -180
    },
    "id": "Kx3KDXfn6soM"
   },
   "outputs": [],
   "source": [
    "parameter_grid__pipe_lgbm_undersample = {\n",
    "    \"tfidfvectorizer__max_df\": (0.5, 0.7),\n",
    "    \"tfidfvectorizer__min_df\": (3, 5),\n",
    "    \"lgbmclassifier__max_depth\": (20, 50, 70)\n",
    "}"
   ]
  },
  {
   "cell_type": "code",
   "execution_count": 65,
   "metadata": {
    "executionInfo": {
     "elapsed": 38,
     "status": "aborted",
     "timestamp": 1678788968341,
     "user": {
      "displayName": "Vasiliy Kuzmin",
      "userId": "10187521586314845244"
     },
     "user_tz": -180
    },
    "id": "x3Ty5yUr6soM"
   },
   "outputs": [
    {
     "name": "stdout",
     "output_type": "stream",
     "text": [
      "Fitting 3 folds for each of 12 candidates, totalling 36 fits\n",
      "Лучший результат F1 меры модели LGBMClassifier() на кросвалидационной выборке: 0.6337040130181486 \n",
      "\n",
      "время обучения модели: 549.77 секунд\n"
     ]
    }
   ],
   "source": [
    "rs_pipeline_lgbm_undersample = RandomizedSearchCV(\n",
    "    estimator=pipeline_lgbm_undersample,\n",
    "    param_distributions=parameter_grid__pipe_lgbm_undersample,\n",
    "    n_iter=20,\n",
    "    random_state=RNDST,\n",
    "    n_jobs=-1,\n",
    "    verbose=3,\n",
    "    scoring=scoring,\n",
    "    refit=\"f_1\",\n",
    "    cv=3\n",
    ")\n",
    "start = time()\n",
    "rs_pipeline_lgbm_undersample.fit(feature_train, target_train)\n",
    "\n",
    "fit_time_rs_lgbm_undersample = time() - start\n",
    "\n",
    "print('Лучший результат F1 меры модели LGBMClassifier() на кросвалидационной выборке:', \n",
    "      rs_pipeline_lgbm_undersample.best_score_, '\\n')\n",
    "\n",
    "print('время обучения модели: %.2F секунд' %fit_time_rs_lgbm_undersample)\n"
   ]
  },
  {
   "cell_type": "code",
   "execution_count": 66,
   "metadata": {
    "executionInfo": {
     "elapsed": 38,
     "status": "aborted",
     "timestamp": 1678788968341,
     "user": {
      "displayName": "Vasiliy Kuzmin",
      "userId": "10187521586314845244"
     },
     "user_tz": -180
    },
    "id": "oDjruveK6soN"
   },
   "outputs": [
    {
     "data": {
      "text/html": [
       "<div>\n",
       "<style scoped>\n",
       "    .dataframe tbody tr th:only-of-type {\n",
       "        vertical-align: middle;\n",
       "    }\n",
       "\n",
       "    .dataframe tbody tr th {\n",
       "        vertical-align: top;\n",
       "    }\n",
       "\n",
       "    .dataframe thead th {\n",
       "        text-align: right;\n",
       "    }\n",
       "</style>\n",
       "<table border=\"1\" class=\"dataframe\">\n",
       "  <thead>\n",
       "    <tr style=\"text-align: right;\">\n",
       "      <th></th>\n",
       "      <th>mean_fit_time</th>\n",
       "      <th>mean_score_time</th>\n",
       "      <th>params</th>\n",
       "      <th>mean_test_auc</th>\n",
       "      <th>mean_test_f_1</th>\n",
       "    </tr>\n",
       "  </thead>\n",
       "  <tbody>\n",
       "    <tr>\n",
       "      <th>0</th>\n",
       "      <td>40.373358</td>\n",
       "      <td>14.698899</td>\n",
       "      <td>{'tfidfvectorizer__min_df': 3, 'tfidfvectorize...</td>\n",
       "      <td>0.951164</td>\n",
       "      <td>0.633704</td>\n",
       "    </tr>\n",
       "    <tr>\n",
       "      <th>1</th>\n",
       "      <td>40.672281</td>\n",
       "      <td>13.276226</td>\n",
       "      <td>{'tfidfvectorizer__min_df': 3, 'tfidfvectorize...</td>\n",
       "      <td>0.951164</td>\n",
       "      <td>0.633704</td>\n",
       "    </tr>\n",
       "    <tr>\n",
       "      <th>2</th>\n",
       "      <td>40.976344</td>\n",
       "      <td>13.258353</td>\n",
       "      <td>{'tfidfvectorizer__min_df': 5, 'tfidfvectorize...</td>\n",
       "      <td>0.950761</td>\n",
       "      <td>0.632604</td>\n",
       "    </tr>\n",
       "    <tr>\n",
       "      <th>3</th>\n",
       "      <td>39.366619</td>\n",
       "      <td>12.635460</td>\n",
       "      <td>{'tfidfvectorizer__min_df': 5, 'tfidfvectorize...</td>\n",
       "      <td>0.950761</td>\n",
       "      <td>0.632604</td>\n",
       "    </tr>\n",
       "    <tr>\n",
       "      <th>4</th>\n",
       "      <td>46.748973</td>\n",
       "      <td>13.355439</td>\n",
       "      <td>{'tfidfvectorizer__min_df': 5, 'tfidfvectorize...</td>\n",
       "      <td>0.950278</td>\n",
       "      <td>0.630051</td>\n",
       "    </tr>\n",
       "  </tbody>\n",
       "</table>\n",
       "</div>"
      ],
      "text/plain": [
       "   mean_fit_time  mean_score_time  \\\n",
       "0      40.373358        14.698899   \n",
       "1      40.672281        13.276226   \n",
       "2      40.976344        13.258353   \n",
       "3      39.366619        12.635460   \n",
       "4      46.748973        13.355439   \n",
       "\n",
       "                                              params  mean_test_auc  \\\n",
       "0  {'tfidfvectorizer__min_df': 3, 'tfidfvectorize...       0.951164   \n",
       "1  {'tfidfvectorizer__min_df': 3, 'tfidfvectorize...       0.951164   \n",
       "2  {'tfidfvectorizer__min_df': 5, 'tfidfvectorize...       0.950761   \n",
       "3  {'tfidfvectorizer__min_df': 5, 'tfidfvectorize...       0.950761   \n",
       "4  {'tfidfvectorizer__min_df': 5, 'tfidfvectorize...       0.950278   \n",
       "\n",
       "   mean_test_f_1  \n",
       "0       0.633704  \n",
       "1       0.633704  \n",
       "2       0.632604  \n",
       "3       0.632604  \n",
       "4       0.630051  "
      ]
     },
     "execution_count": 66,
     "metadata": {},
     "output_type": "execute_result"
    }
   ],
   "source": [
    "rs_pipeline_lgbm_undersample_df = pd.DataFrame(rs_pipeline_lgbm_undersample.cv_results_\n",
    "                                            ).sort_values(by='mean_test_f_1',ascending=False).reset_index(drop=True)\n",
    "\n",
    "rs_pipeline_lgbm_undersample_df[['mean_fit_time', 'mean_score_time', 'params', 'mean_test_auc', 'mean_test_f_1']].head()"
   ]
  },
  {
   "cell_type": "code",
   "execution_count": 67,
   "metadata": {},
   "outputs": [],
   "source": [
    "# добавим данные в итоговую таблицу\n",
    "dicts = [{'Name': 'LGBMClassifier_undersample', \n",
    "          'f1_scores': rs_pipeline_lgbm_undersample.best_score_,\n",
    "          'roc_auc': rs_pipeline_lgbm_undersample_df.mean_test_auc[0],\n",
    "          'fit_time': fit_time_rs_lgbm_undersample\n",
    "         }]\n",
    "        \n",
    "scores = scores.append(dicts, ignore_index=True, sort=False)"
   ]
  },
  {
   "cell_type": "code",
   "execution_count": 68,
   "metadata": {},
   "outputs": [
    {
     "data": {
      "text/html": [
       "<div>\n",
       "<style scoped>\n",
       "    .dataframe tbody tr th:only-of-type {\n",
       "        vertical-align: middle;\n",
       "    }\n",
       "\n",
       "    .dataframe tbody tr th {\n",
       "        vertical-align: top;\n",
       "    }\n",
       "\n",
       "    .dataframe thead th {\n",
       "        text-align: right;\n",
       "    }\n",
       "</style>\n",
       "<table border=\"1\" class=\"dataframe\">\n",
       "  <thead>\n",
       "    <tr style=\"text-align: right;\">\n",
       "      <th></th>\n",
       "      <th>Name</th>\n",
       "      <th>f1_scores</th>\n",
       "      <th>roc_auc</th>\n",
       "      <th>fit_time</th>\n",
       "    </tr>\n",
       "  </thead>\n",
       "  <tbody>\n",
       "    <tr>\n",
       "      <th>0</th>\n",
       "      <td>LogisticRegression_class_weight_balanced</td>\n",
       "      <td>0.771198</td>\n",
       "      <td>0.967295</td>\n",
       "      <td>753.891382</td>\n",
       "    </tr>\n",
       "    <tr>\n",
       "      <th>1</th>\n",
       "      <td>DecisionTreeClassifier_class_weight_balanced</td>\n",
       "      <td>0.630828</td>\n",
       "      <td>0.817862</td>\n",
       "      <td>1144.100445</td>\n",
       "    </tr>\n",
       "    <tr>\n",
       "      <th>2</th>\n",
       "      <td>LGBMClassifier_class_weight_balanced</td>\n",
       "      <td>0.763820</td>\n",
       "      <td>0.955372</td>\n",
       "      <td>434.413973</td>\n",
       "    </tr>\n",
       "    <tr>\n",
       "      <th>3</th>\n",
       "      <td>LogisticRegression_undersample</td>\n",
       "      <td>0.681672</td>\n",
       "      <td>0.963080</td>\n",
       "      <td>221.933149</td>\n",
       "    </tr>\n",
       "    <tr>\n",
       "      <th>4</th>\n",
       "      <td>DecisionTreeClassifier_undersample</td>\n",
       "      <td>0.567604</td>\n",
       "      <td>0.838002</td>\n",
       "      <td>139.489653</td>\n",
       "    </tr>\n",
       "    <tr>\n",
       "      <th>5</th>\n",
       "      <td>LGBMClassifier_undersample</td>\n",
       "      <td>0.633704</td>\n",
       "      <td>0.951164</td>\n",
       "      <td>549.766629</td>\n",
       "    </tr>\n",
       "  </tbody>\n",
       "</table>\n",
       "</div>"
      ],
      "text/plain": [
       "                                           Name  f1_scores   roc_auc  \\\n",
       "0      LogisticRegression_class_weight_balanced   0.771198  0.967295   \n",
       "1  DecisionTreeClassifier_class_weight_balanced   0.630828  0.817862   \n",
       "2          LGBMClassifier_class_weight_balanced   0.763820  0.955372   \n",
       "3                LogisticRegression_undersample   0.681672  0.963080   \n",
       "4            DecisionTreeClassifier_undersample   0.567604  0.838002   \n",
       "5                    LGBMClassifier_undersample   0.633704  0.951164   \n",
       "\n",
       "      fit_time  \n",
       "0   753.891382  \n",
       "1  1144.100445  \n",
       "2   434.413973  \n",
       "3   221.933149  \n",
       "4   139.489653  \n",
       "5   549.766629  "
      ]
     },
     "execution_count": 68,
     "metadata": {},
     "output_type": "execute_result"
    }
   ],
   "source": [
    "scores"
   ]
  },
  {
   "cell_type": "code",
   "execution_count": 69,
   "metadata": {},
   "outputs": [
    {
     "data": {
      "image/png": "[encoded data removed]",
      "text/plain": [
       "<Figure size 432x288 with 1 Axes>"
      ]
     },
     "metadata": {
      "needs_background": "light"
     },
     "output_type": "display_data"
    }
   ],
   "source": [
    "#результаты F1 меры на моделях с использованием 'class_weight': 'balanced', undersample\n",
    "\n",
    "ax = scores.plot.bar(y='f1_scores', \n",
    "                     x='Name',\n",
    "                     rot=90)\n",
    "\n",
    "\n",
    "\n",
    "plt.xlabel(\"Модели\")\n",
    "plt.ylabel(\"Scores\")\n",
    "plt.title(\"Результаты F1 меры на моделях с использованием 'class_weight': 'balanced', undersample\")\n",
    "plt.legend([\"f1_scores\"])\n",
    "plt.grid(b=True, axis='y')\n",
    "\n",
    "plt.show()"
   ]
  },
  {
   "cell_type": "markdown",
   "metadata": {
    "id": "Y-pTuSB4Jrzg"
   },
   "source": [
    "### Функция SMOTE для балансировки классов путем увеличения меньшего класса"
   ]
  },
  {
   "cell_type": "markdown",
   "metadata": {},
   "source": [
    "#### LogisticRegression"
   ]
  },
  {
   "cell_type": "code",
   "execution_count": 70,
   "metadata": {
    "colab": {
     "base_uri": "https://localhost:8080/",
     "height": 161
    },
    "executionInfo": {
     "elapsed": 627,
     "status": "ok",
     "timestamp": 1678793284346,
     "user": {
      "displayName": "Vasiliy Kuzmin",
      "userId": "10187521586314845244"
     },
     "user_tz": -180
    },
    "id": "mA_SQwKRwr51",
    "outputId": "0d711cf6-1975-477c-89b6-f91b61a7877e"
   },
   "outputs": [
    {
     "data": {
      "text/plain": [
       "Pipeline(steps=[('tfidfvectorizer', TfidfVectorizer()),\n",
       "                ('smote', SMOTE(random_state=1234)),\n",
       "                ('logisticregression', LogisticRegression())])"
      ]
     },
     "execution_count": 70,
     "metadata": {},
     "output_type": "execute_result"
    }
   ],
   "source": [
    "\n",
    "pipeline_lr_smote = make_pipeline(TfidfVectorizer(norm=\"l2\", ngram_range=(1, 1)), \n",
    "                                        SMOTE(random_state=RNDST), \n",
    "                                        LogisticRegression())\n",
    "\n",
    "pipeline_lr_smote"
   ]
  },
  {
   "cell_type": "code",
   "execution_count": 71,
   "metadata": {
    "executionInfo": {
     "elapsed": 272,
     "status": "ok",
     "timestamp": 1678793304771,
     "user": {
      "displayName": "Vasiliy Kuzmin",
      "userId": "10187521586314845244"
     },
     "user_tz": -180
    },
    "id": "rNl_2w6Rwr52"
   },
   "outputs": [],
   "source": [
    "parameter_grid__pipe_lr_smote = {\n",
    "    \"tfidfvectorizer__max_df\": (0.5, 0.7),\n",
    "    \"tfidfvectorizer__min_df\": (3, 5),\n",
    "    \"logisticregression__solver\": ('liblinear', 'lbfgs'),\n",
    "    \"logisticregression__C\": (6, 9, 12)\n",
    "}"
   ]
  },
  {
   "cell_type": "code",
   "execution_count": 72,
   "metadata": {
    "colab": {
     "base_uri": "https://localhost:8080/"
    },
    "executionInfo": {
     "elapsed": 2116281,
     "status": "ok",
     "timestamp": 1678795482482,
     "user": {
      "displayName": "Vasiliy Kuzmin",
      "userId": "10187521586314845244"
     },
     "user_tz": -180
    },
    "id": "5qYR7SJfwr52",
    "outputId": "2fbbb95b-a164-48af-aa26-285e4c96a58f"
   },
   "outputs": [
    {
     "name": "stdout",
     "output_type": "stream",
     "text": [
      "Fitting 3 folds for each of 24 candidates, totalling 72 fits\n",
      "Лучший результат F1 меры модели LogisticRegression на кросвалидационной выборке: 0.6663784278410996 \n",
      "\n",
      "время обучения модели: 361.42 секунд\n"
     ]
    }
   ],
   "source": [
    "rs_pipeline_lr_smote = RandomizedSearchCV(\n",
    "    estimator=pipeline_lr_smote,\n",
    "    param_distributions=parameter_grid__pipe_lr_smote,\n",
    "    n_iter=40,\n",
    "    random_state=RNDST,\n",
    "    n_jobs=-1,\n",
    "    verbose=3,\n",
    "    scoring=scoring,\n",
    "    refit=\"f_1\",\n",
    "    cv=3\n",
    ")\n",
    "start = time()\n",
    "rs_pipeline_lr_smote.fit(feature_train, target_train)\n",
    "\n",
    "fit_time_rs_pipeline_lr_smote = time() - start\n",
    "\n",
    "print('Лучший результат F1 меры модели LogisticRegression на кросвалидационной выборке:', \n",
    "      rs_pipeline_lr_smote.best_score_, '\\n')\n",
    "print('время обучения модели: %.2F секунд' %fit_time_rs_pipeline_lr_smote)"
   ]
  },
  {
   "cell_type": "code",
   "execution_count": 73,
   "metadata": {
    "colab": {
     "base_uri": "https://localhost:8080/",
     "height": 206
    },
    "executionInfo": {
     "elapsed": 301,
     "status": "ok",
     "timestamp": 1678798554753,
     "user": {
      "displayName": "Vasiliy Kuzmin",
      "userId": "10187521586314845244"
     },
     "user_tz": -180
    },
    "id": "w3b4D9PGC-F1",
    "outputId": "4208b6b0-1b48-48ae-c10e-ac459a141787"
   },
   "outputs": [
    {
     "data": {
      "text/html": [
       "<div>\n",
       "<style scoped>\n",
       "    .dataframe tbody tr th:only-of-type {\n",
       "        vertical-align: middle;\n",
       "    }\n",
       "\n",
       "    .dataframe tbody tr th {\n",
       "        vertical-align: top;\n",
       "    }\n",
       "\n",
       "    .dataframe thead th {\n",
       "        text-align: right;\n",
       "    }\n",
       "</style>\n",
       "<table border=\"1\" class=\"dataframe\">\n",
       "  <thead>\n",
       "    <tr style=\"text-align: right;\">\n",
       "      <th></th>\n",
       "      <th>mean_fit_time</th>\n",
       "      <th>mean_score_time</th>\n",
       "      <th>params</th>\n",
       "      <th>mean_test_auc</th>\n",
       "      <th>mean_test_f_1</th>\n",
       "    </tr>\n",
       "  </thead>\n",
       "  <tbody>\n",
       "    <tr>\n",
       "      <th>0</th>\n",
       "      <td>15.228097</td>\n",
       "      <td>5.530862</td>\n",
       "      <td>{'tfidfvectorizer__min_df': 3, 'tfidfvectorize...</td>\n",
       "      <td>0.946335</td>\n",
       "      <td>0.666378</td>\n",
       "    </tr>\n",
       "    <tr>\n",
       "      <th>1</th>\n",
       "      <td>15.071003</td>\n",
       "      <td>5.181928</td>\n",
       "      <td>{'tfidfvectorizer__min_df': 3, 'tfidfvectorize...</td>\n",
       "      <td>0.946335</td>\n",
       "      <td>0.666378</td>\n",
       "    </tr>\n",
       "    <tr>\n",
       "      <th>2</th>\n",
       "      <td>11.955928</td>\n",
       "      <td>4.848616</td>\n",
       "      <td>{'tfidfvectorizer__min_df': 3, 'tfidfvectorize...</td>\n",
       "      <td>0.946350</td>\n",
       "      <td>0.666212</td>\n",
       "    </tr>\n",
       "    <tr>\n",
       "      <th>3</th>\n",
       "      <td>12.318650</td>\n",
       "      <td>5.199034</td>\n",
       "      <td>{'tfidfvectorizer__min_df': 3, 'tfidfvectorize...</td>\n",
       "      <td>0.946350</td>\n",
       "      <td>0.666212</td>\n",
       "    </tr>\n",
       "    <tr>\n",
       "      <th>4</th>\n",
       "      <td>14.410447</td>\n",
       "      <td>5.322542</td>\n",
       "      <td>{'tfidfvectorizer__min_df': 5, 'tfidfvectorize...</td>\n",
       "      <td>0.945600</td>\n",
       "      <td>0.664715</td>\n",
       "    </tr>\n",
       "  </tbody>\n",
       "</table>\n",
       "</div>"
      ],
      "text/plain": [
       "   mean_fit_time  mean_score_time  \\\n",
       "0      15.228097         5.530862   \n",
       "1      15.071003         5.181928   \n",
       "2      11.955928         4.848616   \n",
       "3      12.318650         5.199034   \n",
       "4      14.410447         5.322542   \n",
       "\n",
       "                                              params  mean_test_auc  \\\n",
       "0  {'tfidfvectorizer__min_df': 3, 'tfidfvectorize...       0.946335   \n",
       "1  {'tfidfvectorizer__min_df': 3, 'tfidfvectorize...       0.946335   \n",
       "2  {'tfidfvectorizer__min_df': 3, 'tfidfvectorize...       0.946350   \n",
       "3  {'tfidfvectorizer__min_df': 3, 'tfidfvectorize...       0.946350   \n",
       "4  {'tfidfvectorizer__min_df': 5, 'tfidfvectorize...       0.945600   \n",
       "\n",
       "   mean_test_f_1  \n",
       "0       0.666378  \n",
       "1       0.666378  \n",
       "2       0.666212  \n",
       "3       0.666212  \n",
       "4       0.664715  "
      ]
     },
     "execution_count": 73,
     "metadata": {},
     "output_type": "execute_result"
    }
   ],
   "source": [
    "rs_pipeline_lr_smote_df = pd.DataFrame(rs_pipeline_lr_smote.cv_results_\n",
    "                                            ).sort_values(by='mean_test_f_1',ascending=False).reset_index(drop=True)\n",
    "\n",
    "rs_pipeline_lr_smote_df[['mean_fit_time', 'mean_score_time', 'params', 'mean_test_auc', 'mean_test_f_1']].head()"
   ]
  },
  {
   "cell_type": "code",
   "execution_count": 74,
   "metadata": {},
   "outputs": [],
   "source": [
    "# добавим данные в итоговую таблицу\n",
    "dicts = [{'Name': 'LogisticRegression_SMOTE', \n",
    "          'f1_scores': rs_pipeline_lr_smote.best_score_,\n",
    "          'roc_auc': rs_pipeline_lr_smote_df.mean_test_auc[0],\n",
    "          'fit_time': fit_time_rs_pipeline_lr_smote\n",
    "         }]\n",
    "        \n",
    "scores = scores.append(dicts, ignore_index=True, sort=False)"
   ]
  },
  {
   "cell_type": "code",
   "execution_count": 75,
   "metadata": {},
   "outputs": [
    {
     "data": {
      "text/html": [
       "<div>\n",
       "<style scoped>\n",
       "    .dataframe tbody tr th:only-of-type {\n",
       "        vertical-align: middle;\n",
       "    }\n",
       "\n",
       "    .dataframe tbody tr th {\n",
       "        vertical-align: top;\n",
       "    }\n",
       "\n",
       "    .dataframe thead th {\n",
       "        text-align: right;\n",
       "    }\n",
       "</style>\n",
       "<table border=\"1\" class=\"dataframe\">\n",
       "  <thead>\n",
       "    <tr style=\"text-align: right;\">\n",
       "      <th></th>\n",
       "      <th>Name</th>\n",
       "      <th>f1_scores</th>\n",
       "      <th>roc_auc</th>\n",
       "      <th>fit_time</th>\n",
       "    </tr>\n",
       "  </thead>\n",
       "  <tbody>\n",
       "    <tr>\n",
       "      <th>0</th>\n",
       "      <td>LogisticRegression_class_weight_balanced</td>\n",
       "      <td>0.771198</td>\n",
       "      <td>0.967295</td>\n",
       "      <td>753.891382</td>\n",
       "    </tr>\n",
       "    <tr>\n",
       "      <th>1</th>\n",
       "      <td>DecisionTreeClassifier_class_weight_balanced</td>\n",
       "      <td>0.630828</td>\n",
       "      <td>0.817862</td>\n",
       "      <td>1144.100445</td>\n",
       "    </tr>\n",
       "    <tr>\n",
       "      <th>2</th>\n",
       "      <td>LGBMClassifier_class_weight_balanced</td>\n",
       "      <td>0.763820</td>\n",
       "      <td>0.955372</td>\n",
       "      <td>434.413973</td>\n",
       "    </tr>\n",
       "    <tr>\n",
       "      <th>3</th>\n",
       "      <td>LogisticRegression_undersample</td>\n",
       "      <td>0.681672</td>\n",
       "      <td>0.963080</td>\n",
       "      <td>221.933149</td>\n",
       "    </tr>\n",
       "    <tr>\n",
       "      <th>4</th>\n",
       "      <td>DecisionTreeClassifier_undersample</td>\n",
       "      <td>0.567604</td>\n",
       "      <td>0.838002</td>\n",
       "      <td>139.489653</td>\n",
       "    </tr>\n",
       "    <tr>\n",
       "      <th>5</th>\n",
       "      <td>LGBMClassifier_undersample</td>\n",
       "      <td>0.633704</td>\n",
       "      <td>0.951164</td>\n",
       "      <td>549.766629</td>\n",
       "    </tr>\n",
       "    <tr>\n",
       "      <th>6</th>\n",
       "      <td>LogisticRegression_SMOTE</td>\n",
       "      <td>0.666378</td>\n",
       "      <td>0.946335</td>\n",
       "      <td>361.421563</td>\n",
       "    </tr>\n",
       "  </tbody>\n",
       "</table>\n",
       "</div>"
      ],
      "text/plain": [
       "                                           Name  f1_scores   roc_auc  \\\n",
       "0      LogisticRegression_class_weight_balanced   0.771198  0.967295   \n",
       "1  DecisionTreeClassifier_class_weight_balanced   0.630828  0.817862   \n",
       "2          LGBMClassifier_class_weight_balanced   0.763820  0.955372   \n",
       "3                LogisticRegression_undersample   0.681672  0.963080   \n",
       "4            DecisionTreeClassifier_undersample   0.567604  0.838002   \n",
       "5                    LGBMClassifier_undersample   0.633704  0.951164   \n",
       "6                      LogisticRegression_SMOTE   0.666378  0.946335   \n",
       "\n",
       "      fit_time  \n",
       "0   753.891382  \n",
       "1  1144.100445  \n",
       "2   434.413973  \n",
       "3   221.933149  \n",
       "4   139.489653  \n",
       "5   549.766629  \n",
       "6   361.421563  "
      ]
     },
     "execution_count": 75,
     "metadata": {},
     "output_type": "execute_result"
    }
   ],
   "source": [
    "scores"
   ]
  },
  {
   "cell_type": "markdown",
   "metadata": {
    "id": "aH7uJkRcLzKQ"
   },
   "source": [
    "#### DecisionTreeClassifier"
   ]
  },
  {
   "cell_type": "code",
   "execution_count": 76,
   "metadata": {
    "colab": {
     "base_uri": "https://localhost:8080/",
     "height": 161
    },
    "executionInfo": {
     "elapsed": 302,
     "status": "ok",
     "timestamp": 1678798572085,
     "user": {
      "displayName": "Vasiliy Kuzmin",
      "userId": "10187521586314845244"
     },
     "user_tz": -180
    },
    "id": "KkwczoI7LzKQ",
    "outputId": "db45baf7-50d2-464a-e142-afa1e4f18ca5"
   },
   "outputs": [
    {
     "data": {
      "text/plain": [
       "Pipeline(steps=[('tfidfvectorizer', TfidfVectorizer()),\n",
       "                ('smote', SMOTE(random_state=1234)),\n",
       "                ('decisiontreeclassifier', DecisionTreeClassifier())])"
      ]
     },
     "execution_count": 76,
     "metadata": {},
     "output_type": "execute_result"
    }
   ],
   "source": [
    "\n",
    "pipeline_dtc_smote = make_pipeline(TfidfVectorizer(norm=\"l2\", ngram_range=(1, 1)), \n",
    "                                        SMOTE(random_state=RNDST), \n",
    "                                        DecisionTreeClassifier())\n",
    "\n",
    "pipeline_dtc_smote"
   ]
  },
  {
   "cell_type": "code",
   "execution_count": 77,
   "metadata": {
    "executionInfo": {
     "elapsed": 771,
     "status": "ok",
     "timestamp": 1678798575313,
     "user": {
      "displayName": "Vasiliy Kuzmin",
      "userId": "10187521586314845244"
     },
     "user_tz": -180
    },
    "id": "CyGZnvTWLzKR"
   },
   "outputs": [],
   "source": [
    "parameter_grid__pipe_dtc_smote = {\n",
    "    \"tfidfvectorizer__max_df\": (0.5, 0.7),\n",
    "    \"tfidfvectorizer__min_df\": (3, 5),\n",
    "    \"decisiontreeclassifier__max_depth\": (20, 40, 60)\n",
    "}"
   ]
  },
  {
   "cell_type": "code",
   "execution_count": 78,
   "metadata": {
    "colab": {
     "base_uri": "https://localhost:8080/"
    },
    "executionInfo": {
     "elapsed": 2019821,
     "status": "ok",
     "timestamp": 1678800605448,
     "user": {
      "displayName": "Vasiliy Kuzmin",
      "userId": "10187521586314845244"
     },
     "user_tz": -180
    },
    "id": "M5oGQRuTLzKS",
    "outputId": "b5490feb-73e7-4c7e-95f1-8b5b1696ef7a"
   },
   "outputs": [
    {
     "name": "stdout",
     "output_type": "stream",
     "text": [
      "Fitting 3 folds for each of 12 candidates, totalling 36 fits\n",
      "Лучший результат F1 меры модели DecisionTreeClassifier на кросвалидационной выборке: 0.6076279643664159 \n",
      "\n",
      "время обучения модели: 776.63 секунд\n"
     ]
    }
   ],
   "source": [
    "rs_pipeline_dtc_smote = RandomizedSearchCV(\n",
    "    estimator=pipeline_dtc_smote,\n",
    "    param_distributions=parameter_grid__pipe_dtc_smote,\n",
    "    n_iter=20,\n",
    "    random_state=RNDST,\n",
    "    n_jobs=-1,\n",
    "    verbose=3,\n",
    "    scoring=scoring,\n",
    "    refit=\"f_1\",\n",
    "    cv=3\n",
    ")\n",
    "start = time()\n",
    "rs_pipeline_dtc_smote.fit(feature_train, target_train)\n",
    "\n",
    "fit_time_rs_pipeline_dtc_smote = time() - start\n",
    "\n",
    "print('Лучший результат F1 меры модели DecisionTreeClassifier на кросвалидационной выборке:', \n",
    "      rs_pipeline_dtc_smote.best_score_, '\\n')\n",
    "\n",
    "print('время обучения модели: %.2F секунд' %fit_time_rs_pipeline_dtc_smote)"
   ]
  },
  {
   "cell_type": "code",
   "execution_count": 79,
   "metadata": {
    "colab": {
     "base_uri": "https://localhost:8080/",
     "height": 206
    },
    "executionInfo": {
     "elapsed": 24,
     "status": "ok",
     "timestamp": 1678800711331,
     "user": {
      "displayName": "Vasiliy Kuzmin",
      "userId": "10187521586314845244"
     },
     "user_tz": -180
    },
    "id": "3ldvyH4sLzKT",
    "outputId": "19208970-f007-4ea5-b4ee-bd3c33732e44"
   },
   "outputs": [
    {
     "data": {
      "text/html": [
       "<div>\n",
       "<style scoped>\n",
       "    .dataframe tbody tr th:only-of-type {\n",
       "        vertical-align: middle;\n",
       "    }\n",
       "\n",
       "    .dataframe tbody tr th {\n",
       "        vertical-align: top;\n",
       "    }\n",
       "\n",
       "    .dataframe thead th {\n",
       "        text-align: right;\n",
       "    }\n",
       "</style>\n",
       "<table border=\"1\" class=\"dataframe\">\n",
       "  <thead>\n",
       "    <tr style=\"text-align: right;\">\n",
       "      <th></th>\n",
       "      <th>mean_fit_time</th>\n",
       "      <th>mean_score_time</th>\n",
       "      <th>params</th>\n",
       "      <th>mean_test_auc</th>\n",
       "      <th>mean_test_f_1</th>\n",
       "    </tr>\n",
       "  </thead>\n",
       "  <tbody>\n",
       "    <tr>\n",
       "      <th>0</th>\n",
       "      <td>101.831246</td>\n",
       "      <td>4.359073</td>\n",
       "      <td>{'tfidfvectorizer__min_df': 5, 'tfidfvectorize...</td>\n",
       "      <td>0.803050</td>\n",
       "      <td>0.607628</td>\n",
       "    </tr>\n",
       "    <tr>\n",
       "      <th>1</th>\n",
       "      <td>105.759099</td>\n",
       "      <td>5.588149</td>\n",
       "      <td>{'tfidfvectorizer__min_df': 3, 'tfidfvectorize...</td>\n",
       "      <td>0.801378</td>\n",
       "      <td>0.607424</td>\n",
       "    </tr>\n",
       "    <tr>\n",
       "      <th>2</th>\n",
       "      <td>102.235319</td>\n",
       "      <td>5.358999</td>\n",
       "      <td>{'tfidfvectorizer__min_df': 5, 'tfidfvectorize...</td>\n",
       "      <td>0.799539</td>\n",
       "      <td>0.605679</td>\n",
       "    </tr>\n",
       "    <tr>\n",
       "      <th>3</th>\n",
       "      <td>105.627095</td>\n",
       "      <td>5.572526</td>\n",
       "      <td>{'tfidfvectorizer__min_df': 3, 'tfidfvectorize...</td>\n",
       "      <td>0.798786</td>\n",
       "      <td>0.603440</td>\n",
       "    </tr>\n",
       "    <tr>\n",
       "      <th>4</th>\n",
       "      <td>75.428860</td>\n",
       "      <td>5.327750</td>\n",
       "      <td>{'tfidfvectorizer__min_df': 3, 'tfidfvectorize...</td>\n",
       "      <td>0.806666</td>\n",
       "      <td>0.602310</td>\n",
       "    </tr>\n",
       "  </tbody>\n",
       "</table>\n",
       "</div>"
      ],
      "text/plain": [
       "   mean_fit_time  mean_score_time  \\\n",
       "0     101.831246         4.359073   \n",
       "1     105.759099         5.588149   \n",
       "2     102.235319         5.358999   \n",
       "3     105.627095         5.572526   \n",
       "4      75.428860         5.327750   \n",
       "\n",
       "                                              params  mean_test_auc  \\\n",
       "0  {'tfidfvectorizer__min_df': 5, 'tfidfvectorize...       0.803050   \n",
       "1  {'tfidfvectorizer__min_df': 3, 'tfidfvectorize...       0.801378   \n",
       "2  {'tfidfvectorizer__min_df': 5, 'tfidfvectorize...       0.799539   \n",
       "3  {'tfidfvectorizer__min_df': 3, 'tfidfvectorize...       0.798786   \n",
       "4  {'tfidfvectorizer__min_df': 3, 'tfidfvectorize...       0.806666   \n",
       "\n",
       "   mean_test_f_1  \n",
       "0       0.607628  \n",
       "1       0.607424  \n",
       "2       0.605679  \n",
       "3       0.603440  \n",
       "4       0.602310  "
      ]
     },
     "execution_count": 79,
     "metadata": {},
     "output_type": "execute_result"
    }
   ],
   "source": [
    "rs_pipeline_dtc_smote_df = pd.DataFrame(rs_pipeline_dtc_smote.cv_results_\n",
    "                                            ).sort_values(by='mean_test_f_1',ascending=False).reset_index(drop=True)\n",
    "\n",
    "rs_pipeline_dtc_smote_df[['mean_fit_time', 'mean_score_time', 'params', 'mean_test_auc', 'mean_test_f_1']].head()"
   ]
  },
  {
   "cell_type": "code",
   "execution_count": 80,
   "metadata": {},
   "outputs": [],
   "source": [
    "# добавим данные в итоговую таблицу\n",
    "dicts = [{'Name': 'DecisionTreeClassifier_SMOTE', \n",
    "          'f1_scores': rs_pipeline_dtc_smote.best_score_,\n",
    "          'roc_auc': rs_pipeline_dtc_smote_df.mean_test_auc[0],\n",
    "          'fit_time': fit_time_rs_pipeline_dtc_smote\n",
    "         }]\n",
    "        \n",
    "scores = scores.append(dicts, ignore_index=True, sort=False)"
   ]
  },
  {
   "cell_type": "code",
   "execution_count": 81,
   "metadata": {
    "scrolled": true
   },
   "outputs": [
    {
     "data": {
      "text/html": [
       "<div>\n",
       "<style scoped>\n",
       "    .dataframe tbody tr th:only-of-type {\n",
       "        vertical-align: middle;\n",
       "    }\n",
       "\n",
       "    .dataframe tbody tr th {\n",
       "        vertical-align: top;\n",
       "    }\n",
       "\n",
       "    .dataframe thead th {\n",
       "        text-align: right;\n",
       "    }\n",
       "</style>\n",
       "<table border=\"1\" class=\"dataframe\">\n",
       "  <thead>\n",
       "    <tr style=\"text-align: right;\">\n",
       "      <th></th>\n",
       "      <th>Name</th>\n",
       "      <th>f1_scores</th>\n",
       "      <th>roc_auc</th>\n",
       "      <th>fit_time</th>\n",
       "    </tr>\n",
       "  </thead>\n",
       "  <tbody>\n",
       "    <tr>\n",
       "      <th>0</th>\n",
       "      <td>LogisticRegression_class_weight_balanced</td>\n",
       "      <td>0.771198</td>\n",
       "      <td>0.967295</td>\n",
       "      <td>753.891382</td>\n",
       "    </tr>\n",
       "    <tr>\n",
       "      <th>1</th>\n",
       "      <td>DecisionTreeClassifier_class_weight_balanced</td>\n",
       "      <td>0.630828</td>\n",
       "      <td>0.817862</td>\n",
       "      <td>1144.100445</td>\n",
       "    </tr>\n",
       "    <tr>\n",
       "      <th>2</th>\n",
       "      <td>LGBMClassifier_class_weight_balanced</td>\n",
       "      <td>0.763820</td>\n",
       "      <td>0.955372</td>\n",
       "      <td>434.413973</td>\n",
       "    </tr>\n",
       "    <tr>\n",
       "      <th>3</th>\n",
       "      <td>LogisticRegression_undersample</td>\n",
       "      <td>0.681672</td>\n",
       "      <td>0.963080</td>\n",
       "      <td>221.933149</td>\n",
       "    </tr>\n",
       "    <tr>\n",
       "      <th>4</th>\n",
       "      <td>DecisionTreeClassifier_undersample</td>\n",
       "      <td>0.567604</td>\n",
       "      <td>0.838002</td>\n",
       "      <td>139.489653</td>\n",
       "    </tr>\n",
       "    <tr>\n",
       "      <th>5</th>\n",
       "      <td>LGBMClassifier_undersample</td>\n",
       "      <td>0.633704</td>\n",
       "      <td>0.951164</td>\n",
       "      <td>549.766629</td>\n",
       "    </tr>\n",
       "    <tr>\n",
       "      <th>6</th>\n",
       "      <td>LogisticRegression_SMOTE</td>\n",
       "      <td>0.666378</td>\n",
       "      <td>0.946335</td>\n",
       "      <td>361.421563</td>\n",
       "    </tr>\n",
       "    <tr>\n",
       "      <th>7</th>\n",
       "      <td>DecisionTreeClassifier_SMOTE</td>\n",
       "      <td>0.607628</td>\n",
       "      <td>0.803050</td>\n",
       "      <td>776.629099</td>\n",
       "    </tr>\n",
       "  </tbody>\n",
       "</table>\n",
       "</div>"
      ],
      "text/plain": [
       "                                           Name  f1_scores   roc_auc  \\\n",
       "0      LogisticRegression_class_weight_balanced   0.771198  0.967295   \n",
       "1  DecisionTreeClassifier_class_weight_balanced   0.630828  0.817862   \n",
       "2          LGBMClassifier_class_weight_balanced   0.763820  0.955372   \n",
       "3                LogisticRegression_undersample   0.681672  0.963080   \n",
       "4            DecisionTreeClassifier_undersample   0.567604  0.838002   \n",
       "5                    LGBMClassifier_undersample   0.633704  0.951164   \n",
       "6                      LogisticRegression_SMOTE   0.666378  0.946335   \n",
       "7                  DecisionTreeClassifier_SMOTE   0.607628  0.803050   \n",
       "\n",
       "      fit_time  \n",
       "0   753.891382  \n",
       "1  1144.100445  \n",
       "2   434.413973  \n",
       "3   221.933149  \n",
       "4   139.489653  \n",
       "5   549.766629  \n",
       "6   361.421563  \n",
       "7   776.629099  "
      ]
     },
     "execution_count": 81,
     "metadata": {},
     "output_type": "execute_result"
    }
   ],
   "source": [
    "scores"
   ]
  },
  {
   "cell_type": "markdown",
   "metadata": {
    "id": "yCtPa4N5U9H_"
   },
   "source": [
    "#### LightGBM Classifier"
   ]
  },
  {
   "cell_type": "code",
   "execution_count": 82,
   "metadata": {
    "colab": {
     "base_uri": "https://localhost:8080/",
     "height": 161
    },
    "executionInfo": {
     "elapsed": 281,
     "status": "ok",
     "timestamp": 1678801149091,
     "user": {
      "displayName": "Vasiliy Kuzmin",
      "userId": "10187521586314845244"
     },
     "user_tz": -180
    },
    "id": "HMLS3BpsU9IA",
    "outputId": "9a4b1d9b-2e75-4d35-f2c2-169ece5a45f7"
   },
   "outputs": [
    {
     "data": {
      "text/plain": [
       "Pipeline(steps=[('tfidfvectorizer', TfidfVectorizer()),\n",
       "                ('smote', SMOTE(random_state=1234)),\n",
       "                ('lgbmclassifier',\n",
       "                 LGBMClassifier(learning_rate=0.3, n_estimators=500))])"
      ]
     },
     "execution_count": 82,
     "metadata": {},
     "output_type": "execute_result"
    }
   ],
   "source": [
    "\n",
    "pipeline_lgbm_smote = make_pipeline(TfidfVectorizer(norm=\"l2\", ngram_range=(1, 1)),\n",
    "                                         SMOTE(random_state=RNDST),\n",
    "                                         LGBMClassifier(learning_rate=0.3,\n",
    "                                                        n_estimators=500))\n",
    "\n",
    "pipeline_lgbm_smote"
   ]
  },
  {
   "cell_type": "code",
   "execution_count": 83,
   "metadata": {
    "executionInfo": {
     "elapsed": 285,
     "status": "ok",
     "timestamp": 1678801161563,
     "user": {
      "displayName": "Vasiliy Kuzmin",
      "userId": "10187521586314845244"
     },
     "user_tz": -180
    },
    "id": "QvFQhTymU9IB"
   },
   "outputs": [],
   "source": [
    "parameter_grid__pipe_lgbm_smote = {\n",
    "    \"tfidfvectorizer__max_df\": (0.5, 0.7),\n",
    "    \"tfidfvectorizer__min_df\": (3, 5),\n",
    "    \"lgbmclassifier__max_depth\": (20, 50, 70)\n",
    "}"
   ]
  },
  {
   "cell_type": "code",
   "execution_count": 84,
   "metadata": {
    "colab": {
     "base_uri": "https://localhost:8080/"
    },
    "executionInfo": {
     "elapsed": 679891,
     "status": "ok",
     "timestamp": 1678811374154,
     "user": {
      "displayName": "Vasiliy Kuzmin",
      "userId": "10187521586314845244"
     },
     "user_tz": -180
    },
    "id": "fd8AJZhsU9IB",
    "outputId": "0051df81-4c89-4bdf-a315-4f38f3756497"
   },
   "outputs": [
    {
     "name": "stdout",
     "output_type": "stream",
     "text": [
      "Fitting 3 folds for each of 12 candidates, totalling 36 fits\n",
      "Лучший результат F1 меры модели LGBMClassifier() на кросвалидационной выборке: 0.7589363786487957\n",
      "время обучения модели: 2987.02 секунд\n"
     ]
    }
   ],
   "source": [
    "rs_pipeline_lgbm_smote = RandomizedSearchCV(\n",
    "    estimator=pipeline_lgbm_smote,\n",
    "    param_distributions=parameter_grid__pipe_lgbm_smote,\n",
    "    n_iter=20,\n",
    "    random_state=RNDST,\n",
    "    n_jobs=-1,\n",
    "    verbose=3,\n",
    "    scoring=scoring,\n",
    "    refit=\"f_1\",\n",
    "    cv=3\n",
    ")\n",
    "start = time()\n",
    "rs_pipeline_lgbm_smote.fit(feature_train, target_train)\n",
    "\n",
    "fit_time_rs_pipeline_lgbm_smote = time() - start\n",
    "\n",
    "print('Лучший результат F1 меры модели LGBMClassifier() на кросвалидационной выборке:', \n",
    "      rs_pipeline_lgbm_smote.best_score_)\n",
    "\n",
    "\n",
    "print('время обучения модели: %.2F секунд' %fit_time_rs_pipeline_lgbm_smote)"
   ]
  },
  {
   "cell_type": "code",
   "execution_count": 85,
   "metadata": {
    "id": "TM3fWKTQU9IC"
   },
   "outputs": [
    {
     "data": {
      "text/html": [
       "<div>\n",
       "<style scoped>\n",
       "    .dataframe tbody tr th:only-of-type {\n",
       "        vertical-align: middle;\n",
       "    }\n",
       "\n",
       "    .dataframe tbody tr th {\n",
       "        vertical-align: top;\n",
       "    }\n",
       "\n",
       "    .dataframe thead th {\n",
       "        text-align: right;\n",
       "    }\n",
       "</style>\n",
       "<table border=\"1\" class=\"dataframe\">\n",
       "  <thead>\n",
       "    <tr style=\"text-align: right;\">\n",
       "      <th></th>\n",
       "      <th>mean_fit_time</th>\n",
       "      <th>mean_score_time</th>\n",
       "      <th>params</th>\n",
       "      <th>mean_test_auc</th>\n",
       "      <th>mean_test_f_1</th>\n",
       "    </tr>\n",
       "  </thead>\n",
       "  <tbody>\n",
       "    <tr>\n",
       "      <th>0</th>\n",
       "      <td>279.955911</td>\n",
       "      <td>13.952147</td>\n",
       "      <td>{'tfidfvectorizer__min_df': 3, 'tfidfvectorize...</td>\n",
       "      <td>0.952074</td>\n",
       "      <td>0.758936</td>\n",
       "    </tr>\n",
       "    <tr>\n",
       "      <th>1</th>\n",
       "      <td>278.532074</td>\n",
       "      <td>13.436557</td>\n",
       "      <td>{'tfidfvectorizer__min_df': 3, 'tfidfvectorize...</td>\n",
       "      <td>0.952074</td>\n",
       "      <td>0.758936</td>\n",
       "    </tr>\n",
       "    <tr>\n",
       "      <th>2</th>\n",
       "      <td>277.285825</td>\n",
       "      <td>13.672244</td>\n",
       "      <td>{'tfidfvectorizer__min_df': 5, 'tfidfvectorize...</td>\n",
       "      <td>0.951569</td>\n",
       "      <td>0.751913</td>\n",
       "    </tr>\n",
       "    <tr>\n",
       "      <th>3</th>\n",
       "      <td>275.970517</td>\n",
       "      <td>13.350597</td>\n",
       "      <td>{'tfidfvectorizer__min_df': 5, 'tfidfvectorize...</td>\n",
       "      <td>0.951569</td>\n",
       "      <td>0.751913</td>\n",
       "    </tr>\n",
       "    <tr>\n",
       "      <th>4</th>\n",
       "      <td>313.224733</td>\n",
       "      <td>15.155186</td>\n",
       "      <td>{'tfidfvectorizer__min_df': 3, 'tfidfvectorize...</td>\n",
       "      <td>0.952429</td>\n",
       "      <td>0.746855</td>\n",
       "    </tr>\n",
       "  </tbody>\n",
       "</table>\n",
       "</div>"
      ],
      "text/plain": [
       "   mean_fit_time  mean_score_time  \\\n",
       "0     279.955911        13.952147   \n",
       "1     278.532074        13.436557   \n",
       "2     277.285825        13.672244   \n",
       "3     275.970517        13.350597   \n",
       "4     313.224733        15.155186   \n",
       "\n",
       "                                              params  mean_test_auc  \\\n",
       "0  {'tfidfvectorizer__min_df': 3, 'tfidfvectorize...       0.952074   \n",
       "1  {'tfidfvectorizer__min_df': 3, 'tfidfvectorize...       0.952074   \n",
       "2  {'tfidfvectorizer__min_df': 5, 'tfidfvectorize...       0.951569   \n",
       "3  {'tfidfvectorizer__min_df': 5, 'tfidfvectorize...       0.951569   \n",
       "4  {'tfidfvectorizer__min_df': 3, 'tfidfvectorize...       0.952429   \n",
       "\n",
       "   mean_test_f_1  \n",
       "0       0.758936  \n",
       "1       0.758936  \n",
       "2       0.751913  \n",
       "3       0.751913  \n",
       "4       0.746855  "
      ]
     },
     "execution_count": 85,
     "metadata": {},
     "output_type": "execute_result"
    }
   ],
   "source": [
    "rs_pipeline_lgbm_smote_df = pd.DataFrame(rs_pipeline_lgbm_smote.cv_results_\n",
    "                                            ).sort_values(by='mean_test_f_1',ascending=False).reset_index(drop=True)\n",
    "\n",
    "rs_pipeline_lgbm_smote_df[['mean_fit_time', 'mean_score_time', 'params', 'mean_test_auc', 'mean_test_f_1']].head()"
   ]
  },
  {
   "cell_type": "code",
   "execution_count": 86,
   "metadata": {},
   "outputs": [],
   "source": [
    "# добавим данные в итоговую таблицу\n",
    "dicts = [{'Name': 'LightGBM Classifier_SMOTE', \n",
    "          'f1_scores': rs_pipeline_lgbm_smote.best_score_,\n",
    "          'roc_auc': rs_pipeline_lgbm_smote_df.mean_test_auc[0],\n",
    "          'fit_time': fit_time_rs_pipeline_lgbm_smote\n",
    "         }]\n",
    "        \n",
    "scores = scores.append(dicts, ignore_index=True, sort=False)"
   ]
  },
  {
   "cell_type": "code",
   "execution_count": 87,
   "metadata": {
    "scrolled": true
   },
   "outputs": [
    {
     "data": {
      "text/html": [
       "<div>\n",
       "<style scoped>\n",
       "    .dataframe tbody tr th:only-of-type {\n",
       "        vertical-align: middle;\n",
       "    }\n",
       "\n",
       "    .dataframe tbody tr th {\n",
       "        vertical-align: top;\n",
       "    }\n",
       "\n",
       "    .dataframe thead th {\n",
       "        text-align: right;\n",
       "    }\n",
       "</style>\n",
       "<table border=\"1\" class=\"dataframe\">\n",
       "  <thead>\n",
       "    <tr style=\"text-align: right;\">\n",
       "      <th></th>\n",
       "      <th>Name</th>\n",
       "      <th>f1_scores</th>\n",
       "      <th>roc_auc</th>\n",
       "      <th>fit_time</th>\n",
       "    </tr>\n",
       "  </thead>\n",
       "  <tbody>\n",
       "    <tr>\n",
       "      <th>0</th>\n",
       "      <td>LogisticRegression_class_weight_balanced</td>\n",
       "      <td>0.771198</td>\n",
       "      <td>0.967295</td>\n",
       "      <td>753.891382</td>\n",
       "    </tr>\n",
       "    <tr>\n",
       "      <th>2</th>\n",
       "      <td>LGBMClassifier_class_weight_balanced</td>\n",
       "      <td>0.763820</td>\n",
       "      <td>0.955372</td>\n",
       "      <td>434.413973</td>\n",
       "    </tr>\n",
       "    <tr>\n",
       "      <th>8</th>\n",
       "      <td>LightGBM Classifier_SMOTE</td>\n",
       "      <td>0.758936</td>\n",
       "      <td>0.952074</td>\n",
       "      <td>2987.016736</td>\n",
       "    </tr>\n",
       "    <tr>\n",
       "      <th>3</th>\n",
       "      <td>LogisticRegression_undersample</td>\n",
       "      <td>0.681672</td>\n",
       "      <td>0.963080</td>\n",
       "      <td>221.933149</td>\n",
       "    </tr>\n",
       "    <tr>\n",
       "      <th>6</th>\n",
       "      <td>LogisticRegression_SMOTE</td>\n",
       "      <td>0.666378</td>\n",
       "      <td>0.946335</td>\n",
       "      <td>361.421563</td>\n",
       "    </tr>\n",
       "    <tr>\n",
       "      <th>5</th>\n",
       "      <td>LGBMClassifier_undersample</td>\n",
       "      <td>0.633704</td>\n",
       "      <td>0.951164</td>\n",
       "      <td>549.766629</td>\n",
       "    </tr>\n",
       "    <tr>\n",
       "      <th>1</th>\n",
       "      <td>DecisionTreeClassifier_class_weight_balanced</td>\n",
       "      <td>0.630828</td>\n",
       "      <td>0.817862</td>\n",
       "      <td>1144.100445</td>\n",
       "    </tr>\n",
       "    <tr>\n",
       "      <th>7</th>\n",
       "      <td>DecisionTreeClassifier_SMOTE</td>\n",
       "      <td>0.607628</td>\n",
       "      <td>0.803050</td>\n",
       "      <td>776.629099</td>\n",
       "    </tr>\n",
       "    <tr>\n",
       "      <th>4</th>\n",
       "      <td>DecisionTreeClassifier_undersample</td>\n",
       "      <td>0.567604</td>\n",
       "      <td>0.838002</td>\n",
       "      <td>139.489653</td>\n",
       "    </tr>\n",
       "  </tbody>\n",
       "</table>\n",
       "</div>"
      ],
      "text/plain": [
       "                                           Name  f1_scores   roc_auc  \\\n",
       "0      LogisticRegression_class_weight_balanced   0.771198  0.967295   \n",
       "2          LGBMClassifier_class_weight_balanced   0.763820  0.955372   \n",
       "8                     LightGBM Classifier_SMOTE   0.758936  0.952074   \n",
       "3                LogisticRegression_undersample   0.681672  0.963080   \n",
       "6                      LogisticRegression_SMOTE   0.666378  0.946335   \n",
       "5                    LGBMClassifier_undersample   0.633704  0.951164   \n",
       "1  DecisionTreeClassifier_class_weight_balanced   0.630828  0.817862   \n",
       "7                  DecisionTreeClassifier_SMOTE   0.607628  0.803050   \n",
       "4            DecisionTreeClassifier_undersample   0.567604  0.838002   \n",
       "\n",
       "      fit_time  \n",
       "0   753.891382  \n",
       "2   434.413973  \n",
       "8  2987.016736  \n",
       "3   221.933149  \n",
       "6   361.421563  \n",
       "5   549.766629  \n",
       "1  1144.100445  \n",
       "7   776.629099  \n",
       "4   139.489653  "
      ]
     },
     "execution_count": 87,
     "metadata": {},
     "output_type": "execute_result"
    }
   ],
   "source": [
    "scores.sort_values('f1_scores', ascending=False)"
   ]
  },
  {
   "cell_type": "code",
   "execution_count": 88,
   "metadata": {},
   "outputs": [
    {
     "data": {
      "image/png": "[encoded data removed]",
      "text/plain": [
       "<Figure size 432x288 with 1 Axes>"
      ]
     },
     "metadata": {
      "needs_background": "light"
     },
     "output_type": "display_data"
    }
   ],
   "source": [
    "#результаты F1 меры на моделях с использованием 'class_weight': 'balanced', undersample, SMOTE\n",
    "\n",
    "ax = scores.plot.bar(y='f1_scores', \n",
    "                     x='Name',\n",
    "                     rot=90)\n",
    "\n",
    "\n",
    "\n",
    "plt.xlabel(\"Модели\")\n",
    "plt.ylabel(\"Scores\")\n",
    "plt.title(\"Результаты F1 меры на моделях с использованием 'class_weight': 'balanced', undersample, SMOTE\")\n",
    "plt.legend([\"f1_scores\"])\n",
    "plt.grid(b=True, axis='y')\n",
    "\n",
    "plt.show()"
   ]
  },
  {
   "cell_type": "code",
   "execution_count": 89,
   "metadata": {},
   "outputs": [
    {
     "data": {
      "image/png": "[encoded data removed]",
      "text/plain": [
       "<Figure size 432x288 with 1 Axes>"
      ]
     },
     "metadata": {
      "needs_background": "light"
     },
     "output_type": "display_data"
    }
   ],
   "source": [
    "#результаты roc_auc на моделях с использованием 'class_weight': 'balanced', undersample, SMOTE\n",
    "\n",
    "ax = scores.plot.bar(y='roc_auc', x='Name', rot=90)\n",
    "\n",
    "plt.xlabel(\"Модели\")\n",
    "plt.ylabel(\"Scores\")\n",
    "plt.title(\"Результаты roc_auc на моделях с использованием 'class_weight': 'balanced', undersample, SMOTE\")\n",
    "\n",
    "plt.grid(b=True, axis='y')\n",
    "\n",
    "plt.show()"
   ]
  },
  {
   "cell_type": "markdown",
   "metadata": {},
   "source": [
    "Все модели отработали лучше чем DummyClassifier которая генерировала ответы соблюдая соотношение классов.\n",
    "\n",
    "У нас получились примерно одинаковые значения F1 меры на моделях LogisticRegression с автоматической балансировкой классов при обучении и LGBMClassifier с автоматической балансировкой и балансировкой классов путем увеличения меньшего класса.\n",
    "Все три модели переступили заданный рубеж 0,75. При этом модель LogisticRegression_class_weight_balanced показала результаты чуть лучше остальных трех и в метрике F1 и roc_auc. Проверим ее на тестовых данных"
   ]
  },
  {
   "cell_type": "code",
   "execution_count": 90,
   "metadata": {},
   "outputs": [
    {
     "data": {
      "text/html": [
       "<div>\n",
       "<style scoped>\n",
       "    .dataframe tbody tr th:only-of-type {\n",
       "        vertical-align: middle;\n",
       "    }\n",
       "\n",
       "    .dataframe tbody tr th {\n",
       "        vertical-align: top;\n",
       "    }\n",
       "\n",
       "    .dataframe thead th {\n",
       "        text-align: right;\n",
       "    }\n",
       "</style>\n",
       "<table border=\"1\" class=\"dataframe\">\n",
       "  <thead>\n",
       "    <tr style=\"text-align: right;\">\n",
       "      <th></th>\n",
       "      <th>Name</th>\n",
       "      <th>f1_scores</th>\n",
       "      <th>roc_auc</th>\n",
       "      <th>fit_time</th>\n",
       "    </tr>\n",
       "  </thead>\n",
       "  <tbody>\n",
       "    <tr>\n",
       "      <th>0</th>\n",
       "      <td>LogisticRegression_class_weight_balanced</td>\n",
       "      <td>0.771198</td>\n",
       "      <td>0.967295</td>\n",
       "      <td>753.891382</td>\n",
       "    </tr>\n",
       "    <tr>\n",
       "      <th>2</th>\n",
       "      <td>LGBMClassifier_class_weight_balanced</td>\n",
       "      <td>0.763820</td>\n",
       "      <td>0.955372</td>\n",
       "      <td>434.413973</td>\n",
       "    </tr>\n",
       "    <tr>\n",
       "      <th>8</th>\n",
       "      <td>LightGBM Classifier_SMOTE</td>\n",
       "      <td>0.758936</td>\n",
       "      <td>0.952074</td>\n",
       "      <td>2987.016736</td>\n",
       "    </tr>\n",
       "  </tbody>\n",
       "</table>\n",
       "</div>"
      ],
      "text/plain": [
       "                                       Name  f1_scores   roc_auc     fit_time\n",
       "0  LogisticRegression_class_weight_balanced   0.771198  0.967295   753.891382\n",
       "2      LGBMClassifier_class_weight_balanced   0.763820  0.955372   434.413973\n",
       "8                 LightGBM Classifier_SMOTE   0.758936  0.952074  2987.016736"
      ]
     },
     "execution_count": 90,
     "metadata": {},
     "output_type": "execute_result"
    }
   ],
   "source": [
    "scores.loc[scores['Name'].isin(['LogisticRegression_class_weight_balanced',\n",
    "                                'LGBMClassifier_class_weight_balanced', \n",
    "                                'LightGBM Classifier_SMOTE'])]"
   ]
  },
  {
   "cell_type": "markdown",
   "metadata": {},
   "source": [
    "## тестирование модели"
   ]
  },
  {
   "cell_type": "code",
   "execution_count": 95,
   "metadata": {},
   "outputs": [],
   "source": [
    "rs_pipeline_lr_balanced_test = f1_score(target_test, rs_pipeline_lr_balanced.predict(feature_test))\n",
    "rfc_balance_roc_auc_score_test = roc_auc_score(target_test, rs_pipeline_lr_balanced.predict(feature_test))\n"
   ]
  },
  {
   "cell_type": "code",
   "execution_count": 96,
   "metadata": {
    "id": "9JX9ctExwRG2"
   },
   "outputs": [
    {
     "name": "stdout",
     "output_type": "stream",
     "text": [
      "Лучший результат F1 меры модели RandomForestClassifier на тестовой выборке: 0.7759838546922301\n",
      "\n",
      "AUC ROC модели RandomForestClassifier на тестовой выборке: 0.8818215707119539\n"
     ]
    }
   ],
   "source": [
    "print('Лучший результат F1 меры модели RandomForestClassifier на тестовой выборке:', rs_pipeline_lr_balanced_test)\n",
    "print()\n",
    "print(\"AUC ROC модели RandomForestClassifier на тестовой выборке:\", rfc_balance_roc_auc_score_test)"
   ]
  },
  {
   "cell_type": "code",
   "execution_count": 97,
   "metadata": {},
   "outputs": [
    {
     "data": {
      "image/png": "[encoded data removed]",
      "text/plain": [
       "<Figure size 432x288 with 1 Axes>"
      ]
     },
     "metadata": {
      "needs_background": "light"
     },
     "output_type": "display_data"
    }
   ],
   "source": [
    "# Вычислим вероятности классов\n",
    "probabilities_test = rs_pipeline_lr_balanced.predict_proba(feature_test)\n",
    "probabilities_one_test = probabilities_test[:, 1]\n",
    "\n",
    "fpr, tpr, thresholds = roc_curve(target_test, probabilities_one_test)\n",
    "\n",
    "# Построим ROC кривую\n",
    "plt.figure()\n",
    "plt.plot(fpr, tpr)\n",
    "plt.plot([0, 1], [0, 1])\n",
    "plt.xlim([0.0, 1.0])\n",
    "plt.ylim([0.0, 1.0])\n",
    "plt.xlabel('False Positive Rate')\n",
    "plt.ylabel('True Positive Rate')\n",
    "plt.title('ROC-кривая')\n",
    "plt.show()"
   ]
  },
  {
   "cell_type": "markdown",
   "metadata": {
    "id": "94vbpbLk6soO"
   },
   "source": [
    "## Выводы"
   ]
  },
  {
   "attachments": {
    "image-2.png": {
     "image/png": "[encoded data removed]"
    },
    "image.png": {
     "image/png": "[encoded data removed]"
    }
   },
   "cell_type": "markdown",
   "metadata": {
    "executionInfo": {
     "elapsed": 40,
     "status": "aborted",
     "timestamp": 1678788968343,
     "user": {
      "displayName": "Vasiliy Kuzmin",
      "userId": "10187521586314845244"
     },
     "user_tz": -180
    },
    "id": "Hz7Dmpgl6soO"
   },
   "source": [
    "Перед нами стояла задача: Обучить модель классифицировать комментарии на позитивные и негативные.\n",
    "\n",
    "Цель: Обучить несколько моделей, выбрать лучшую, добиться значением метрики качества F1 не меньше 0.75. В нашем распоряжении набор данных с разметкой о токсичности правок.\n",
    "\n",
    "Работы выполнили в 3 этапа\n",
    "\n",
    "1. Загрузка и подготовка данных.\n",
    "2. Обучение разных моделей.\n",
    "3. Выбор модели и проверка на тестовых данных.\n",
    "\n",
    "В ходе подготовки данных \n",
    "1. написали собственную функцию с помощью которой привели к строчным буквам все слова, убрали знаки пунктуации, удалили стоп слова, лемматизировали слова в тексте. \n",
    "2. обнаружили дисбаланс в целевом признаке примерно в соотношении 1:9 ![image.png](attachment:image.png)\n",
    "3. разделили данные на тренировочную и тестовую выборки с сохранением дисбаланса классов.                                   \n",
    "\n",
    "Для обучения выбрали модели \n",
    "* LogisticRegression \n",
    "* LGBMClassifier \n",
    "* DecisionTreeClassifier\n",
    "Векторизацию данных выполнили при помощи TfidfVectorizer в make_pipeline.\n",
    "Параметры моделей и TfidfVectorizer перебирали при помощи RandomizedSearchCV\n",
    "\n",
    "Для работы с дисбалансом классов выбрали следующие методы:\n",
    "1. Выполнили автоматическую балансировку классов при помощи 'class_weight': 'balanced'\n",
    "2. Использовали функцию RandomUnderSampler для балансировки классов путем уменьшения мажоритарного класса\n",
    "3. Выполнили балансировку классов путем увеличения меньшего класса с помощью функции SMOTE\n",
    "4. Для проверки на адекватность использовали DummyClassifier, которая генерировала ответы соблюдая соотношение классов\n",
    " \n",
    "\n",
    "\n",
    "\n",
    "Все модели отработали лучше чем DummyClassifier \n",
    "\n",
    "Получились примерно одинаковые значения F1 меры на моделях \n",
    "* LogisticRegression с автоматической балансировкой классов \n",
    "* LGBMClassifier с автоматической балансировкой классов\n",
    "* LGBMClassifier балансировкой классов путем увеличения меньшего класса.\n",
    "\n",
    "Все три модели переступили заданный рубеж 0,75 для F1. При этом модель LogisticRegression_class_weight_balanced показала результаты чуть лучше остальных трех и в метрике F1 и roc_auc. \n",
    "\n",
    "Модель LogisticRegression с автоматической балансировкой классов проверили на тестовой выборке с результатом \n",
    "* F1: 0.7759838546922301 \n",
    "* AUC ROC: 0.8818215707119539\n",
    "\n",
    "![image-2.png](attachment:image-2.png)\n",
    "\n",
    "\n",
    "Метрика F1 превышает необходимый рубеж 0,75 заданный условием проекта.\n",
    "Цели и задачи проекта выполнены."
   ]
  },
  {
   "cell_type": "code",
   "execution_count": null,
   "metadata": {},
   "outputs": [],
   "source": []
  }
 ],
 "metadata": {
  "ExecuteTimeLog": [
   {
    "duration": 4825,
    "start_time": "2023-03-17T06:52:54.247Z"
   },
   {
    "duration": 138,
    "start_time": "2023-03-17T06:53:07.402Z"
   },
   {
    "duration": 3,
    "start_time": "2023-03-17T06:54:53.068Z"
   },
   {
    "duration": 4,
    "start_time": "2023-03-17T06:54:53.297Z"
   },
   {
    "duration": 3,
    "start_time": "2023-03-17T06:54:53.448Z"
   },
   {
    "duration": 3,
    "start_time": "2023-03-17T06:54:53.856Z"
   },
   {
    "duration": 3,
    "start_time": "2023-03-17T06:54:54.252Z"
   },
   {
    "duration": 50,
    "start_time": "2023-03-17T07:49:11.808Z"
   },
   {
    "duration": 6891,
    "start_time": "2023-03-17T07:50:59.524Z"
   },
   {
    "duration": 1581,
    "start_time": "2023-03-17T08:17:04.427Z"
   },
   {
    "duration": 4,
    "start_time": "2023-03-17T08:17:08.851Z"
   },
   {
    "duration": 7,
    "start_time": "2023-03-17T08:17:22.589Z"
   },
   {
    "duration": 214,
    "start_time": "2023-03-17T08:17:52.677Z"
   },
   {
    "duration": 6,
    "start_time": "2023-03-17T08:19:38.802Z"
   },
   {
    "duration": 3755,
    "start_time": "2023-03-17T08:21:05.269Z"
   },
   {
    "duration": 31,
    "start_time": "2023-03-17T08:22:24.960Z"
   },
   {
    "duration": 48,
    "start_time": "2023-03-17T08:24:49.946Z"
   },
   {
    "duration": 57,
    "start_time": "2023-03-17T08:30:20.414Z"
   },
   {
    "duration": 2277,
    "start_time": "2023-03-17T08:36:35.081Z"
   },
   {
    "duration": 16,
    "start_time": "2023-03-17T08:40:19.766Z"
   },
   {
    "duration": 921,
    "start_time": "2023-03-17T08:40:29.490Z"
   },
   {
    "duration": 867,
    "start_time": "2023-03-17T08:40:44.664Z"
   },
   {
    "duration": 37,
    "start_time": "2023-03-17T08:40:47.112Z"
   },
   {
    "duration": 16,
    "start_time": "2023-03-17T08:40:49.517Z"
   },
   {
    "duration": 21,
    "start_time": "2023-03-17T08:40:52.426Z"
   },
   {
    "duration": 6,
    "start_time": "2023-03-17T08:40:54.858Z"
   },
   {
    "duration": 179,
    "start_time": "2023-03-17T08:40:59.207Z"
   },
   {
    "duration": 3,
    "start_time": "2023-03-17T08:41:03.605Z"
   },
   {
    "duration": 257,
    "start_time": "2023-03-17T08:41:26.461Z"
   },
   {
    "duration": 4,
    "start_time": "2023-03-17T08:41:48.457Z"
   },
   {
    "duration": 225,
    "start_time": "2023-03-17T08:41:53.646Z"
   },
   {
    "duration": 2280,
    "start_time": "2023-03-17T08:42:31.132Z"
   },
   {
    "duration": 608,
    "start_time": "2023-03-17T08:42:47.172Z"
   },
   {
    "duration": 2187,
    "start_time": "2023-03-17T08:42:55.944Z"
   },
   {
    "duration": 7,
    "start_time": "2023-03-17T08:43:02.009Z"
   },
   {
    "duration": 354375,
    "start_time": "2023-03-17T08:43:19.830Z"
   },
   {
    "duration": 8,
    "start_time": "2023-03-17T08:50:15.956Z"
   },
   {
    "duration": 4,
    "start_time": "2023-03-17T08:50:20.141Z"
   },
   {
    "duration": 60,
    "start_time": "2023-03-17T08:50:23.052Z"
   },
   {
    "duration": 4,
    "start_time": "2023-03-17T08:50:34.662Z"
   },
   {
    "duration": 48,
    "start_time": "2023-03-17T08:51:26.967Z"
   },
   {
    "duration": 4,
    "start_time": "2023-03-25T09:04:33.564Z"
   },
   {
    "duration": 3,
    "start_time": "2023-03-25T09:04:35.208Z"
   },
   {
    "duration": 2,
    "start_time": "2023-03-25T09:04:37.923Z"
   },
   {
    "duration": 2,
    "start_time": "2023-03-25T09:04:39.128Z"
   },
   {
    "duration": 6644,
    "start_time": "2023-03-25T09:04:40.512Z"
   },
   {
    "duration": 1539,
    "start_time": "2023-03-25T09:04:51.105Z"
   },
   {
    "duration": 3685,
    "start_time": "2023-03-25T09:04:59.040Z"
   },
   {
    "duration": 25,
    "start_time": "2023-03-25T09:05:06.835Z"
   },
   {
    "duration": 14,
    "start_time": "2023-03-25T09:05:08.284Z"
   },
   {
    "duration": 10,
    "start_time": "2023-03-25T09:05:11.080Z"
   },
   {
    "duration": 7,
    "start_time": "2023-03-25T09:05:13.663Z"
   },
   {
    "duration": 125,
    "start_time": "2023-03-25T09:05:17.787Z"
   },
   {
    "duration": 3,
    "start_time": "2023-03-25T09:05:29.723Z"
   },
   {
    "duration": 166,
    "start_time": "2023-03-25T09:05:33.435Z"
   },
   {
    "duration": 5,
    "start_time": "2023-03-25T09:05:38.347Z"
   },
   {
    "duration": 353,
    "start_time": "2023-03-25T09:05:41.074Z"
   },
   {
    "duration": 503,
    "start_time": "2023-03-25T09:06:12.066Z"
   },
   {
    "duration": 722,
    "start_time": "2023-03-25T09:06:18.106Z"
   },
   {
    "duration": 306316,
    "start_time": "2023-03-25T09:06:31.594Z"
   }
  ],
  "colab": {
   "provenance": []
  },
  "kernelspec": {
   "display_name": "Python 3 (ipykernel)",
   "language": "python",
   "name": "python3"
  },
  "language_info": {
   "codemirror_mode": {
    "name": "ipython",
    "version": 3
   },
   "file_extension": ".py",
   "mimetype": "text/x-python",
   "name": "python",
   "nbconvert_exporter": "python",
   "pygments_lexer": "ipython3",
   "version": "3.9.5"
  },
  "toc": {
   "base_numbering": 1,
   "nav_menu": {},
   "number_sections": true,
   "sideBar": true,
   "skip_h1_title": true,
   "title_cell": "Содержание",
   "title_sidebar": "Contents",
   "toc_cell": true,
   "toc_position": {
    "height": "calc(100% - 180px)",
    "left": "10px",
    "top": "150px",
    "width": "307.391px"
   },
   "toc_section_display": true,
   "toc_window_display": true
  }
 },
 "nbformat": 4,
 "nbformat_minor": 1
}
