{
 "cells": [
  {
   "cell_type": "markdown",
   "metadata": {
    "toc": true
   },
   "source": [
    "<h1>Содержание<span class=\"tocSkip\"></span></h1>\n",
    "<div class=\"toc\"><ul class=\"toc-item\"><li><span><a href=\"#Подготовка-данных\" data-toc-modified-id=\"Подготовка-данных-1\"><span class=\"toc-item-num\">1&nbsp;&nbsp;</span>Подготовка данных</a></span><ul class=\"toc-item\"><li><span><a href=\"#Откроем-и-изучим-данные\" data-toc-modified-id=\"Откроем-и-изучим-данные-1.1\"><span class=\"toc-item-num\">1.1&nbsp;&nbsp;</span>Откроем и изучим данные</a></span></li><li><span><a href=\"#Вывод\" data-toc-modified-id=\"Вывод-1.2\"><span class=\"toc-item-num\">1.2&nbsp;&nbsp;</span>Вывод</a></span></li></ul></li><li><span><a href=\"#Анализ-данных\" data-toc-modified-id=\"Анализ-данных-2\"><span class=\"toc-item-num\">2&nbsp;&nbsp;</span>Анализ данных</a></span><ul class=\"toc-item\"><li><span><a href=\"#Рассмотрим-целевой-признак-с-ценой\" data-toc-modified-id=\"Рассмотрим-целевой-признак-с-ценой-2.1\"><span class=\"toc-item-num\">2.1&nbsp;&nbsp;</span>Рассмотрим целевой признак с ценой</a></span></li><li><span><a href=\"#Проведем-предобработку-тренировочной-выборки\" data-toc-modified-id=\"Проведем-предобработку-тренировочной-выборки-2.2\"><span class=\"toc-item-num\">2.2&nbsp;&nbsp;</span>Проведем предобработку тренировочной выборки</a></span><ul class=\"toc-item\"><li><span><a href=\"#Пропущенные-значения\" data-toc-modified-id=\"Пропущенные-значения-2.2.1\"><span class=\"toc-item-num\">2.2.1&nbsp;&nbsp;</span>Пропущенные значения</a></span></li><li><span><a href=\"#Год-регистрации\" data-toc-modified-id=\"Год-регистрации-2.2.2\"><span class=\"toc-item-num\">2.2.2&nbsp;&nbsp;</span>Год регистрации</a></span></li><li><span><a href=\"#Мощность-двигателя\" data-toc-modified-id=\"Мощность-двигателя-2.2.3\"><span class=\"toc-item-num\">2.2.3&nbsp;&nbsp;</span>Мощность двигателя</a></span></li><li><span><a href=\"#Пробег\" data-toc-modified-id=\"Пробег-2.2.4\"><span class=\"toc-item-num\">2.2.4&nbsp;&nbsp;</span>Пробег</a></span></li><li><span><a href=\"#Почтовый-индекс\" data-toc-modified-id=\"Почтовый-индекс-2.2.5\"><span class=\"toc-item-num\">2.2.5&nbsp;&nbsp;</span>Почтовый индекс</a></span></li></ul></li><li><span><a href=\"#Подготовим-данные-для-обучения-моделей.\" data-toc-modified-id=\"Подготовим-данные-для-обучения-моделей.-2.3\"><span class=\"toc-item-num\">2.3&nbsp;&nbsp;</span>Подготовим данные для обучения моделей.</a></span></li><li><span><a href=\"#Выводы\" data-toc-modified-id=\"Выводы-2.4\"><span class=\"toc-item-num\">2.4&nbsp;&nbsp;</span>Выводы</a></span></li></ul></li><li><span><a href=\"#Обучение-моделей\" data-toc-modified-id=\"Обучение-моделей-3\"><span class=\"toc-item-num\">3&nbsp;&nbsp;</span>Обучение моделей</a></span><ul class=\"toc-item\"><li><span><a href=\"#Настройка-pipeline\" data-toc-modified-id=\"Настройка-pipeline-3.1\"><span class=\"toc-item-num\">3.1&nbsp;&nbsp;</span>Настройка pipeline</a></span></li><li><span><a href=\"#LinearRegression\" data-toc-modified-id=\"LinearRegression-3.2\"><span class=\"toc-item-num\">3.2&nbsp;&nbsp;</span>LinearRegression</a></span></li><li><span><a href=\"#LinearRegression_RandomizedSearchCV\" data-toc-modified-id=\"LinearRegression_RandomizedSearchCV-3.3\"><span class=\"toc-item-num\">3.3&nbsp;&nbsp;</span>LinearRegression_RandomizedSearchCV</a></span></li><li><span><a href=\"#DecisionTreeRegressor_RandomizedSearchCV\" data-toc-modified-id=\"DecisionTreeRegressor_RandomizedSearchCV-3.4\"><span class=\"toc-item-num\">3.4&nbsp;&nbsp;</span>DecisionTreeRegressor_RandomizedSearchCV</a></span></li><li><span><a href=\"#LightGBM\" data-toc-modified-id=\"LightGBM-3.5\"><span class=\"toc-item-num\">3.5&nbsp;&nbsp;</span>LightGBM</a></span></li><li><span><a href=\"#CatBoost\" data-toc-modified-id=\"CatBoost-3.6\"><span class=\"toc-item-num\">3.6&nbsp;&nbsp;</span>CatBoost</a></span></li></ul></li><li><span><a href=\"#Анализ-моделей\" data-toc-modified-id=\"Анализ-моделей-4\"><span class=\"toc-item-num\">4&nbsp;&nbsp;</span>Анализ моделей</a></span><ul class=\"toc-item\"><li><span><a href=\"#Подготовим-данные-тестовой-выборки\" data-toc-modified-id=\"Подготовим-данные-тестовой-выборки-4.1\"><span class=\"toc-item-num\">4.1&nbsp;&nbsp;</span>Подготовим данные тестовой выборки</a></span></li><li><span><a href=\"#Итоговое-тестирование-модели\" data-toc-modified-id=\"Итоговое-тестирование-модели-4.2\"><span class=\"toc-item-num\">4.2&nbsp;&nbsp;</span>Итоговое тестирование модели</a></span></li></ul></li><li><span><a href=\"#Итоги\" data-toc-modified-id=\"Итоги-5\"><span class=\"toc-item-num\">5&nbsp;&nbsp;</span>Итоги</a></span></li></ul></div>"
   ]
  },
  {
   "cell_type": "markdown",
   "metadata": {},
   "source": [
    "# Определение стоимости автомобилей"
   ]
  },
  {
   "cell_type": "markdown",
   "metadata": {},
   "source": [
    "\n",
    "Сервис по продаже автомобилей с пробегом «Не бит, не крашен» разрабатывает приложение для привлечения новых клиентов. В нём можно быстро узнать рыночную стоимость своего автомобиля. В вашем распоряжении исторические данные: технические характеристики, комплектации и цены автомобилей. Вам нужно построить модель для определения стоимости. \n",
    "\n",
    "Заказчику важны:\n",
    "\n",
    "- качество предсказания;\n",
    "- скорость предсказания;\n",
    "- время обучения.\n",
    "\n"
   ]
  },
  {
   "cell_type": "markdown",
   "metadata": {},
   "source": [
    "Подготовим прототип модели машинного обучения. \n",
    "\n",
    "Модель должна предсказать рыночную стоимость автомобиля. \n",
    "\n",
    "Для этого используем исторические данные: технические характеристики, комплектации и цены автомобилей. \n",
    "\n",
    "\n",
    "    \n",
    "Работы выполним в три этапа:\n",
    "\n",
    "* Подготовка данных;\n",
    "* Анализ данных;\n",
    "* Построение и обучение модели.\n",
    "\n",
    "\n",
    "Выбор модели на основе характеристик:\n",
    "* качество предсказания;\n",
    "* скорость предсказания;\n",
    "* время обучения."
   ]
  },
  {
   "cell_type": "markdown",
   "metadata": {},
   "source": [
    "## Подготовка данных"
   ]
  },
  {
   "cell_type": "markdown",
   "metadata": {},
   "source": [
    "### Откроем и изучим данные"
   ]
  },
  {
   "cell_type": "code",
   "execution_count": 1,
   "metadata": {},
   "outputs": [],
   "source": [
    "import pandas as pd\n",
    "import numpy as np\n",
    "import matplotlib.pyplot as plt\n",
    "import seaborn as sns\n",
    "from time import time\n",
    "\n",
    "\n",
    "from sklearn.pipeline import Pipeline, make_pipeline\n",
    "from sklearn.preprocessing import StandardScaler, OneHotEncoder\n",
    "from sklearn.preprocessing import OrdinalEncoder\n",
    "from sklearn.compose import ColumnTransformer, make_column_transformer\n",
    "from sklearn.metrics import make_scorer, mean_squared_error\n",
    "from sklearn.impute import SimpleImputer\n",
    "from sklearn.feature_selection import SelectPercentile, chi2\n",
    "from sklearn.model_selection import RandomizedSearchCV, train_test_split\n",
    "from sklearn.linear_model import LinearRegression\n",
    "from sklearn.tree import DecisionTreeRegressor\n",
    "from sklearn.dummy import DummyRegressor\n",
    "\n",
    "#pip install lightgbm\n",
    "import lightgbm as lgb\n",
    "\n",
    "#!pip install catboost\n",
    "from catboost import CatBoost, CatBoostRegressor, Pool\n",
    "\n",
    "import warnings\n",
    "warnings.filterwarnings(\"ignore\")"
   ]
  },
  {
   "cell_type": "code",
   "execution_count": 2,
   "metadata": {},
   "outputs": [],
   "source": [
    "RND_ST = 3101\n",
    "LIMIT_RMSE = 2500"
   ]
  },
  {
   "cell_type": "code",
   "execution_count": 3,
   "metadata": {},
   "outputs": [],
   "source": [
    "try:\n",
    "    df = pd.read_csv('_______________')\n",
    "    \n",
    "except:\n",
    "    df = pd.read_csv('autos.csv')"
   ]
  },
  {
   "cell_type": "code",
   "execution_count": 4,
   "metadata": {},
   "outputs": [
    {
     "data": {
      "text/html": [
       "<div>\n",
       "<style scoped>\n",
       "    .dataframe tbody tr th:only-of-type {\n",
       "        vertical-align: middle;\n",
       "    }\n",
       "\n",
       "    .dataframe tbody tr th {\n",
       "        vertical-align: top;\n",
       "    }\n",
       "\n",
       "    .dataframe thead th {\n",
       "        text-align: right;\n",
       "    }\n",
       "</style>\n",
       "<table border=\"1\" class=\"dataframe\">\n",
       "  <thead>\n",
       "    <tr style=\"text-align: right;\">\n",
       "      <th></th>\n",
       "      <th>DateCrawled</th>\n",
       "      <th>Price</th>\n",
       "      <th>VehicleType</th>\n",
       "      <th>RegistrationYear</th>\n",
       "      <th>Gearbox</th>\n",
       "      <th>Power</th>\n",
       "      <th>Model</th>\n",
       "      <th>Kilometer</th>\n",
       "      <th>RegistrationMonth</th>\n",
       "      <th>FuelType</th>\n",
       "      <th>Brand</th>\n",
       "      <th>Repaired</th>\n",
       "      <th>DateCreated</th>\n",
       "      <th>NumberOfPictures</th>\n",
       "      <th>PostalCode</th>\n",
       "      <th>LastSeen</th>\n",
       "    </tr>\n",
       "  </thead>\n",
       "  <tbody>\n",
       "    <tr>\n",
       "      <th>16991</th>\n",
       "      <td>2016-04-05 10:51:26</td>\n",
       "      <td>400</td>\n",
       "      <td>small</td>\n",
       "      <td>1994</td>\n",
       "      <td>manual</td>\n",
       "      <td>45</td>\n",
       "      <td>fiesta</td>\n",
       "      <td>150000</td>\n",
       "      <td>5</td>\n",
       "      <td>petrol</td>\n",
       "      <td>ford</td>\n",
       "      <td>yes</td>\n",
       "      <td>2016-04-05 00:00:00</td>\n",
       "      <td>0</td>\n",
       "      <td>28237</td>\n",
       "      <td>2016-04-05 11:40:54</td>\n",
       "    </tr>\n",
       "    <tr>\n",
       "      <th>120687</th>\n",
       "      <td>2016-04-03 17:55:48</td>\n",
       "      <td>11500</td>\n",
       "      <td>wagon</td>\n",
       "      <td>2010</td>\n",
       "      <td>manual</td>\n",
       "      <td>150</td>\n",
       "      <td>exeo</td>\n",
       "      <td>90000</td>\n",
       "      <td>5</td>\n",
       "      <td>petrol</td>\n",
       "      <td>seat</td>\n",
       "      <td>no</td>\n",
       "      <td>2016-04-03 00:00:00</td>\n",
       "      <td>0</td>\n",
       "      <td>74177</td>\n",
       "      <td>2016-04-05 18:17:49</td>\n",
       "    </tr>\n",
       "    <tr>\n",
       "      <th>139800</th>\n",
       "      <td>2016-04-04 10:53:01</td>\n",
       "      <td>1500</td>\n",
       "      <td>small</td>\n",
       "      <td>2000</td>\n",
       "      <td>manual</td>\n",
       "      <td>54</td>\n",
       "      <td>micra</td>\n",
       "      <td>100000</td>\n",
       "      <td>3</td>\n",
       "      <td>petrol</td>\n",
       "      <td>nissan</td>\n",
       "      <td>no</td>\n",
       "      <td>2016-04-04 00:00:00</td>\n",
       "      <td>0</td>\n",
       "      <td>20539</td>\n",
       "      <td>2016-04-06 12:17:50</td>\n",
       "    </tr>\n",
       "    <tr>\n",
       "      <th>2857</th>\n",
       "      <td>2016-03-11 13:50:35</td>\n",
       "      <td>6200</td>\n",
       "      <td>NaN</td>\n",
       "      <td>2018</td>\n",
       "      <td>manual</td>\n",
       "      <td>0</td>\n",
       "      <td>yaris</td>\n",
       "      <td>20000</td>\n",
       "      <td>4</td>\n",
       "      <td>NaN</td>\n",
       "      <td>toyota</td>\n",
       "      <td>NaN</td>\n",
       "      <td>2016-03-11 00:00:00</td>\n",
       "      <td>0</td>\n",
       "      <td>30952</td>\n",
       "      <td>2016-03-11 13:50:35</td>\n",
       "    </tr>\n",
       "    <tr>\n",
       "      <th>130586</th>\n",
       "      <td>2016-03-18 18:45:28</td>\n",
       "      <td>12500</td>\n",
       "      <td>wagon</td>\n",
       "      <td>2004</td>\n",
       "      <td>auto</td>\n",
       "      <td>204</td>\n",
       "      <td>e_klasse</td>\n",
       "      <td>150000</td>\n",
       "      <td>4</td>\n",
       "      <td>gasoline</td>\n",
       "      <td>mercedes_benz</td>\n",
       "      <td>no</td>\n",
       "      <td>2016-03-18 00:00:00</td>\n",
       "      <td>0</td>\n",
       "      <td>85445</td>\n",
       "      <td>2016-04-05 22:45:24</td>\n",
       "    </tr>\n",
       "  </tbody>\n",
       "</table>\n",
       "</div>"
      ],
      "text/plain": [
       "                DateCrawled  Price VehicleType  RegistrationYear Gearbox  \\\n",
       "16991   2016-04-05 10:51:26    400       small              1994  manual   \n",
       "120687  2016-04-03 17:55:48  11500       wagon              2010  manual   \n",
       "139800  2016-04-04 10:53:01   1500       small              2000  manual   \n",
       "2857    2016-03-11 13:50:35   6200         NaN              2018  manual   \n",
       "130586  2016-03-18 18:45:28  12500       wagon              2004    auto   \n",
       "\n",
       "        Power     Model  Kilometer  RegistrationMonth  FuelType  \\\n",
       "16991      45    fiesta     150000                  5    petrol   \n",
       "120687    150      exeo      90000                  5    petrol   \n",
       "139800     54     micra     100000                  3    petrol   \n",
       "2857        0     yaris      20000                  4       NaN   \n",
       "130586    204  e_klasse     150000                  4  gasoline   \n",
       "\n",
       "                Brand Repaired          DateCreated  NumberOfPictures  \\\n",
       "16991            ford      yes  2016-04-05 00:00:00                 0   \n",
       "120687           seat       no  2016-04-03 00:00:00                 0   \n",
       "139800         nissan       no  2016-04-04 00:00:00                 0   \n",
       "2857           toyota      NaN  2016-03-11 00:00:00                 0   \n",
       "130586  mercedes_benz       no  2016-03-18 00:00:00                 0   \n",
       "\n",
       "        PostalCode             LastSeen  \n",
       "16991        28237  2016-04-05 11:40:54  \n",
       "120687       74177  2016-04-05 18:17:49  \n",
       "139800       20539  2016-04-06 12:17:50  \n",
       "2857         30952  2016-03-11 13:50:35  \n",
       "130586       85445  2016-04-05 22:45:24  "
      ]
     },
     "execution_count": 4,
     "metadata": {},
     "output_type": "execute_result"
    }
   ],
   "source": [
    "df.sample(5)"
   ]
  },
  {
   "cell_type": "code",
   "execution_count": 5,
   "metadata": {},
   "outputs": [
    {
     "name": "stdout",
     "output_type": "stream",
     "text": [
      "<class 'pandas.core.frame.DataFrame'>\n",
      "RangeIndex: 354369 entries, 0 to 354368\n",
      "Data columns (total 16 columns):\n",
      " #   Column             Non-Null Count   Dtype \n",
      "---  ------             --------------   ----- \n",
      " 0   DateCrawled        354369 non-null  object\n",
      " 1   Price              354369 non-null  int64 \n",
      " 2   VehicleType        316879 non-null  object\n",
      " 3   RegistrationYear   354369 non-null  int64 \n",
      " 4   Gearbox            334536 non-null  object\n",
      " 5   Power              354369 non-null  int64 \n",
      " 6   Model              334664 non-null  object\n",
      " 7   Kilometer          354369 non-null  int64 \n",
      " 8   RegistrationMonth  354369 non-null  int64 \n",
      " 9   FuelType           321474 non-null  object\n",
      " 10  Brand              354369 non-null  object\n",
      " 11  Repaired           283215 non-null  object\n",
      " 12  DateCreated        354369 non-null  object\n",
      " 13  NumberOfPictures   354369 non-null  int64 \n",
      " 14  PostalCode         354369 non-null  int64 \n",
      " 15  LastSeen           354369 non-null  object\n",
      "dtypes: int64(7), object(9)\n",
      "memory usage: 43.3+ MB\n"
     ]
    }
   ],
   "source": [
    "df.info()"
   ]
  },
  {
   "cell_type": "markdown",
   "metadata": {},
   "source": [
    "1. Названия колонок приведем к общему виду без заглавных букв и написанию через нижнее подчеркивание.\n",
    "2. Типы данных в колонках DateCrawled, DateCreated, LastSeen переведем в тип DataTime"
   ]
  },
  {
   "cell_type": "code",
   "execution_count": 6,
   "metadata": {},
   "outputs": [],
   "source": [
    "#сменим названия колонок\n",
    "df.columns = ['date_crawled', 'price', 'vehicle_type', 'registration_year', 'gearbox',\n",
    "              'power', 'model', 'kilometer', 'registration_month', 'fuel_type', 'brand',\n",
    "              'repaired', 'date_created', 'number_of_pictures', 'postal_code', 'last_seen']"
   ]
  },
  {
   "cell_type": "code",
   "execution_count": 7,
   "metadata": {},
   "outputs": [],
   "source": [
    "#поменяем тип данных в колонках DateCrawled, DateCreated, LastSeen на DataTime\n",
    "df['date_crawled'] = pd.to_datetime(df['date_crawled'], format='%Y-%m-%dT%H:%M:%S')\n",
    "df['date_created'] = pd.to_datetime(df['date_created'], format='%Y-%m-%dT%H:%M:%S')\n",
    "df['last_seen'] = pd.to_datetime(df['last_seen'], format='%Y-%m-%dT%H:%M:%S')"
   ]
  },
  {
   "cell_type": "code",
   "execution_count": 8,
   "metadata": {
    "scrolled": true
   },
   "outputs": [
    {
     "name": "stdout",
     "output_type": "stream",
     "text": [
      "кол-во дублей: 4\n"
     ]
    }
   ],
   "source": [
    "print('кол-во дублей:', df.duplicated().sum())"
   ]
  },
  {
   "cell_type": "code",
   "execution_count": 9,
   "metadata": {},
   "outputs": [],
   "source": [
    "#удалим повторяющиеся строки\n",
    "df = df.drop_duplicates()\n",
    "df = df.reset_index(drop=True)"
   ]
  },
  {
   "cell_type": "code",
   "execution_count": 10,
   "metadata": {},
   "outputs": [
    {
     "data": {
      "image/png": "[encoded data removed]",
      "text/plain": [
       "<Figure size 1600x1600 with 2 Axes>"
      ]
     },
     "metadata": {},
     "output_type": "display_data"
    }
   ],
   "source": [
    "#Проверим на мультиколлинеарность\n",
    "plt.figure(figsize=(16, 16))\n",
    "df_plot = sns.heatmap(df.corr(method='spearman'), cmap=\"YlGnBu\", annot=True)  \n",
    "    \n",
    "  \n",
    "plt.show()"
   ]
  },
  {
   "cell_type": "markdown",
   "metadata": {},
   "source": [
    "Данные слабо коррелируют, ожидаемо наибольшую взаимосвязь с целевым признаком имеют год регистрации мощность двигателя и пробег."
   ]
  },
  {
   "cell_type": "code",
   "execution_count": 11,
   "metadata": {},
   "outputs": [
    {
     "name": "stdout",
     "output_type": "stream",
     "text": [
      "размер тренировочной выборки: (283492, 15) \n",
      " размер тестовой выборки: (70873, 15)\n"
     ]
    }
   ],
   "source": [
    "#Отделим от данных целевую переменную:\n",
    "\n",
    "features = df.drop('price', axis=1)\n",
    "\n",
    "target = df['price']\n",
    "\n",
    "#Поделим данные на тренировочную и тестовую выборки:\n",
    "\n",
    "f_train, f_test, target_train, target_test = train_test_split(features, target, test_size=0.2, \n",
    "                                                                              random_state=RND_ST)\n",
    "\n",
    "print('размер тренировочной выборки:',f_train.shape, '\\n',\n",
    "      'размер тестовой выборки:', f_test.shape)"
   ]
  },
  {
   "cell_type": "markdown",
   "metadata": {},
   "source": [
    "### Вывод\n",
    "\n",
    "Нам предоставлены исторические данные: технические характеристики, комплектации и цены автомобилей.\n",
    "Всего 15 колонок 354369 строк.\n",
    "В ходе подготовки данных: \n",
    "* названия колонок привели к общему виду без заглавных букв и написанию через нижнее подчеркивание.\n",
    "* типы данных в колонках DateCrawled, DateCreated, LastSeen перевели в тип DataTime.\n",
    "* Удалили повторяющиеся строки\n",
    "* данные слабо коррелируют, ожидаемо наибольшую взаимосвязь с целевым признаком имеют пробег мощность двигателя и год выпуска.\n",
    "* отделили целевую переменную с ценой, данные разбили на обучающую и тестовую выборки в соотношении 8:2"
   ]
  },
  {
   "cell_type": "markdown",
   "metadata": {},
   "source": [
    "## Анализ данных"
   ]
  },
  {
   "cell_type": "markdown",
   "metadata": {},
   "source": [
    "### Рассмотрим целевой признак с ценой"
   ]
  },
  {
   "cell_type": "code",
   "execution_count": 12,
   "metadata": {},
   "outputs": [
    {
     "data": {
      "text/plain": [
       "count    283492.000000\n",
       "mean       4417.157994\n",
       "std        4514.177494\n",
       "min           0.000000\n",
       "25%        1050.000000\n",
       "50%        2700.000000\n",
       "75%        6400.000000\n",
       "max       20000.000000\n",
       "Name: price, dtype: float64"
      ]
     },
     "execution_count": 12,
     "metadata": {},
     "output_type": "execute_result"
    }
   ],
   "source": [
    "target_train.describe()"
   ]
  },
  {
   "cell_type": "code",
   "execution_count": 13,
   "metadata": {
    "scrolled": true
   },
   "outputs": [
    {
     "data": {
      "image/png": "[encoded data removed]",
      "text/plain": [
       "<Figure size 1500x500 with 1 Axes>"
      ]
     },
     "metadata": {},
     "output_type": "display_data"
    }
   ],
   "source": [
    "plt.figure(figsize=(15,5))\n",
    "target_train.hist(bins=100, label='price', alpha=0.8)\n",
    "plt.title('Диаграмма распределения цены')\n",
    "plt.xlabel('Значения')\n",
    "plt.ylabel('Количество')\n",
    "plt.legend(loc='upper left')\n",
    "plt.show()"
   ]
  },
  {
   "cell_type": "markdown",
   "metadata": {},
   "source": [
    "На графике видим скошенное распределение с длинным хвостом в районе 20 000 евро и большим кол-вом значений в районе нуля рассмотрим их подробнее."
   ]
  },
  {
   "cell_type": "markdown",
   "metadata": {},
   "source": [
    "Проведем анализ и удалим данные находящиеся за пределами 4 межквартильных растояний распределения.\n",
    "Для этого напишем функцию."
   ]
  },
  {
   "cell_type": "code",
   "execution_count": 14,
   "metadata": {},
   "outputs": [],
   "source": [
    "#Подготовим функцию для удаления экстримальных значений\n",
    "def extreme_analyze(value):\n",
    "    # считаем iqr межквартильный размах\n",
    "    iqr = value.quantile(0.75)-value.quantile(0.25)\n",
    "    # определим нижнюю границу нормальных значений ниже первого квартиля на полтара межквартильных размаха, \n",
    "    # если минимальное значение ,больше оставляем его. \n",
    "    if (value.quantile(0.25)-1.5*iqr)<(value.min()):\n",
    "        bord_min = value.min()\n",
    "    else:\n",
    "        bord_min = value.quantile(0.25)-1.5*iqr\n",
    "    \n",
    "    # определим верхнюю границу нормальных значений выше третьего квартиля на полтара межквартильных размаха, \n",
    "    # если максимальное значение ,меньше оставляем его.         \n",
    "    if (value.quantile(0.75)+1.5*iqr)>value.max():\n",
    "        bord_max = value.max()\n",
    "    else:\n",
    "        bord_max = value.quantile(0.75)+1.5*iqr\n",
    "\n",
    "    return value.loc[(value>=bord_min)&(value<=bord_max)]"
   ]
  },
  {
   "cell_type": "code",
   "execution_count": 15,
   "metadata": {},
   "outputs": [],
   "source": [
    "# зафиксируем размер датафрейма до удаления экстримальных значений \n",
    "df_size = f_train.shape"
   ]
  },
  {
   "cell_type": "code",
   "execution_count": 16,
   "metadata": {},
   "outputs": [
    {
     "name": "stdout",
     "output_type": "stream",
     "text": [
      "Удалили 5.35% данных\n"
     ]
    }
   ],
   "source": [
    "target_train_clean = extreme_analyze(target_train)\n",
    "\n",
    "print(\"Удалили {0}% данных\".format(round((1-len(target_train_clean)/df_size[0])*100,2)))"
   ]
  },
  {
   "cell_type": "code",
   "execution_count": 17,
   "metadata": {},
   "outputs": [
    {
     "data": {
      "image/png": "[encoded data removed]",
      "text/plain": [
       "<Figure size 640x480 with 1 Axes>"
      ]
     },
     "metadata": {},
     "output_type": "display_data"
    }
   ],
   "source": [
    "target_train.loc[target_train<=1000].hist(bins=100, alpha=0.8)\n",
    "plt.show()"
   ]
  },
  {
   "cell_type": "markdown",
   "metadata": {},
   "source": [
    "В значениях колонки 'price' наблюдаем наибольшее кол-во значений на круглых цифрах таких как 500, 1000, 1500, 2000 видимо связано с желанием округлить стоимость.  Значительное кол-во строк имеют нулевую стоимость. Удалим значения ниже первого пика в 100 евро для более точного обучения модели."
   ]
  },
  {
   "cell_type": "code",
   "execution_count": 18,
   "metadata": {},
   "outputs": [],
   "source": [
    "# Удалим нулевые значения\n",
    "target_train_clean = target_train.loc[target_train>=100]"
   ]
  },
  {
   "cell_type": "code",
   "execution_count": 19,
   "metadata": {
    "scrolled": true
   },
   "outputs": [
    {
     "data": {
      "image/png": "[encoded data removed]",
      "text/plain": [
       "<Figure size 1500x500 with 1 Axes>"
      ]
     },
     "metadata": {},
     "output_type": "display_data"
    }
   ],
   "source": [
    "plt.figure(figsize=(15,5))\n",
    "target_train_clean.hist(bins=150, alpha=0.8)\n",
    "plt.title('Диаграмма распределения цены после удаления выбросов')\n",
    "plt.xlabel('Значения')\n",
    "plt.ylabel('Количество')\n",
    "\n",
    "plt.show()"
   ]
  },
  {
   "cell_type": "code",
   "execution_count": 20,
   "metadata": {},
   "outputs": [],
   "source": [
    "name_feature = []\n",
    "min_feature = []\n",
    "max_feature = []"
   ]
  },
  {
   "cell_type": "code",
   "execution_count": 21,
   "metadata": {},
   "outputs": [],
   "source": [
    "name_feature.append('target_train')\n",
    "min_feature.append(target_train_clean.min())\n",
    "max_feature.append(target_train_clean.max())"
   ]
  },
  {
   "cell_type": "markdown",
   "metadata": {},
   "source": [
    "### Проведем предобработку тренировочной выборки"
   ]
  },
  {
   "cell_type": "code",
   "execution_count": 22,
   "metadata": {},
   "outputs": [
    {
     "data": {
      "text/plain": [
       "(272801, 15)"
      ]
     },
     "execution_count": 22,
     "metadata": {},
     "output_type": "execute_result"
    }
   ],
   "source": [
    "# удалим из тренировочной выборки строки соответствующие удаленным значениям в таргете.\n",
    "f_train = f_train.iloc[f_train.index.isin(target_train_clean.index)]\n",
    "f_train.shape"
   ]
  },
  {
   "cell_type": "markdown",
   "metadata": {},
   "source": [
    "#### Пропущенные значения"
   ]
  },
  {
   "cell_type": "code",
   "execution_count": 23,
   "metadata": {
    "scrolled": true
   },
   "outputs": [
    {
     "data": {
      "text/html": [
       "<style type=\"text/css\">\n",
       "#T_d10cb_row0_col0, #T_d10cb_row2_col0, #T_d10cb_row4_col0, #T_d10cb_row6_col0, #T_d10cb_row7_col0, #T_d10cb_row9_col0, #T_d10cb_row11_col0, #T_d10cb_row12_col0, #T_d10cb_row13_col0, #T_d10cb_row14_col0 {\n",
       "  background-color: #3b4cc0;\n",
       "  color: #f1f1f1;\n",
       "}\n",
       "#T_d10cb_row1_col0 {\n",
       "  background-color: #e3d9d3;\n",
       "  color: #000000;\n",
       "}\n",
       "#T_d10cb_row3_col0, #T_d10cb_row5_col0 {\n",
       "  background-color: #92b4fe;\n",
       "  color: #000000;\n",
       "}\n",
       "#T_d10cb_row8_col0 {\n",
       "  background-color: #c6d6f1;\n",
       "  color: #000000;\n",
       "}\n",
       "#T_d10cb_row10_col0 {\n",
       "  background-color: #b40426;\n",
       "  color: #f1f1f1;\n",
       "}\n",
       "</style>\n",
       "<table id=\"T_d10cb\">\n",
       "  <thead>\n",
       "    <tr>\n",
       "      <th class=\"blank level0\" >&nbsp;</th>\n",
       "      <th id=\"T_d10cb_level0_col0\" class=\"col_heading level0 col0\" >0</th>\n",
       "    </tr>\n",
       "  </thead>\n",
       "  <tbody>\n",
       "    <tr>\n",
       "      <th id=\"T_d10cb_level0_row0\" class=\"row_heading level0 row0\" >date_crawled</th>\n",
       "      <td id=\"T_d10cb_row0_col0\" class=\"data row0 col0\" >0.000000</td>\n",
       "    </tr>\n",
       "    <tr>\n",
       "      <th id=\"T_d10cb_level0_row1\" class=\"row_heading level0 row1\" >vehicle_type</th>\n",
       "      <td id=\"T_d10cb_row1_col0\" class=\"data row1 col0\" >10.000000</td>\n",
       "    </tr>\n",
       "    <tr>\n",
       "      <th id=\"T_d10cb_level0_row2\" class=\"row_heading level0 row2\" >registration_year</th>\n",
       "      <td id=\"T_d10cb_row2_col0\" class=\"data row2 col0\" >0.000000</td>\n",
       "    </tr>\n",
       "    <tr>\n",
       "      <th id=\"T_d10cb_level0_row3\" class=\"row_heading level0 row3\" >gearbox</th>\n",
       "      <td id=\"T_d10cb_row3_col0\" class=\"data row3 col0\" >5.000000</td>\n",
       "    </tr>\n",
       "    <tr>\n",
       "      <th id=\"T_d10cb_level0_row4\" class=\"row_heading level0 row4\" >power</th>\n",
       "      <td id=\"T_d10cb_row4_col0\" class=\"data row4 col0\" >0.000000</td>\n",
       "    </tr>\n",
       "    <tr>\n",
       "      <th id=\"T_d10cb_level0_row5\" class=\"row_heading level0 row5\" >model</th>\n",
       "      <td id=\"T_d10cb_row5_col0\" class=\"data row5 col0\" >5.000000</td>\n",
       "    </tr>\n",
       "    <tr>\n",
       "      <th id=\"T_d10cb_level0_row6\" class=\"row_heading level0 row6\" >kilometer</th>\n",
       "      <td id=\"T_d10cb_row6_col0\" class=\"data row6 col0\" >0.000000</td>\n",
       "    </tr>\n",
       "    <tr>\n",
       "      <th id=\"T_d10cb_level0_row7\" class=\"row_heading level0 row7\" >registration_month</th>\n",
       "      <td id=\"T_d10cb_row7_col0\" class=\"data row7 col0\" >0.000000</td>\n",
       "    </tr>\n",
       "    <tr>\n",
       "      <th id=\"T_d10cb_level0_row8\" class=\"row_heading level0 row8\" >fuel_type</th>\n",
       "      <td id=\"T_d10cb_row8_col0\" class=\"data row8 col0\" >8.000000</td>\n",
       "    </tr>\n",
       "    <tr>\n",
       "      <th id=\"T_d10cb_level0_row9\" class=\"row_heading level0 row9\" >brand</th>\n",
       "      <td id=\"T_d10cb_row9_col0\" class=\"data row9 col0\" >0.000000</td>\n",
       "    </tr>\n",
       "    <tr>\n",
       "      <th id=\"T_d10cb_level0_row10\" class=\"row_heading level0 row10\" >repaired</th>\n",
       "      <td id=\"T_d10cb_row10_col0\" class=\"data row10 col0\" >19.000000</td>\n",
       "    </tr>\n",
       "    <tr>\n",
       "      <th id=\"T_d10cb_level0_row11\" class=\"row_heading level0 row11\" >date_created</th>\n",
       "      <td id=\"T_d10cb_row11_col0\" class=\"data row11 col0\" >0.000000</td>\n",
       "    </tr>\n",
       "    <tr>\n",
       "      <th id=\"T_d10cb_level0_row12\" class=\"row_heading level0 row12\" >number_of_pictures</th>\n",
       "      <td id=\"T_d10cb_row12_col0\" class=\"data row12 col0\" >0.000000</td>\n",
       "    </tr>\n",
       "    <tr>\n",
       "      <th id=\"T_d10cb_level0_row13\" class=\"row_heading level0 row13\" >postal_code</th>\n",
       "      <td id=\"T_d10cb_row13_col0\" class=\"data row13 col0\" >0.000000</td>\n",
       "    </tr>\n",
       "    <tr>\n",
       "      <th id=\"T_d10cb_level0_row14\" class=\"row_heading level0 row14\" >last_seen</th>\n",
       "      <td id=\"T_d10cb_row14_col0\" class=\"data row14 col0\" >0.000000</td>\n",
       "    </tr>\n",
       "  </tbody>\n",
       "</table>\n"
      ],
      "text/plain": [
       "<pandas.io.formats.style.Styler at 0x182f111e7d0>"
      ]
     },
     "execution_count": 23,
     "metadata": {},
     "output_type": "execute_result"
    }
   ],
   "source": [
    "pd.DataFrame(round(f_train.isna().mean()*100,)).style.background_gradient('coolwarm')"
   ]
  },
  {
   "cell_type": "markdown",
   "metadata": {},
   "source": [
    "Необходимо провести работу с пропусками в данных:\n",
    "* Удалим строки в которых отсутствуют данные сразу в 4-х колонках ['gearbox', 'model', 'vehicle_type', 'fuel_type']\n",
    "* Колонка repaired категориальная пропуски говорят об отсутствии данных о ремонте заполним пропуски значением 'no'\n",
    "* в колонках Model, vehicle_type (тип кузова), gearbox (тип коробки передач), fuel_type(вид топлива) пропуски заполним значением 'unknown'\n"
   ]
  },
  {
   "cell_type": "code",
   "execution_count": 24,
   "metadata": {},
   "outputs": [
    {
     "name": "stdout",
     "output_type": "stream",
     "text": [
      "Удалили 0.4% данных\n"
     ]
    }
   ],
   "source": [
    "# Удалим строки в которых отсутствуют данные сразу в 4-х колонках ['gearbox', 'model', 'vehicle_type', 'fuel_type']\n",
    "temp_size = f_train.shape\n",
    "f_train = f_train.dropna(subset = ['gearbox', 'model', 'vehicle_type', 'fuel_type'], how='all')\n",
    "\n",
    "print(\"Удалили {0}% данных\".format(round((1-f_train.shape[0]/temp_size[0])*100,2)))"
   ]
  },
  {
   "cell_type": "code",
   "execution_count": 25,
   "metadata": {},
   "outputs": [],
   "source": [
    "#в колонке Repaired заполним пропуски значением 'no'\n",
    "f_train['repaired'] = f_train['repaired'].fillna('no')"
   ]
  },
  {
   "cell_type": "code",
   "execution_count": 26,
   "metadata": {},
   "outputs": [],
   "source": [
    "f_train.loc[f_train['fuel_type'].isna(), 'fuel_type'] = 'unknown'"
   ]
  },
  {
   "cell_type": "code",
   "execution_count": 27,
   "metadata": {},
   "outputs": [],
   "source": [
    "f_train.loc[f_train['vehicle_type'].isna(), 'vehicle_type'] = 'unknown'"
   ]
  },
  {
   "cell_type": "code",
   "execution_count": 28,
   "metadata": {},
   "outputs": [],
   "source": [
    "f_train.loc[f_train['model'].isna(), 'model'] = 'unknown'"
   ]
  },
  {
   "cell_type": "code",
   "execution_count": 29,
   "metadata": {},
   "outputs": [],
   "source": [
    "f_train.loc[f_train['gearbox'].isna(), 'gearbox'] = 'unknown'"
   ]
  },
  {
   "cell_type": "code",
   "execution_count": 30,
   "metadata": {},
   "outputs": [
    {
     "data": {
      "text/html": [
       "<style type=\"text/css\">\n",
       "#T_938a9_row0_col0, #T_938a9_row1_col0, #T_938a9_row2_col0, #T_938a9_row3_col0, #T_938a9_row4_col0, #T_938a9_row5_col0, #T_938a9_row6_col0, #T_938a9_row7_col0, #T_938a9_row8_col0, #T_938a9_row9_col0, #T_938a9_row10_col0, #T_938a9_row11_col0, #T_938a9_row12_col0, #T_938a9_row13_col0, #T_938a9_row14_col0 {\n",
       "  background-color: #3b4cc0;\n",
       "  color: #f1f1f1;\n",
       "}\n",
       "</style>\n",
       "<table id=\"T_938a9\">\n",
       "  <thead>\n",
       "    <tr>\n",
       "      <th class=\"blank level0\" >&nbsp;</th>\n",
       "      <th id=\"T_938a9_level0_col0\" class=\"col_heading level0 col0\" >0</th>\n",
       "    </tr>\n",
       "  </thead>\n",
       "  <tbody>\n",
       "    <tr>\n",
       "      <th id=\"T_938a9_level0_row0\" class=\"row_heading level0 row0\" >date_crawled</th>\n",
       "      <td id=\"T_938a9_row0_col0\" class=\"data row0 col0\" >0.000000</td>\n",
       "    </tr>\n",
       "    <tr>\n",
       "      <th id=\"T_938a9_level0_row1\" class=\"row_heading level0 row1\" >vehicle_type</th>\n",
       "      <td id=\"T_938a9_row1_col0\" class=\"data row1 col0\" >0.000000</td>\n",
       "    </tr>\n",
       "    <tr>\n",
       "      <th id=\"T_938a9_level0_row2\" class=\"row_heading level0 row2\" >registration_year</th>\n",
       "      <td id=\"T_938a9_row2_col0\" class=\"data row2 col0\" >0.000000</td>\n",
       "    </tr>\n",
       "    <tr>\n",
       "      <th id=\"T_938a9_level0_row3\" class=\"row_heading level0 row3\" >gearbox</th>\n",
       "      <td id=\"T_938a9_row3_col0\" class=\"data row3 col0\" >0.000000</td>\n",
       "    </tr>\n",
       "    <tr>\n",
       "      <th id=\"T_938a9_level0_row4\" class=\"row_heading level0 row4\" >power</th>\n",
       "      <td id=\"T_938a9_row4_col0\" class=\"data row4 col0\" >0.000000</td>\n",
       "    </tr>\n",
       "    <tr>\n",
       "      <th id=\"T_938a9_level0_row5\" class=\"row_heading level0 row5\" >model</th>\n",
       "      <td id=\"T_938a9_row5_col0\" class=\"data row5 col0\" >0.000000</td>\n",
       "    </tr>\n",
       "    <tr>\n",
       "      <th id=\"T_938a9_level0_row6\" class=\"row_heading level0 row6\" >kilometer</th>\n",
       "      <td id=\"T_938a9_row6_col0\" class=\"data row6 col0\" >0.000000</td>\n",
       "    </tr>\n",
       "    <tr>\n",
       "      <th id=\"T_938a9_level0_row7\" class=\"row_heading level0 row7\" >registration_month</th>\n",
       "      <td id=\"T_938a9_row7_col0\" class=\"data row7 col0\" >0.000000</td>\n",
       "    </tr>\n",
       "    <tr>\n",
       "      <th id=\"T_938a9_level0_row8\" class=\"row_heading level0 row8\" >fuel_type</th>\n",
       "      <td id=\"T_938a9_row8_col0\" class=\"data row8 col0\" >0.000000</td>\n",
       "    </tr>\n",
       "    <tr>\n",
       "      <th id=\"T_938a9_level0_row9\" class=\"row_heading level0 row9\" >brand</th>\n",
       "      <td id=\"T_938a9_row9_col0\" class=\"data row9 col0\" >0.000000</td>\n",
       "    </tr>\n",
       "    <tr>\n",
       "      <th id=\"T_938a9_level0_row10\" class=\"row_heading level0 row10\" >repaired</th>\n",
       "      <td id=\"T_938a9_row10_col0\" class=\"data row10 col0\" >0.000000</td>\n",
       "    </tr>\n",
       "    <tr>\n",
       "      <th id=\"T_938a9_level0_row11\" class=\"row_heading level0 row11\" >date_created</th>\n",
       "      <td id=\"T_938a9_row11_col0\" class=\"data row11 col0\" >0.000000</td>\n",
       "    </tr>\n",
       "    <tr>\n",
       "      <th id=\"T_938a9_level0_row12\" class=\"row_heading level0 row12\" >number_of_pictures</th>\n",
       "      <td id=\"T_938a9_row12_col0\" class=\"data row12 col0\" >0.000000</td>\n",
       "    </tr>\n",
       "    <tr>\n",
       "      <th id=\"T_938a9_level0_row13\" class=\"row_heading level0 row13\" >postal_code</th>\n",
       "      <td id=\"T_938a9_row13_col0\" class=\"data row13 col0\" >0.000000</td>\n",
       "    </tr>\n",
       "    <tr>\n",
       "      <th id=\"T_938a9_level0_row14\" class=\"row_heading level0 row14\" >last_seen</th>\n",
       "      <td id=\"T_938a9_row14_col0\" class=\"data row14 col0\" >0.000000</td>\n",
       "    </tr>\n",
       "  </tbody>\n",
       "</table>\n"
      ],
      "text/plain": [
       "<pandas.io.formats.style.Styler at 0x182f4e19780>"
      ]
     },
     "execution_count": 30,
     "metadata": {},
     "output_type": "execute_result"
    }
   ],
   "source": [
    "pd.DataFrame(round(f_train.isna().mean()*100,)).style.background_gradient('coolwarm')"
   ]
  },
  {
   "cell_type": "markdown",
   "metadata": {},
   "source": []
  },
  {
   "cell_type": "code",
   "execution_count": 31,
   "metadata": {
    "scrolled": false
   },
   "outputs": [
    {
     "data": {
      "image/png": "[encoded data removed]",
      "text/plain": [
       "<Figure size 1000x1500 with 9 Axes>"
      ]
     },
     "metadata": {},
     "output_type": "display_data"
    }
   ],
   "source": [
    "f_train.hist(figsize=(10, 15), xrot=90, )\n",
    "\n",
    "plt.show()"
   ]
  },
  {
   "cell_type": "code",
   "execution_count": 32,
   "metadata": {},
   "outputs": [
    {
     "data": {
      "text/html": [
       "<div>\n",
       "<style scoped>\n",
       "    .dataframe tbody tr th:only-of-type {\n",
       "        vertical-align: middle;\n",
       "    }\n",
       "\n",
       "    .dataframe tbody tr th {\n",
       "        vertical-align: top;\n",
       "    }\n",
       "\n",
       "    .dataframe thead th {\n",
       "        text-align: right;\n",
       "    }\n",
       "</style>\n",
       "<table border=\"1\" class=\"dataframe\">\n",
       "  <thead>\n",
       "    <tr style=\"text-align: right;\">\n",
       "      <th></th>\n",
       "      <th>registration_year</th>\n",
       "      <th>power</th>\n",
       "      <th>kilometer</th>\n",
       "      <th>registration_month</th>\n",
       "      <th>number_of_pictures</th>\n",
       "      <th>postal_code</th>\n",
       "    </tr>\n",
       "  </thead>\n",
       "  <tbody>\n",
       "    <tr>\n",
       "      <th>count</th>\n",
       "      <td>271719.000000</td>\n",
       "      <td>271719.000000</td>\n",
       "      <td>271719.000000</td>\n",
       "      <td>271719.000000</td>\n",
       "      <td>271719.0</td>\n",
       "      <td>271719.000000</td>\n",
       "    </tr>\n",
       "    <tr>\n",
       "      <th>mean</th>\n",
       "      <td>2003.662018</td>\n",
       "      <td>111.498029</td>\n",
       "      <td>128606.998406</td>\n",
       "      <td>5.812229</td>\n",
       "      <td>0.0</td>\n",
       "      <td>50707.643779</td>\n",
       "    </tr>\n",
       "    <tr>\n",
       "      <th>std</th>\n",
       "      <td>54.109600</td>\n",
       "      <td>179.618711</td>\n",
       "      <td>37093.469375</td>\n",
       "      <td>3.678871</td>\n",
       "      <td>0.0</td>\n",
       "      <td>25715.940002</td>\n",
       "    </tr>\n",
       "    <tr>\n",
       "      <th>min</th>\n",
       "      <td>1000.000000</td>\n",
       "      <td>0.000000</td>\n",
       "      <td>5000.000000</td>\n",
       "      <td>0.000000</td>\n",
       "      <td>0.0</td>\n",
       "      <td>1067.000000</td>\n",
       "    </tr>\n",
       "    <tr>\n",
       "      <th>25%</th>\n",
       "      <td>1999.000000</td>\n",
       "      <td>70.000000</td>\n",
       "      <td>125000.000000</td>\n",
       "      <td>3.000000</td>\n",
       "      <td>0.0</td>\n",
       "      <td>30455.000000</td>\n",
       "    </tr>\n",
       "    <tr>\n",
       "      <th>50%</th>\n",
       "      <td>2003.000000</td>\n",
       "      <td>105.000000</td>\n",
       "      <td>150000.000000</td>\n",
       "      <td>6.000000</td>\n",
       "      <td>0.0</td>\n",
       "      <td>49565.000000</td>\n",
       "    </tr>\n",
       "    <tr>\n",
       "      <th>75%</th>\n",
       "      <td>2008.000000</td>\n",
       "      <td>143.000000</td>\n",
       "      <td>150000.000000</td>\n",
       "      <td>9.000000</td>\n",
       "      <td>0.0</td>\n",
       "      <td>71229.000000</td>\n",
       "    </tr>\n",
       "    <tr>\n",
       "      <th>max</th>\n",
       "      <td>9999.000000</td>\n",
       "      <td>20000.000000</td>\n",
       "      <td>150000.000000</td>\n",
       "      <td>12.000000</td>\n",
       "      <td>0.0</td>\n",
       "      <td>99998.000000</td>\n",
       "    </tr>\n",
       "  </tbody>\n",
       "</table>\n",
       "</div>"
      ],
      "text/plain": [
       "       registration_year          power      kilometer  registration_month  \\\n",
       "count      271719.000000  271719.000000  271719.000000       271719.000000   \n",
       "mean         2003.662018     111.498029  128606.998406            5.812229   \n",
       "std            54.109600     179.618711   37093.469375            3.678871   \n",
       "min          1000.000000       0.000000    5000.000000            0.000000   \n",
       "25%          1999.000000      70.000000  125000.000000            3.000000   \n",
       "50%          2003.000000     105.000000  150000.000000            6.000000   \n",
       "75%          2008.000000     143.000000  150000.000000            9.000000   \n",
       "max          9999.000000   20000.000000  150000.000000           12.000000   \n",
       "\n",
       "       number_of_pictures    postal_code  \n",
       "count            271719.0  271719.000000  \n",
       "mean                  0.0   50707.643779  \n",
       "std                   0.0   25715.940002  \n",
       "min                   0.0    1067.000000  \n",
       "25%                   0.0   30455.000000  \n",
       "50%                   0.0   49565.000000  \n",
       "75%                   0.0   71229.000000  \n",
       "max                   0.0   99998.000000  "
      ]
     },
     "execution_count": 32,
     "metadata": {},
     "output_type": "execute_result"
    }
   ],
   "source": [
    "f_train.describe()"
   ]
  },
  {
   "cell_type": "markdown",
   "metadata": {},
   "source": [
    "Колонка number_of_pictures полностью пустая удалим ее полностью"
   ]
  },
  {
   "cell_type": "code",
   "execution_count": 33,
   "metadata": {},
   "outputs": [],
   "source": [
    "f_train = f_train.drop(['number_of_pictures'], axis=1)"
   ]
  },
  {
   "cell_type": "markdown",
   "metadata": {},
   "source": [
    "#### Год регистрации"
   ]
  },
  {
   "cell_type": "code",
   "execution_count": 34,
   "metadata": {},
   "outputs": [
    {
     "data": {
      "image/png": "[encoded data removed]",
      "text/plain": [
       "<Figure size 1500x500 with 1 Axes>"
      ]
     },
     "metadata": {},
     "output_type": "display_data"
    }
   ],
   "source": [
    "plt.figure(figsize=(15,5))\n",
    "f_train['registration_year'].hist(bins=100, range=[2100, 10000], alpha=0.8)\n",
    "plt.title('Диаграмма распределения по году регистрации автомобиля')\n",
    "plt.xlabel('Значения')\n",
    "plt.ylabel('Количество')\n",
    "plt.show()"
   ]
  },
  {
   "cell_type": "code",
   "execution_count": 35,
   "metadata": {},
   "outputs": [
    {
     "name": "stdout",
     "output_type": "stream",
     "text": [
      "Удалили 2% данных\n"
     ]
    }
   ],
   "source": [
    "# удалим экстримальные значения для года регистрации\n",
    "temp_size = len(f_train)\n",
    "\n",
    "f_train = f_train.iloc[f_train.index.isin(extreme_analyze(f_train['registration_year']).index)]\n",
    "\n",
    "print(\"Удалили {0}% данных\".format(round((1-len(f_train)/temp_size)*100),2))"
   ]
  },
  {
   "cell_type": "code",
   "execution_count": 36,
   "metadata": {},
   "outputs": [
    {
     "data": {
      "text/plain": [
       "count    267299.000000\n",
       "mean       2003.654106\n",
       "std           6.297750\n",
       "min        1986.000000\n",
       "25%        1999.000000\n",
       "50%        2003.000000\n",
       "75%        2008.000000\n",
       "max        2019.000000\n",
       "Name: registration_year, dtype: float64"
      ]
     },
     "execution_count": 36,
     "metadata": {},
     "output_type": "execute_result"
    }
   ],
   "source": [
    "f_train['registration_year'].describe()"
   ]
  },
  {
   "cell_type": "code",
   "execution_count": 37,
   "metadata": {
    "scrolled": true
   },
   "outputs": [
    {
     "data": {
      "image/png": "[encoded data removed]",
      "text/plain": [
       "<Figure size 1500x500 with 1 Axes>"
      ]
     },
     "metadata": {},
     "output_type": "display_data"
    }
   ],
   "source": [
    "plt.figure(figsize=(15,5))\n",
    "f_train['registration_year'].hist(bins=100, alpha=0.8)\n",
    "plt.title('Диаграмма распределения по году регистрации автомобиля после удаления экстримальных значений')\n",
    "plt.xlabel('Значения')\n",
    "plt.ylabel('Количество')\n",
    "plt.show()"
   ]
  },
  {
   "cell_type": "code",
   "execution_count": 38,
   "metadata": {},
   "outputs": [],
   "source": [
    "#Зафиксируем границы нормального распределения по дате регистрации\n",
    "name_feature.append('registration_year')\n",
    "min_feature.append(f_train.registration_year.min())\n",
    "max_feature.append(f_train.registration_year.max())"
   ]
  },
  {
   "cell_type": "markdown",
   "metadata": {},
   "source": [
    "После удаления экстримальных значений в распределении анкет по году регистрации автомобиля. получили нормальное распределение с тремя вершинами в районе 2000, 2005 года и в районе 2017 годов."
   ]
  },
  {
   "cell_type": "markdown",
   "metadata": {},
   "source": [
    "#### Мощность двигателя"
   ]
  },
  {
   "cell_type": "code",
   "execution_count": 39,
   "metadata": {
    "scrolled": false
   },
   "outputs": [
    {
     "data": {
      "image/png": "[encoded data removed]",
      "text/plain": [
       "<Figure size 1500x500 with 1 Axes>"
      ]
     },
     "metadata": {},
     "output_type": "display_data"
    }
   ],
   "source": [
    "plt.figure(figsize=(15,5))\n",
    "f_train['power'].hist(bins=100, range=[25, 200], alpha=0.8)\n",
    "plt.title('Диаграмма распределения по мощности двигателя ')\n",
    "plt.xlabel('Значения')\n",
    "plt.ylabel('Количество')\n",
    "plt.show()"
   ]
  },
  {
   "cell_type": "code",
   "execution_count": 40,
   "metadata": {},
   "outputs": [
    {
     "name": "stdout",
     "output_type": "stream",
     "text": [
      "Удалили 2% данных\n"
     ]
    }
   ],
   "source": [
    "# удалим экстримальные значения для колонки 'power' (мощность двигателя)\n",
    "temp_size = len(f_train)\n",
    "\n",
    "#f_train = f_train.loc[f_train['power']>0]\n",
    "\n",
    "f_train = f_train.iloc[f_train.index.isin(extreme_analyze(f_train['power']).index)]\n",
    "\n",
    "\n",
    "print(\"Удалили {0}% данных\".format(round((1-len(f_train)/temp_size)*100),2))"
   ]
  },
  {
   "cell_type": "code",
   "execution_count": 41,
   "metadata": {},
   "outputs": [],
   "source": [
    "#Зафиксируем границы нормального распределения по мощности двигателя\n",
    "name_feature.append('power')\n",
    "min_feature.append(f_train.power.min())\n",
    "max_feature.append(f_train.power.max())"
   ]
  },
  {
   "cell_type": "markdown",
   "metadata": {},
   "source": [
    "#### Пробег"
   ]
  },
  {
   "cell_type": "code",
   "execution_count": 42,
   "metadata": {},
   "outputs": [
    {
     "data": {
      "image/png": "[encoded data removed]",
      "text/plain": [
       "<Figure size 1500x500 with 1 Axes>"
      ]
     },
     "metadata": {},
     "output_type": "display_data"
    }
   ],
   "source": [
    "# kilometer\n",
    "plt.figure(figsize=(15,5))\n",
    "f_train['kilometer'].hist(bins=20, alpha=0.8)\n",
    "plt.title('Диаграмма распределения по пробегу')\n",
    "plt.xlabel('Значения')\n",
    "plt.ylabel('Количество')\n",
    "plt.show()"
   ]
  },
  {
   "cell_type": "code",
   "execution_count": 43,
   "metadata": {},
   "outputs": [
    {
     "data": {
      "text/plain": [
       "count    261637.000000\n",
       "mean     129058.619385\n",
       "std       36618.430630\n",
       "min        5000.000000\n",
       "25%      125000.000000\n",
       "50%      150000.000000\n",
       "75%      150000.000000\n",
       "max      150000.000000\n",
       "Name: kilometer, dtype: float64"
      ]
     },
     "execution_count": 43,
     "metadata": {},
     "output_type": "execute_result"
    }
   ],
   "source": [
    "f_train['kilometer'].describe()"
   ]
  },
  {
   "cell_type": "code",
   "execution_count": 44,
   "metadata": {},
   "outputs": [
    {
     "data": {
      "text/plain": [
       "150000    177004\n",
       "125000     27326\n",
       "100000     10703\n",
       "90000       8717\n",
       "80000       7518\n",
       "70000       6397\n",
       "60000       5626\n",
       "50000       4662\n",
       "40000       3685\n",
       "30000       3259\n",
       "5000        3128\n",
       "20000       2851\n",
       "10000        761\n",
       "Name: kilometer, dtype: int64"
      ]
     },
     "execution_count": 44,
     "metadata": {},
     "output_type": "execute_result"
    }
   ],
   "source": [
    "f_train['kilometer'].value_counts()"
   ]
  },
  {
   "cell_type": "markdown",
   "metadata": {},
   "source": [
    "По всей видимости в сервисе значение пробега выбирается из предложенного списка, наблюдаем небольшое кол-во уникальных значений, кратных 5 000 км. Оставим данные в неизменном виде."
   ]
  },
  {
   "cell_type": "code",
   "execution_count": 45,
   "metadata": {},
   "outputs": [
    {
     "data": {
      "image/png": "[encoded data removed]",
      "text/plain": [
       "<Figure size 1500x1000 with 1 Axes>"
      ]
     },
     "metadata": {},
     "output_type": "display_data"
    }
   ],
   "source": [
    "plt.figure(figsize=(15,10))\n",
    "sns.countplot(x='brand', data=f_train);\n",
    "plt.title('Диаграмма распределения по брендам')\n",
    "plt.xlabel('Бренды')\n",
    "plt.xticks(rotation=90)\n",
    "plt.ylabel('Количество')\n",
    "plt.show()"
   ]
  },
  {
   "cell_type": "markdown",
   "metadata": {},
   "source": [
    "На графике распределения видим больше всего анкет по volkswagen дальше расположились opel, bmw, mercedes_benz.\n",
    "Наименьшее кол-во анкет по таким брендам как jeep, daewoo, jaguar, lada, porsche, trabant."
   ]
  },
  {
   "cell_type": "markdown",
   "metadata": {},
   "source": [
    "#### Почтовый индекс"
   ]
  },
  {
   "cell_type": "code",
   "execution_count": 46,
   "metadata": {},
   "outputs": [],
   "source": [
    "postals_count = f_train[['postal_code','power']].groupby([\"postal_code\"], sort=False).count()"
   ]
  },
  {
   "cell_type": "code",
   "execution_count": 47,
   "metadata": {},
   "outputs": [
    {
     "data": {
      "text/plain": [
       "16"
      ]
     },
     "execution_count": 47,
     "metadata": {},
     "output_type": "execute_result"
    }
   ],
   "source": [
    "postals_count.loc[postals_count['power']>200, 'power'].count()"
   ]
  },
  {
   "cell_type": "markdown",
   "metadata": {},
   "source": [
    "Больше всего анкет как правило в крупных городах в них же как правило цены на авто отличаются от остальных городов. \n",
    "В целом \"postal_code\" имеет очень слабую взаимосвязь с колонкой с ценой при этом имеет большое кол-во уникальных значений.\n",
    "Большой точности в предсказаниях она не добавляет. Удалим ее из тренировочной выборки."
   ]
  },
  {
   "cell_type": "code",
   "execution_count": 48,
   "metadata": {},
   "outputs": [],
   "source": [
    "f_train = f_train.drop(['postal_code'], axis=1)"
   ]
  },
  {
   "cell_type": "code",
   "execution_count": 49,
   "metadata": {
    "scrolled": true
   },
   "outputs": [
    {
     "data": {
      "text/html": [
       "<div>\n",
       "<style scoped>\n",
       "    .dataframe tbody tr th:only-of-type {\n",
       "        vertical-align: middle;\n",
       "    }\n",
       "\n",
       "    .dataframe tbody tr th {\n",
       "        vertical-align: top;\n",
       "    }\n",
       "\n",
       "    .dataframe thead th {\n",
       "        text-align: right;\n",
       "    }\n",
       "</style>\n",
       "<table border=\"1\" class=\"dataframe\">\n",
       "  <thead>\n",
       "    <tr style=\"text-align: right;\">\n",
       "      <th></th>\n",
       "      <th>date_crawled</th>\n",
       "      <th>vehicle_type</th>\n",
       "      <th>registration_year</th>\n",
       "      <th>gearbox</th>\n",
       "      <th>power</th>\n",
       "      <th>model</th>\n",
       "      <th>kilometer</th>\n",
       "      <th>registration_month</th>\n",
       "      <th>fuel_type</th>\n",
       "      <th>brand</th>\n",
       "      <th>repaired</th>\n",
       "      <th>date_created</th>\n",
       "      <th>last_seen</th>\n",
       "    </tr>\n",
       "  </thead>\n",
       "  <tbody>\n",
       "    <tr>\n",
       "      <th>670</th>\n",
       "      <td>2016-04-03 21:56:01</td>\n",
       "      <td>wagon</td>\n",
       "      <td>1998</td>\n",
       "      <td>manual</td>\n",
       "      <td>0</td>\n",
       "      <td>mondeo</td>\n",
       "      <td>150000</td>\n",
       "      <td>9</td>\n",
       "      <td>petrol</td>\n",
       "      <td>ford</td>\n",
       "      <td>no</td>\n",
       "      <td>2016-04-03</td>\n",
       "      <td>2016-04-03 22:42:17</td>\n",
       "    </tr>\n",
       "    <tr>\n",
       "      <th>302856</th>\n",
       "      <td>2016-03-16 19:47:54</td>\n",
       "      <td>small</td>\n",
       "      <td>2004</td>\n",
       "      <td>manual</td>\n",
       "      <td>74</td>\n",
       "      <td>corsa</td>\n",
       "      <td>80000</td>\n",
       "      <td>7</td>\n",
       "      <td>petrol</td>\n",
       "      <td>opel</td>\n",
       "      <td>no</td>\n",
       "      <td>2016-03-15</td>\n",
       "      <td>2016-03-17 18:57:54</td>\n",
       "    </tr>\n",
       "    <tr>\n",
       "      <th>339028</th>\n",
       "      <td>2016-04-05 01:57:21</td>\n",
       "      <td>small</td>\n",
       "      <td>1997</td>\n",
       "      <td>manual</td>\n",
       "      <td>90</td>\n",
       "      <td>corsa</td>\n",
       "      <td>150000</td>\n",
       "      <td>1</td>\n",
       "      <td>petrol</td>\n",
       "      <td>opel</td>\n",
       "      <td>no</td>\n",
       "      <td>2016-04-05</td>\n",
       "      <td>2016-04-07 11:15:29</td>\n",
       "    </tr>\n",
       "    <tr>\n",
       "      <th>187787</th>\n",
       "      <td>2016-03-06 01:56:34</td>\n",
       "      <td>coupe</td>\n",
       "      <td>1999</td>\n",
       "      <td>manual</td>\n",
       "      <td>224</td>\n",
       "      <td>tt</td>\n",
       "      <td>150000</td>\n",
       "      <td>10</td>\n",
       "      <td>petrol</td>\n",
       "      <td>audi</td>\n",
       "      <td>no</td>\n",
       "      <td>2016-03-06</td>\n",
       "      <td>2016-03-08 14:45:28</td>\n",
       "    </tr>\n",
       "    <tr>\n",
       "      <th>242654</th>\n",
       "      <td>2016-03-11 09:58:20</td>\n",
       "      <td>convertible</td>\n",
       "      <td>1990</td>\n",
       "      <td>manual</td>\n",
       "      <td>211</td>\n",
       "      <td>other</td>\n",
       "      <td>40000</td>\n",
       "      <td>9</td>\n",
       "      <td>petrol</td>\n",
       "      <td>porsche</td>\n",
       "      <td>no</td>\n",
       "      <td>2016-03-11</td>\n",
       "      <td>2016-03-15 17:16:31</td>\n",
       "    </tr>\n",
       "  </tbody>\n",
       "</table>\n",
       "</div>"
      ],
      "text/plain": [
       "              date_crawled vehicle_type  registration_year gearbox  power  \\\n",
       "670    2016-04-03 21:56:01        wagon               1998  manual      0   \n",
       "302856 2016-03-16 19:47:54        small               2004  manual     74   \n",
       "339028 2016-04-05 01:57:21        small               1997  manual     90   \n",
       "187787 2016-03-06 01:56:34        coupe               1999  manual    224   \n",
       "242654 2016-03-11 09:58:20  convertible               1990  manual    211   \n",
       "\n",
       "         model  kilometer  registration_month fuel_type    brand repaired  \\\n",
       "670     mondeo     150000                   9    petrol     ford       no   \n",
       "302856   corsa      80000                   7    petrol     opel       no   \n",
       "339028   corsa     150000                   1    petrol     opel       no   \n",
       "187787      tt     150000                  10    petrol     audi       no   \n",
       "242654   other      40000                   9    petrol  porsche       no   \n",
       "\n",
       "       date_created           last_seen  \n",
       "670      2016-04-03 2016-04-03 22:42:17  \n",
       "302856   2016-03-15 2016-03-17 18:57:54  \n",
       "339028   2016-04-05 2016-04-07 11:15:29  \n",
       "187787   2016-03-06 2016-03-08 14:45:28  \n",
       "242654   2016-03-11 2016-03-15 17:16:31  "
      ]
     },
     "execution_count": 49,
     "metadata": {},
     "output_type": "execute_result"
    }
   ],
   "source": [
    "f_train.sample(5)"
   ]
  },
  {
   "cell_type": "markdown",
   "metadata": {},
   "source": [
    "### Подготовим данные для обучения моделей."
   ]
  },
  {
   "cell_type": "code",
   "execution_count": 50,
   "metadata": {},
   "outputs": [
    {
     "data": {
      "text/plain": [
       "261637"
      ]
     },
     "execution_count": 50,
     "metadata": {},
     "output_type": "execute_result"
    }
   ],
   "source": [
    "# удалим из таргета значения соответствующие удаленным строкам в тренировочной выборке.\n",
    "target_train_clean = target_train_clean.iloc[target_train_clean.index.isin(f_train.index)]\n",
    "len(target_train_clean)"
   ]
  },
  {
   "cell_type": "code",
   "execution_count": 51,
   "metadata": {},
   "outputs": [
    {
     "data": {
      "text/html": [
       "<div>\n",
       "<style scoped>\n",
       "    .dataframe tbody tr th:only-of-type {\n",
       "        vertical-align: middle;\n",
       "    }\n",
       "\n",
       "    .dataframe tbody tr th {\n",
       "        vertical-align: top;\n",
       "    }\n",
       "\n",
       "    .dataframe thead th {\n",
       "        text-align: right;\n",
       "    }\n",
       "</style>\n",
       "<table border=\"1\" class=\"dataframe\">\n",
       "  <thead>\n",
       "    <tr style=\"text-align: right;\">\n",
       "      <th></th>\n",
       "      <th>feature</th>\n",
       "      <th>min</th>\n",
       "      <th>max</th>\n",
       "    </tr>\n",
       "  </thead>\n",
       "  <tbody>\n",
       "    <tr>\n",
       "      <th>0</th>\n",
       "      <td>target_train</td>\n",
       "      <td>100</td>\n",
       "      <td>20000</td>\n",
       "    </tr>\n",
       "    <tr>\n",
       "      <th>1</th>\n",
       "      <td>registration_year</td>\n",
       "      <td>1986</td>\n",
       "      <td>2019</td>\n",
       "    </tr>\n",
       "    <tr>\n",
       "      <th>2</th>\n",
       "      <td>power</td>\n",
       "      <td>0</td>\n",
       "      <td>251</td>\n",
       "    </tr>\n",
       "  </tbody>\n",
       "</table>\n",
       "</div>"
      ],
      "text/plain": [
       "             feature   min    max\n",
       "0       target_train   100  20000\n",
       "1  registration_year  1986   2019\n",
       "2              power     0    251"
      ]
     },
     "execution_count": 51,
     "metadata": {},
     "output_type": "execute_result"
    }
   ],
   "source": [
    "# Подготовим границы распределения для колонок из которых удалили экстримальные значения\n",
    "\n",
    "extrim_features = pd.DataFrame( {'feature' : name_feature, \n",
    "                       'min' : min_feature, \n",
    "                       'max' : max_feature}) \n",
    "\n",
    "\n",
    "extrim_features"
   ]
  },
  {
   "cell_type": "markdown",
   "metadata": {},
   "source": [
    "В трейне оставим колонки характеризующие объект исследования ['vehicle_type', 'registration_year', 'gearbox', 'power', \n",
    "'model', 'kilometer', 'fuel_type', 'brand', 'repaired', 'postal_code']"
   ]
  },
  {
   "cell_type": "code",
   "execution_count": 52,
   "metadata": {},
   "outputs": [
    {
     "data": {
      "text/plain": [
       "(261637, 9)"
      ]
     },
     "execution_count": 52,
     "metadata": {},
     "output_type": "execute_result"
    }
   ],
   "source": [
    "f_train = f_train[['vehicle_type', 'registration_year', 'gearbox', 'power', 'model', \n",
    "                   'kilometer', 'fuel_type', 'brand', 'repaired']]\n",
    "f_train.shape"
   ]
  },
  {
   "cell_type": "code",
   "execution_count": 53,
   "metadata": {},
   "outputs": [],
   "source": [
    "numeric_columns = ['power', 'registration_year', 'kilometer']\n",
    "categorical_columns = ['vehicle_type', 'gearbox', 'model', 'fuel_type', 'brand', 'repaired']\n"
   ]
  },
  {
   "cell_type": "markdown",
   "metadata": {},
   "source": [
    "### Выводы\n",
    "\n",
    "Расмотрев целевой параметр с ценой:\n",
    "* Удалили данные находящиеся за пределами 4 межквартильных растояний распределения при помощи написанной функции.\n",
    "* Удалим значения ниже первого пика в 100 евро для более точного обучения модели.\n",
    "\n",
    "Рассмотрели обучающую выборку:\n",
    "* Удалили из тренировочной выборки строки соответствующие удаленным значениям в таргете по индексу.\n",
    "* Удалили нашей функцией экстримальные значения в признаках Год регистрации и Мощность двигателя.\n",
    "* По всей видимости в сервисе значение пробега выбирается из предложенного списка, наблюдаем небольшое кол-во уникальных значений, кратных 5 000 км. Оставили данные в неизменном виде.\n",
    "* На графике распределения по брендам видим больше всего анкет по volkswagen дальше расположились opel, bmw, mercedes_benz. Наименьшее кол-во анкет по таким брендам как jeep, daewoo, jaguar, lada, porsche, trabant.\n",
    "* Больше всего анкет в крупных городах в них же как правило цены на авто отличаются от остальных городов. Выбрали города с кол-вом анкет больше 200. Оставили их индексы остальные заменили заглушкой будем считать что небольшие города не сильно влияют на рыночную стоимость авто. Уникальных городов с кол-вом анкет около 16 что соответсвует кол-ву наиболее крупных городов России.\n",
    "* Удалили из таргета значения соответствующие удаленным строкам в тренировочной выборке\n",
    "* В обучающец выборке оставили колонки характеризующие объект исследования ['power', 'registration_year', 'kilometer', 'vehicle_type', 'gearbox', 'model', 'fuel_type', 'brand', 'repaired', 'big_cities_postals']"
   ]
  },
  {
   "cell_type": "markdown",
   "metadata": {},
   "source": [
    "## Обучение моделей"
   ]
  },
  {
   "cell_type": "code",
   "execution_count": 54,
   "metadata": {},
   "outputs": [],
   "source": [
    "#подготовим переменные для сбора данных\n",
    "\n",
    "model_name = []\n",
    "model_rmse = []\n",
    "model_fit_time = []\n",
    "model_predict_time = []"
   ]
  },
  {
   "cell_type": "code",
   "execution_count": 55,
   "metadata": {},
   "outputs": [],
   "source": [
    "# напишем функцию для расчета RMSE\n",
    "def rmse(target, prediction):\n",
    "    return mean_squared_error(target, prediction)**0.5"
   ]
  },
  {
   "cell_type": "code",
   "execution_count": 56,
   "metadata": {},
   "outputs": [
    {
     "data": {
      "text/html": [
       "<div>\n",
       "<style scoped>\n",
       "    .dataframe tbody tr th:only-of-type {\n",
       "        vertical-align: middle;\n",
       "    }\n",
       "\n",
       "    .dataframe tbody tr th {\n",
       "        vertical-align: top;\n",
       "    }\n",
       "\n",
       "    .dataframe thead th {\n",
       "        text-align: right;\n",
       "    }\n",
       "</style>\n",
       "<table border=\"1\" class=\"dataframe\">\n",
       "  <thead>\n",
       "    <tr style=\"text-align: right;\">\n",
       "      <th></th>\n",
       "      <th>vehicle_type</th>\n",
       "      <th>registration_year</th>\n",
       "      <th>gearbox</th>\n",
       "      <th>power</th>\n",
       "      <th>model</th>\n",
       "      <th>kilometer</th>\n",
       "      <th>fuel_type</th>\n",
       "      <th>brand</th>\n",
       "      <th>repaired</th>\n",
       "    </tr>\n",
       "  </thead>\n",
       "  <tbody>\n",
       "    <tr>\n",
       "      <th>47440</th>\n",
       "      <td>unknown</td>\n",
       "      <td>2016</td>\n",
       "      <td>unknown</td>\n",
       "      <td>0</td>\n",
       "      <td>cordoba</td>\n",
       "      <td>150000</td>\n",
       "      <td>petrol</td>\n",
       "      <td>seat</td>\n",
       "      <td>no</td>\n",
       "    </tr>\n",
       "    <tr>\n",
       "      <th>114030</th>\n",
       "      <td>sedan</td>\n",
       "      <td>1998</td>\n",
       "      <td>manual</td>\n",
       "      <td>82</td>\n",
       "      <td>a_klasse</td>\n",
       "      <td>150000</td>\n",
       "      <td>petrol</td>\n",
       "      <td>mercedes_benz</td>\n",
       "      <td>no</td>\n",
       "    </tr>\n",
       "    <tr>\n",
       "      <th>333238</th>\n",
       "      <td>sedan</td>\n",
       "      <td>1998</td>\n",
       "      <td>manual</td>\n",
       "      <td>0</td>\n",
       "      <td>unknown</td>\n",
       "      <td>150000</td>\n",
       "      <td>unknown</td>\n",
       "      <td>bmw</td>\n",
       "      <td>no</td>\n",
       "    </tr>\n",
       "    <tr>\n",
       "      <th>60719</th>\n",
       "      <td>small</td>\n",
       "      <td>2009</td>\n",
       "      <td>manual</td>\n",
       "      <td>69</td>\n",
       "      <td>ka</td>\n",
       "      <td>80000</td>\n",
       "      <td>petrol</td>\n",
       "      <td>ford</td>\n",
       "      <td>no</td>\n",
       "    </tr>\n",
       "    <tr>\n",
       "      <th>236213</th>\n",
       "      <td>suv</td>\n",
       "      <td>2004</td>\n",
       "      <td>auto</td>\n",
       "      <td>250</td>\n",
       "      <td>cayenne</td>\n",
       "      <td>60000</td>\n",
       "      <td>petrol</td>\n",
       "      <td>porsche</td>\n",
       "      <td>no</td>\n",
       "    </tr>\n",
       "  </tbody>\n",
       "</table>\n",
       "</div>"
      ],
      "text/plain": [
       "       vehicle_type  registration_year  gearbox  power     model  kilometer  \\\n",
       "47440       unknown               2016  unknown      0   cordoba     150000   \n",
       "114030        sedan               1998   manual     82  a_klasse     150000   \n",
       "333238        sedan               1998   manual      0   unknown     150000   \n",
       "60719         small               2009   manual     69        ka      80000   \n",
       "236213          suv               2004     auto    250   cayenne      60000   \n",
       "\n",
       "       fuel_type          brand repaired  \n",
       "47440     petrol           seat       no  \n",
       "114030    petrol  mercedes_benz       no  \n",
       "333238   unknown            bmw       no  \n",
       "60719     petrol           ford       no  \n",
       "236213    petrol        porsche       no  "
      ]
     },
     "execution_count": 56,
     "metadata": {},
     "output_type": "execute_result"
    }
   ],
   "source": [
    "f_train.head()"
   ]
  },
  {
   "cell_type": "markdown",
   "metadata": {},
   "source": [
    "### Настройка pipeline"
   ]
  },
  {
   "cell_type": "code",
   "execution_count": 57,
   "metadata": {},
   "outputs": [],
   "source": [
    "#настройка для численный признаков\n",
    "numeric_features = ['power', 'registration_year', 'kilometer']\n",
    "numeric_transformer = Pipeline(steps=[(\"imputer\", SimpleImputer(strategy=\"median\")),\n",
    "                                      (\"scaler\", StandardScaler())])\n",
    "                              \n",
    "\n",
    "# настройка для категориальных признаков\n",
    "categorical_features = ['vehicle_type', 'gearbox', 'model', 'fuel_type', 'brand', 'repaired']\n",
    "categorical_transformer = Pipeline(steps=[(\"encoder\", OneHotEncoder(handle_unknown=\"ignore\", drop='first')),\n",
    "                                          (\"imputer_cat\", SimpleImputer(strategy= 'most_frequent')),\n",
    "                                          (\"selector\", SelectPercentile(chi2, percentile=50))])\n",
    "\n",
    "preprocessor = ColumnTransformer(transformers=[(\"num\", numeric_transformer, numeric_features), \n",
    "                                               (\"cat\", categorical_transformer, categorical_features)])\n",
    "\n",
    "   "
   ]
  },
  {
   "cell_type": "code",
   "execution_count": 58,
   "metadata": {},
   "outputs": [
    {
     "data": {
      "text/plain": [
       "(261637, 9)"
      ]
     },
     "execution_count": 58,
     "metadata": {},
     "output_type": "execute_result"
    }
   ],
   "source": [
    "f_train.shape"
   ]
  },
  {
   "cell_type": "code",
   "execution_count": 59,
   "metadata": {},
   "outputs": [
    {
     "data": {
      "text/plain": [
       "(261637,)"
      ]
     },
     "execution_count": 59,
     "metadata": {},
     "output_type": "execute_result"
    }
   ],
   "source": [
    "target_train_clean.shape"
   ]
  },
  {
   "cell_type": "markdown",
   "metadata": {},
   "source": [
    "### LinearRegression"
   ]
  },
  {
   "cell_type": "code",
   "execution_count": 60,
   "metadata": {},
   "outputs": [],
   "source": [
    "f_train_regr = f_train.copy()"
   ]
  },
  {
   "cell_type": "code",
   "execution_count": 61,
   "metadata": {
    "scrolled": true
   },
   "outputs": [
    {
     "name": "stdout",
     "output_type": "stream",
     "text": [
      "RMSE для LinearRegression: 2472.097\n",
      "время обучения модели: 3.47 секунд\n",
      "время предсказаний модели: 0.72 секунд\n"
     ]
    }
   ],
   "source": [
    "#(\"selector\", selector)\n",
    "regr_pipeline = Pipeline(steps=[(\"preprocessor\", preprocessor),\n",
    "                                (\"regression\", LinearRegression())])\n",
    "\n",
    "#зафиксируем время обучения\n",
    "start = time()\n",
    "regr_pipeline.fit(f_train_regr, target_train_clean)\n",
    "fit_time_Line_Reg = time() - start\n",
    "\n",
    "#зафиксируем время предсказаний\n",
    "start = time()\n",
    "y_pred = regr_pipeline.predict(f_train_regr)\n",
    "pred_time_Line_Reg = time() - start\n",
    "\n",
    "# расчет RMSE\n",
    "rmse_Line_Reg = rmse(target_train_clean, y_pred)\n",
    "\n",
    "print('RMSE для LinearRegression: %.3f' %rmse_Line_Reg)\n",
    "print('время обучения модели: %.2F секунд' %fit_time_Line_Reg)\n",
    "print('время предсказаний модели: %.2F секунд' %pred_time_Line_Reg)\n"
   ]
  },
  {
   "cell_type": "markdown",
   "metadata": {},
   "source": [
    "### LinearRegression_RandomizedSearchCV"
   ]
  },
  {
   "cell_type": "code",
   "execution_count": 62,
   "metadata": {},
   "outputs": [],
   "source": [
    "f_train_lr_rscv = f_train.copy()"
   ]
  },
  {
   "cell_type": "code",
   "execution_count": 63,
   "metadata": {},
   "outputs": [
    {
     "name": "stdout",
     "output_type": "stream",
     "text": [
      "Fitting 3 folds for each of 6 candidates, totalling 18 fits\n",
      "RMSE для LinearRegression: 2434.1709896091115 \n",
      "\n",
      "время обучения модели: 17.43 секунд \n",
      "\n",
      "время предсказаний модели: 0.79 секунд\n"
     ]
    }
   ],
   "source": [
    "param_grid = {\"preprocessor__num__imputer__strategy\": [\"median\", \"mean\"],\n",
    "              \"preprocessor__cat__selector__percentile\": [30, 50, 70]}\n",
    "\n",
    "\n",
    "\n",
    "rs_lr_pipeline = Pipeline(steps=[(\"preprocessor\", preprocessor), \n",
    "                                  (\"regression\", LinearRegression())])\n",
    "\n",
    "rs_lr = RandomizedSearchCV(estimator = rs_lr_pipeline, \n",
    "                            param_distributions =param_grid, \n",
    "                            n_iter = 100, cv=3, random_state=RND_ST, \n",
    "                            scoring=make_scorer(rmse, greater_is_better=False), \n",
    "                            verbose = 3, n_jobs = -1) \n",
    "start = time()\n",
    "\n",
    "rs_lr.fit(f_train_lr_rscv, target_train_clean)\n",
    "\n",
    "fit_time_rs_lr = time() - start\n",
    "\n",
    "\n",
    "start = time()\n",
    "\n",
    "y_pred_rs = rs_lr.predict(f_train_lr_rscv)\n",
    "\n",
    "predict_time_rs_lr = time()-start\n",
    "\n",
    "\n",
    "rmse_rs_lr = abs(rs_lr.best_score_)\n",
    "\n",
    "rs_lr_param = rs_lr.best_params_\n",
    "\n",
    "print('RMSE для LinearRegression:', rmse_rs_lr, '\\n')\n",
    "print('время обучения модели: %.2F секунд' %fit_time_rs_lr, '\\n')\n",
    "print('время предсказаний модели: %.2F секунд' %predict_time_rs_lr)"
   ]
  },
  {
   "cell_type": "code",
   "execution_count": 64,
   "metadata": {},
   "outputs": [],
   "source": [
    "# Соберем данные для итоговой таблицы\n",
    "\n",
    "model_name.append('LinearRegression_RandomSearchCV')\n",
    "model_rmse.append(rmse_rs_lr)\n",
    "model_fit_time.append(fit_time_rs_lr)\n",
    "model_predict_time.append(predict_time_rs_lr)"
   ]
  },
  {
   "cell_type": "markdown",
   "metadata": {},
   "source": [
    "### DecisionTreeRegressor_RandomizedSearchCV"
   ]
  },
  {
   "cell_type": "code",
   "execution_count": 65,
   "metadata": {},
   "outputs": [],
   "source": [
    "f_train_dtr = f_train.copy()"
   ]
  },
  {
   "cell_type": "code",
   "execution_count": 66,
   "metadata": {},
   "outputs": [],
   "source": [
    "#настройка для численный признаков\n",
    "numeric_features = ['power', 'registration_year', 'kilometer']\n",
    "numeric_transformer = Pipeline(steps=[(\"imputer\", SimpleImputer(strategy=\"median\")),\n",
    "                                      (\"scaler\", StandardScaler())])\n",
    "                              \n",
    "\n",
    "# настройка для категориальных признаков\n",
    "categorical_features = ['vehicle_type', 'gearbox', 'model', 'fuel_type', 'brand', 'repaired']\n",
    "\n",
    "# настройка для \"деревянных\" моделей\n",
    "\n",
    "categorical_transformer_tree = Pipeline(steps=[(\"encoder\", OrdinalEncoder(handle_unknown='use_encoded_value', unknown_value=-1)),\n",
    "                                               (\"imputer\", SimpleImputer(strategy= 'most_frequent')),\n",
    "                                               (\"selector\", SelectPercentile(chi2, percentile=50))])\n",
    "\n",
    "preprocessor_tree = ColumnTransformer(transformers=[(\"num\", numeric_transformer, numeric_features)])"
   ]
  },
  {
   "cell_type": "code",
   "execution_count": 67,
   "metadata": {},
   "outputs": [],
   "source": [
    "#Кодируем категориальные колоноки в наших данных\n",
    "\n",
    "OEn = OrdinalEncoder(handle_unknown='use_encoded_value', unknown_value=-1)\n",
    "f_train_dtr[categorical_features] = OEn.fit_transform(f_train_dtr[categorical_features])"
   ]
  },
  {
   "cell_type": "code",
   "execution_count": 68,
   "metadata": {},
   "outputs": [
    {
     "data": {
      "text/html": [
       "<div>\n",
       "<style scoped>\n",
       "    .dataframe tbody tr th:only-of-type {\n",
       "        vertical-align: middle;\n",
       "    }\n",
       "\n",
       "    .dataframe tbody tr th {\n",
       "        vertical-align: top;\n",
       "    }\n",
       "\n",
       "    .dataframe thead th {\n",
       "        text-align: right;\n",
       "    }\n",
       "</style>\n",
       "<table border=\"1\" class=\"dataframe\">\n",
       "  <thead>\n",
       "    <tr style=\"text-align: right;\">\n",
       "      <th></th>\n",
       "      <th>vehicle_type</th>\n",
       "      <th>registration_year</th>\n",
       "      <th>gearbox</th>\n",
       "      <th>power</th>\n",
       "      <th>model</th>\n",
       "      <th>kilometer</th>\n",
       "      <th>fuel_type</th>\n",
       "      <th>brand</th>\n",
       "      <th>repaired</th>\n",
       "    </tr>\n",
       "  </thead>\n",
       "  <tbody>\n",
       "    <tr>\n",
       "      <th>47440</th>\n",
       "      <td>7.0</td>\n",
       "      <td>2016</td>\n",
       "      <td>2.0</td>\n",
       "      <td>0</td>\n",
       "      <td>81.0</td>\n",
       "      <td>150000</td>\n",
       "      <td>6.0</td>\n",
       "      <td>30.0</td>\n",
       "      <td>0.0</td>\n",
       "    </tr>\n",
       "    <tr>\n",
       "      <th>114030</th>\n",
       "      <td>4.0</td>\n",
       "      <td>1998</td>\n",
       "      <td>1.0</td>\n",
       "      <td>82</td>\n",
       "      <td>33.0</td>\n",
       "      <td>150000</td>\n",
       "      <td>6.0</td>\n",
       "      <td>20.0</td>\n",
       "      <td>0.0</td>\n",
       "    </tr>\n",
       "    <tr>\n",
       "      <th>333238</th>\n",
       "      <td>4.0</td>\n",
       "      <td>1998</td>\n",
       "      <td>1.0</td>\n",
       "      <td>0</td>\n",
       "      <td>224.0</td>\n",
       "      <td>150000</td>\n",
       "      <td>7.0</td>\n",
       "      <td>2.0</td>\n",
       "      <td>0.0</td>\n",
       "    </tr>\n",
       "    <tr>\n",
       "      <th>60719</th>\n",
       "      <td>5.0</td>\n",
       "      <td>2009</td>\n",
       "      <td>1.0</td>\n",
       "      <td>69</td>\n",
       "      <td>128.0</td>\n",
       "      <td>80000</td>\n",
       "      <td>6.0</td>\n",
       "      <td>10.0</td>\n",
       "      <td>0.0</td>\n",
       "    </tr>\n",
       "    <tr>\n",
       "      <th>236213</th>\n",
       "      <td>6.0</td>\n",
       "      <td>2004</td>\n",
       "      <td>0.0</td>\n",
       "      <td>250</td>\n",
       "      <td>67.0</td>\n",
       "      <td>60000</td>\n",
       "      <td>6.0</td>\n",
       "      <td>26.0</td>\n",
       "      <td>0.0</td>\n",
       "    </tr>\n",
       "  </tbody>\n",
       "</table>\n",
       "</div>"
      ],
      "text/plain": [
       "        vehicle_type  registration_year  gearbox  power  model  kilometer  \\\n",
       "47440            7.0               2016      2.0      0   81.0     150000   \n",
       "114030           4.0               1998      1.0     82   33.0     150000   \n",
       "333238           4.0               1998      1.0      0  224.0     150000   \n",
       "60719            5.0               2009      1.0     69  128.0      80000   \n",
       "236213           6.0               2004      0.0    250   67.0      60000   \n",
       "\n",
       "        fuel_type  brand  repaired  \n",
       "47440         6.0   30.0       0.0  \n",
       "114030        6.0   20.0       0.0  \n",
       "333238        7.0    2.0       0.0  \n",
       "60719         6.0   10.0       0.0  \n",
       "236213        6.0   26.0       0.0  "
      ]
     },
     "execution_count": 68,
     "metadata": {},
     "output_type": "execute_result"
    }
   ],
   "source": [
    "f_train_dtr.head()"
   ]
  },
  {
   "cell_type": "code",
   "execution_count": 69,
   "metadata": {
    "scrolled": true
   },
   "outputs": [
    {
     "name": "stdout",
     "output_type": "stream",
     "text": [
      "Fitting 3 folds for each of 5 candidates, totalling 15 fits\n",
      "RMSE для DecisionTreeRegressor OE: 2058.5929300824196\n",
      "время обучения модели: 2.41 секунд\n",
      "время предсказаний модели: 0.08 секунд\n"
     ]
    }
   ],
   "source": [
    "\n",
    "param_grid = {\"regression__max_depth\": range(2, 20, 4)}\n",
    "\n",
    "\n",
    "rs_dtr_pipeline = Pipeline(steps=[(\"preprocessor\", preprocessor_tree), \n",
    "                                  (\"regression\", DecisionTreeRegressor())])\n",
    "\n",
    "rs_dtr = RandomizedSearchCV(estimator = rs_dtr_pipeline, \n",
    "                            param_distributions =param_grid, \n",
    "                            n_iter = 100, cv=3, random_state=RND_ST,\n",
    "                            scoring=make_scorer(rmse, greater_is_better=False),\n",
    "                            verbose = 2, n_jobs = -1) \n",
    "\n",
    "start = time()\n",
    "\n",
    "rs_dtr.fit(f_train_dtr, target_train_clean)\n",
    "\n",
    "fit_time_dtr = time() - start\n",
    "\n",
    "\n",
    "start = time()\n",
    "\n",
    "y_pred = rs_dtr.predict(f_train_dtr)\n",
    "\n",
    "predict_time_dtr = time()-start\n",
    "\n",
    "\n",
    "rmse_dtr = abs(rs_dtr.best_score_)\n",
    "\n",
    "rs_dtr_param = rs_dtr.best_params_\n",
    "\n",
    "print('RMSE для DecisionTreeRegressor OE:', rmse_dtr)\n",
    "print('время обучения модели: %.2F секунд' %fit_time_dtr)\n",
    "print('время предсказаний модели: %.2F секунд' %predict_time_dtr)\n"
   ]
  },
  {
   "cell_type": "code",
   "execution_count": 70,
   "metadata": {},
   "outputs": [],
   "source": [
    "# Соберем данные для итоговой таблицы\n",
    "\n",
    "model_name.append('DecisionTreeRegressor_OE')\n",
    "model_rmse.append(rmse_dtr)\n",
    "model_fit_time.append(fit_time_dtr)\n",
    "model_predict_time.append(predict_time_dtr)"
   ]
  },
  {
   "cell_type": "code",
   "execution_count": 71,
   "metadata": {
    "scrolled": true
   },
   "outputs": [
    {
     "name": "stdout",
     "output_type": "stream",
     "text": [
      "Fitting 3 folds for each of 10 candidates, totalling 30 fits\n",
      "RMSE для DecisionTreeRegressor c OHE: 1785.164167690424\n",
      "время обучения модели: 40.95 секунд\n",
      "время предсказаний модели: 0.76 секунд\n"
     ]
    }
   ],
   "source": [
    "f_train_dtr_OHE = f_train.copy()\n",
    "\n",
    "param_grid = {\"preprocessor__cat__selector__percentile\": [50, 70],\n",
    "              \"regression__max_depth\": range(2, 20, 4)}\n",
    "\n",
    "\n",
    "rs_dtr_pipeline = Pipeline(steps=[(\"preprocessor\", preprocessor), \n",
    "                                  (\"regression\", DecisionTreeRegressor())])\n",
    "\n",
    "rs_dtr_OHE = RandomizedSearchCV(estimator = rs_dtr_pipeline, \n",
    "                            param_distributions =param_grid, \n",
    "                            n_iter = 100, cv=3, random_state=RND_ST,\n",
    "                            scoring=make_scorer(rmse, greater_is_better=False),\n",
    "                            verbose = 2, n_jobs = -1) \n",
    "\n",
    "start = time()\n",
    "\n",
    "rs_dtr_OHE.fit(f_train_dtr_OHE, target_train_clean)\n",
    "\n",
    "fit_time_dtr_OHE = time() - start\n",
    "\n",
    "\n",
    "start = time()\n",
    "\n",
    "y_pred = rs_dtr_OHE.predict(f_train_dtr_OHE)\n",
    "\n",
    "predict_time_dtr_OHE = time()-start\n",
    "\n",
    "\n",
    "rmse_dtr_OHE = abs(rs_dtr_OHE.best_score_)\n",
    "\n",
    "rs_dtr_OHE_param = rs_dtr_OHE.best_params_\n",
    "\n",
    "print('RMSE для DecisionTreeRegressor c OHE:', rmse_dtr_OHE)\n",
    "print('время обучения модели: %.2F секунд' %fit_time_dtr_OHE)\n",
    "print('время предсказаний модели: %.2F секунд' %predict_time_dtr_OHE)\n"
   ]
  },
  {
   "cell_type": "code",
   "execution_count": 72,
   "metadata": {},
   "outputs": [],
   "source": [
    "# Соберем данные для итоговой таблицы\n",
    "\n",
    "model_name.append('DecisionTreeRegressor_OHE')\n",
    "model_rmse.append(rmse_dtr_OHE)\n",
    "model_fit_time.append(fit_time_dtr_OHE)\n",
    "model_predict_time.append(predict_time_dtr_OHE)"
   ]
  },
  {
   "cell_type": "markdown",
   "metadata": {},
   "source": [
    "### LightGBM"
   ]
  },
  {
   "cell_type": "raw",
   "metadata": {},
   "source": [
    "f_train_lgbm_OE = f_train.copy()\n",
    "f_train_lgbm_OE[categorical_features] = OEn.transform(f_train_lgbm_OE[categorical_features])"
   ]
  },
  {
   "cell_type": "raw",
   "metadata": {
    "scrolled": true
   },
   "source": [
    "param_grid = {\"preprocessor__num__imputer__strategy\": [\"median\"],\n",
    "              \"regression__max_depth\": [6, 10, 15],\n",
    "              \"regression__learning_rate\": [0.03]}\n",
    "\n",
    "\n",
    "\n",
    "rs_lgb_OE_pipeline = Pipeline(steps=[(\"preprocessor\", preprocessor_tree), \n",
    "                                  (\"regression\", lgb.LGBMRegressor())])\n",
    "\n",
    "rs_lgb_OE = RandomizedSearchCV(estimator = rs_lgb_OE_pipeline, \n",
    "                            param_distributions =param_grid, \n",
    "                            n_iter = 100, cv=3, random_state=RND_ST, \n",
    "                            scoring=make_scorer(rmse, greater_is_better=False), \n",
    "                            verbose = 2, n_jobs = -1) \n",
    "start = time()\n",
    "\n",
    "rs_lgb_OE.fit(f_train_lgbm_OE, target_train_clean)\n",
    "\n",
    "fit_time_rs_lgb_OE = time() - start\n",
    "\n",
    "\n",
    "start = time()\n",
    "\n",
    "y_pred = rs_lgb_OE.predict(f_train_lgbm_OE)\n",
    "\n",
    "predict_time_rs_lgb_OE = time()-start\n",
    "\n",
    "\n",
    "rmse_rs_lgb_OE = abs(rs_lgb_OE.best_score_)\n",
    "\n",
    "rs_lgb_OE_param = rs_lgb_OE.best_params_\n",
    "\n",
    "print('RMSE для LGBMRegressor_OE:', rmse_rs_lgb_OE)\n",
    "print('время обучения модели: %.2F секунд' %fit_time_rs_lgb_OE)\n",
    "print('время предсказаний модели: %.2F секунд' %predict_time_rs_lgb_OE)"
   ]
  },
  {
   "cell_type": "raw",
   "metadata": {},
   "source": [
    "# Соберем данные для итоговой таблицы\n",
    "\n",
    "model_name.append('LGBMRegressor_OE')\n",
    "model_rmse.append(rmse_rs_lgb_OE)\n",
    "model_fit_time.append(fit_time_rs_lgb_OE)\n",
    "model_predict_time.append(predict_time_rs_lgb_OE)"
   ]
  },
  {
   "cell_type": "raw",
   "metadata": {},
   "source": [
    "f_train_lgbm_OHE = f_train.copy()"
   ]
  },
  {
   "cell_type": "raw",
   "metadata": {
    "scrolled": true
   },
   "source": [
    "param_grid = {\"preprocessor__num__imputer__strategy\": [\"median\"],\n",
    "              \"regression__max_depth\": [6, 10, 15],\n",
    "              \"regression__learning_rate\": [0.03]}\n",
    "\n",
    "\n",
    "\n",
    "rs_lgb_OHE_pipeline = Pipeline(steps=[(\"preprocessor\", preprocessor), \n",
    "                                  (\"regression\", lgb.LGBMRegressor())])\n",
    "\n",
    "rs_lgb_OHE = RandomizedSearchCV(estimator = rs_lgb_OHE_pipeline, \n",
    "                            param_distributions =param_grid, \n",
    "                            n_iter = 100, cv=3, random_state=RND_ST, \n",
    "                            scoring=make_scorer(rmse, greater_is_better=False), \n",
    "                            verbose = 2, n_jobs = -1) \n",
    "start = time()\n",
    "\n",
    "rs_lgb_OHE.fit(f_train_lgbm_OHE, target_train_clean)\n",
    "\n",
    "fit_time_rs_lgb_OHE = time() - start\n",
    "\n",
    "\n",
    "start = time()\n",
    "\n",
    "y_pred = rs_lgb_OHE.predict(f_train_lgbm_OHE)\n",
    "\n",
    "predict_time_rs_lgb_OHE = time()-start\n",
    "\n",
    "\n",
    "rmse_rs_lgb_OHE = abs(rs_lgb_OHE.best_score_)\n",
    "\n",
    "rs_lgb_OHE_param = rs_lgb_OHE.best_params_\n",
    "\n",
    "print('RMSE для LGBMRegressor_OHE:', rmse_rs_lgb_OHE)\n",
    "print('время обучения модели: %.2F секунд' %fit_time_rs_lgb_OHE)\n",
    "print('время предсказаний модели: %.2F секунд' %predict_time_rs_lgb_OHE)"
   ]
  },
  {
   "cell_type": "raw",
   "metadata": {},
   "source": [
    "# Соберем данные для итоговой таблицы\n",
    "\n",
    "model_name.append('LGBMRegressor_OHE')\n",
    "model_rmse.append(rmse_rs_lgb_OHE)\n",
    "model_fit_time.append(fit_time_rs_lgb_OHE)\n",
    "model_predict_time.append(predict_time_rs_lgb_OHE)"
   ]
  },
  {
   "cell_type": "markdown",
   "metadata": {},
   "source": [
    "### CatBoost"
   ]
  },
  {
   "cell_type": "code",
   "execution_count": 73,
   "metadata": {},
   "outputs": [],
   "source": [
    "f_train_cat = f_train.copy()"
   ]
  },
  {
   "cell_type": "code",
   "execution_count": 74,
   "metadata": {},
   "outputs": [
    {
     "data": {
      "application/vnd.jupyter.widget-view+json": {
       "model_id": "a5deb4c938264310a4862269f2188fcb",
       "version_major": 2,
       "version_minor": 0
      },
      "text/plain": [
       "MetricVisualizer(layout=Layout(align_self='stretch', height='500px'))"
      ]
     },
     "metadata": {},
     "output_type": "display_data"
    },
    {
     "name": "stdout",
     "output_type": "stream",
     "text": [
      "0:\tlearn: 4289.6998549\ttotal: 269ms\tremaining: 2m 14s\n",
      "100:\tlearn: 1872.9604705\ttotal: 9.65s\tremaining: 38.1s\n",
      "200:\tlearn: 1736.5229520\ttotal: 18.8s\tremaining: 27.9s\n",
      "300:\tlearn: 1684.4550608\ttotal: 27.7s\tremaining: 18.3s\n",
      "400:\tlearn: 1651.3908239\ttotal: 36.7s\tremaining: 9.05s\n",
      "499:\tlearn: 1626.5802336\ttotal: 45.7s\tremaining: 0us\n",
      "RMSE для CatBoostRegressor estimators 500: 1626.5802335769447\n",
      "время обучения модели: 46.90 секунд\n",
      "время предсказаний модели: 0.80 секунд\n"
     ]
    }
   ],
   "source": [
    "cat = CatBoostRegressor(custom_metric= ['RMSE'],\n",
    "                        learning_rate=0.03,\n",
    "                        n_estimators=500,\n",
    "                        cat_features=categorical_features,\n",
    "                        random_seed=RND_ST)\n",
    "start = time()\n",
    "\n",
    "cat.fit(f_train_cat, target_train_clean,verbose=100, plot=True)\n",
    "\n",
    "fit_time_cat = time() - start\n",
    "\n",
    "start = time()\n",
    "\n",
    "y_pred = cat.predict(f_train_cat)\n",
    "\n",
    "predict_time_cat = time()-start\n",
    "\n",
    "rmse_cat = cat.best_score_['learn']['RMSE']\n",
    "\n",
    "print('RMSE для CatBoostRegressor estimators 500:', rmse_cat)\n",
    "print('время обучения модели: %.2F секунд' %fit_time_cat)\n",
    "print('время предсказаний модели: %.2F секунд' %predict_time_cat)"
   ]
  },
  {
   "cell_type": "code",
   "execution_count": 75,
   "metadata": {},
   "outputs": [],
   "source": [
    "# Соберем данные для итоговой таблицы\n",
    "\n",
    "model_name.append('CatBoostRegressor_estimators_500')\n",
    "model_rmse.append(rmse_cat)\n",
    "model_fit_time.append(fit_time_cat)\n",
    "model_predict_time.append(predict_time_cat)"
   ]
  },
  {
   "cell_type": "code",
   "execution_count": 76,
   "metadata": {},
   "outputs": [
    {
     "data": {
      "application/vnd.jupyter.widget-view+json": {
       "model_id": "f08092ee71364215b7f1dc3e5c8dfb35",
       "version_major": 2,
       "version_minor": 0
      },
      "text/plain": [
       "MetricVisualizer(layout=Layout(align_self='stretch', height='500px'))"
      ]
     },
     "metadata": {},
     "output_type": "display_data"
    },
    {
     "name": "stdout",
     "output_type": "stream",
     "text": [
      "0:\tlearn: 4289.6998549\ttotal: 127ms\tremaining: 3m 9s\n",
      "100:\tlearn: 1872.9604705\ttotal: 9.12s\tremaining: 2m 6s\n",
      "200:\tlearn: 1736.5229520\ttotal: 17.9s\tremaining: 1m 55s\n",
      "300:\tlearn: 1684.4550608\ttotal: 26.7s\tremaining: 1m 46s\n",
      "400:\tlearn: 1651.3908239\ttotal: 35.6s\tremaining: 1m 37s\n",
      "500:\tlearn: 1626.3269023\ttotal: 44.6s\tremaining: 1m 28s\n",
      "600:\tlearn: 1607.3951847\ttotal: 53.6s\tremaining: 1m 20s\n",
      "700:\tlearn: 1591.3227095\ttotal: 1m 2s\tremaining: 1m 11s\n",
      "800:\tlearn: 1579.0524105\ttotal: 1m 11s\tremaining: 1m 2s\n",
      "900:\tlearn: 1567.8869487\ttotal: 1m 20s\tremaining: 53.2s\n",
      "1000:\tlearn: 1559.1986262\ttotal: 1m 29s\tremaining: 44.5s\n",
      "1100:\tlearn: 1551.6186980\ttotal: 1m 38s\tremaining: 35.6s\n",
      "1200:\tlearn: 1545.5926296\ttotal: 1m 47s\tremaining: 26.7s\n",
      "1300:\tlearn: 1540.4056222\ttotal: 1m 56s\tremaining: 17.8s\n",
      "1400:\tlearn: 1535.1708571\ttotal: 2m 5s\tremaining: 8.85s\n",
      "1499:\tlearn: 1529.9995879\ttotal: 2m 14s\tremaining: 0us\n",
      "RMSE для CatBoostRegressor_estimators_1500: 1529.9995879197759\n",
      "время обучения модели: 136.13 секунд\n",
      "время предсказаний модели: 0.95 секунд\n"
     ]
    }
   ],
   "source": [
    "cat = CatBoostRegressor(custom_metric= ['RMSE'],\n",
    "                        learning_rate=0.03,\n",
    "                        n_estimators=1500,\n",
    "                        cat_features=categorical_features,\n",
    "                        random_seed=RND_ST)\n",
    "start = time()\n",
    "\n",
    "cat.fit(f_train, target_train_clean,verbose=100, plot=True)\n",
    "\n",
    "fit_time_cat = time() - start\n",
    "\n",
    "start = time()\n",
    "\n",
    "y_pred = cat.predict(f_train)\n",
    "\n",
    "predict_time_cat = time()-start\n",
    "\n",
    "rmse_cat = cat.best_score_['learn']['RMSE']\n",
    "\n",
    "print('RMSE для CatBoostRegressor_estimators_1500:', rmse_cat)\n",
    "print('время обучения модели: %.2F секунд' %fit_time_cat)\n",
    "print('время предсказаний модели: %.2F секунд' %predict_time_cat)"
   ]
  },
  {
   "cell_type": "code",
   "execution_count": 77,
   "metadata": {},
   "outputs": [],
   "source": [
    "# Соберем данные для итоговой таблицы\n",
    "\n",
    "model_name.append('CatBoostRegressor_estimators_1500')\n",
    "model_rmse.append(rmse_cat)\n",
    "model_fit_time.append(fit_time_cat)\n",
    "model_predict_time.append(predict_time_cat)"
   ]
  },
  {
   "cell_type": "markdown",
   "metadata": {},
   "source": [
    "## Анализ моделей"
   ]
  },
  {
   "cell_type": "code",
   "execution_count": 78,
   "metadata": {},
   "outputs": [
    {
     "data": {
      "text/html": [
       "<div>\n",
       "<style scoped>\n",
       "    .dataframe tbody tr th:only-of-type {\n",
       "        vertical-align: middle;\n",
       "    }\n",
       "\n",
       "    .dataframe tbody tr th {\n",
       "        vertical-align: top;\n",
       "    }\n",
       "\n",
       "    .dataframe thead th {\n",
       "        text-align: right;\n",
       "    }\n",
       "</style>\n",
       "<table border=\"1\" class=\"dataframe\">\n",
       "  <thead>\n",
       "    <tr style=\"text-align: right;\">\n",
       "      <th></th>\n",
       "      <th>Name</th>\n",
       "      <th>RMSE</th>\n",
       "      <th>fit_time</th>\n",
       "      <th>predict_time</th>\n",
       "    </tr>\n",
       "  </thead>\n",
       "  <tbody>\n",
       "    <tr>\n",
       "      <th>0</th>\n",
       "      <td>CatBoostRegressor_estimators_1500</td>\n",
       "      <td>1529.999588</td>\n",
       "      <td>136.129006</td>\n",
       "      <td>0.946617</td>\n",
       "    </tr>\n",
       "    <tr>\n",
       "      <th>1</th>\n",
       "      <td>CatBoostRegressor_estimators_500</td>\n",
       "      <td>1626.580234</td>\n",
       "      <td>46.902494</td>\n",
       "      <td>0.803908</td>\n",
       "    </tr>\n",
       "    <tr>\n",
       "      <th>2</th>\n",
       "      <td>DecisionTreeRegressor_OHE</td>\n",
       "      <td>1785.164168</td>\n",
       "      <td>40.952280</td>\n",
       "      <td>0.761849</td>\n",
       "    </tr>\n",
       "    <tr>\n",
       "      <th>3</th>\n",
       "      <td>DecisionTreeRegressor_OE</td>\n",
       "      <td>2058.592930</td>\n",
       "      <td>2.409694</td>\n",
       "      <td>0.076983</td>\n",
       "    </tr>\n",
       "    <tr>\n",
       "      <th>4</th>\n",
       "      <td>LinearRegression_RandomSearchCV</td>\n",
       "      <td>2434.170990</td>\n",
       "      <td>17.432621</td>\n",
       "      <td>0.791547</td>\n",
       "    </tr>\n",
       "  </tbody>\n",
       "</table>\n",
       "</div>"
      ],
      "text/plain": [
       "                                Name         RMSE    fit_time  predict_time\n",
       "0  CatBoostRegressor_estimators_1500  1529.999588  136.129006      0.946617\n",
       "1   CatBoostRegressor_estimators_500  1626.580234   46.902494      0.803908\n",
       "2          DecisionTreeRegressor_OHE  1785.164168   40.952280      0.761849\n",
       "3           DecisionTreeRegressor_OE  2058.592930    2.409694      0.076983\n",
       "4    LinearRegression_RandomSearchCV  2434.170990   17.432621      0.791547"
      ]
     },
     "execution_count": 78,
     "metadata": {},
     "output_type": "execute_result"
    }
   ],
   "source": [
    "# Соберем в датафрейм полученные результаты со всех моделей.\n",
    "\n",
    "scores = pd.DataFrame( {'Name' : model_name, \n",
    "                       'RMSE' : model_rmse, \n",
    "                       'fit_time' : model_fit_time, \n",
    "                       'predict_time' : model_predict_time}) \n",
    "\n",
    "\n",
    "scores.sort_values('RMSE', ascending=True).reset_index(drop=True)"
   ]
  },
  {
   "cell_type": "markdown",
   "metadata": {},
   "source": [
    "По условию первоначальной задачи проходят все модели значение RMSE < 2500. \n",
    "Качественно выигрывает модель **CatBoostRegressor** она имеет наименьшее значение **RMSE=1530** делает наиболее точные предсказания, но при этом показывает **время обучения 350 секунд** что гораздо больше чем у других моделей.\n",
    "чуть хуже всего на 50 пунктов результат показал CatBoostRegressor с estimators=500 но при этом по времени обучения почти в три раза быстрее. \n",
    "\n",
    "Наихудшие результаты показала модель  LinearRegression_RandomSearchCV\n",
    "\n",
    "Вывод: чем больше параметров как и ожидалось тем больше времени требуется для обучения моделей, CatBoostRegressor умеет работать с категориальными признаками.\n",
    "estimators  Выше 1500 нусущественно улучшает характеристику RMSE при этом на обучение уходит гораздо больше времени.\n",
    "\n",
    "Для решения поставленной задачи проведем тестирование на модели **CatBoostRegressor_1500.**\n"
   ]
  },
  {
   "cell_type": "markdown",
   "metadata": {},
   "source": [
    "### Подготовим данные тестовой выборки"
   ]
  },
  {
   "cell_type": "code",
   "execution_count": 79,
   "metadata": {},
   "outputs": [
    {
     "name": "stdout",
     "output_type": "stream",
     "text": [
      "Удалили 0.0% данных\n"
     ]
    }
   ],
   "source": [
    "temp_size = f_train.shape\n",
    "f_train = f_train.dropna(subset = ['gearbox', 'model', 'vehicle_type', 'fuel_type'], how='all')\n",
    "\n",
    "print(\"Удалили {0}% данных\".format(round((1-f_train.shape[0]/temp_size[0])*100,2)))"
   ]
  },
  {
   "cell_type": "code",
   "execution_count": 80,
   "metadata": {},
   "outputs": [],
   "source": [
    "#в колонке Repaired заполним пропуски значением 'no'\n",
    "f_test['repaired'] = f_test['repaired'].fillna('no')"
   ]
  },
  {
   "cell_type": "code",
   "execution_count": 81,
   "metadata": {},
   "outputs": [],
   "source": [
    "f_test.loc[f_test['fuel_type'].isna(), 'fuel_type'] = 'unknown'"
   ]
  },
  {
   "cell_type": "code",
   "execution_count": 82,
   "metadata": {},
   "outputs": [],
   "source": [
    "f_test.loc[f_test['vehicle_type'].isna(), 'vehicle_type'] = 'unknown'"
   ]
  },
  {
   "cell_type": "code",
   "execution_count": 83,
   "metadata": {},
   "outputs": [],
   "source": [
    "f_test.loc[f_test['model'].isna(), 'model'] = 'unknown'"
   ]
  },
  {
   "cell_type": "code",
   "execution_count": 84,
   "metadata": {},
   "outputs": [],
   "source": [
    "f_test.loc[f_test['gearbox'].isna(), 'gearbox'] = 'unknown'"
   ]
  },
  {
   "cell_type": "code",
   "execution_count": 85,
   "metadata": {},
   "outputs": [
    {
     "data": {
      "text/plain": [
       "(70873, 10)"
      ]
     },
     "execution_count": 85,
     "metadata": {},
     "output_type": "execute_result"
    }
   ],
   "source": [
    "f_test = f_test[['vehicle_type', 'registration_year', 'gearbox', 'power', 'model',\n",
    "                 'kilometer', 'fuel_type', 'brand', 'repaired', 'postal_code']]\n",
    "f_test.shape"
   ]
  },
  {
   "cell_type": "code",
   "execution_count": 86,
   "metadata": {},
   "outputs": [
    {
     "data": {
      "text/html": [
       "<div>\n",
       "<style scoped>\n",
       "    .dataframe tbody tr th:only-of-type {\n",
       "        vertical-align: middle;\n",
       "    }\n",
       "\n",
       "    .dataframe tbody tr th {\n",
       "        vertical-align: top;\n",
       "    }\n",
       "\n",
       "    .dataframe thead th {\n",
       "        text-align: right;\n",
       "    }\n",
       "</style>\n",
       "<table border=\"1\" class=\"dataframe\">\n",
       "  <thead>\n",
       "    <tr style=\"text-align: right;\">\n",
       "      <th></th>\n",
       "      <th>feature</th>\n",
       "      <th>min</th>\n",
       "      <th>max</th>\n",
       "    </tr>\n",
       "  </thead>\n",
       "  <tbody>\n",
       "    <tr>\n",
       "      <th>0</th>\n",
       "      <td>target_train</td>\n",
       "      <td>100</td>\n",
       "      <td>20000</td>\n",
       "    </tr>\n",
       "    <tr>\n",
       "      <th>1</th>\n",
       "      <td>registration_year</td>\n",
       "      <td>1986</td>\n",
       "      <td>2019</td>\n",
       "    </tr>\n",
       "    <tr>\n",
       "      <th>2</th>\n",
       "      <td>power</td>\n",
       "      <td>0</td>\n",
       "      <td>251</td>\n",
       "    </tr>\n",
       "  </tbody>\n",
       "</table>\n",
       "</div>"
      ],
      "text/plain": [
       "             feature   min    max\n",
       "0       target_train   100  20000\n",
       "1  registration_year  1986   2019\n",
       "2              power     0    251"
      ]
     },
     "execution_count": 86,
     "metadata": {},
     "output_type": "execute_result"
    }
   ],
   "source": [
    "extrim_features"
   ]
  },
  {
   "cell_type": "code",
   "execution_count": 87,
   "metadata": {},
   "outputs": [
    {
     "data": {
      "text/plain": [
       "0    100\n",
       "Name: min, dtype: int64"
      ]
     },
     "execution_count": 87,
     "metadata": {},
     "output_type": "execute_result"
    }
   ],
   "source": [
    "extrim_features.loc[extrim_features['feature']=='target_train','min']"
   ]
  },
  {
   "cell_type": "code",
   "execution_count": 88,
   "metadata": {},
   "outputs": [
    {
     "data": {
      "text/plain": [
       "100"
      ]
     },
     "execution_count": 88,
     "metadata": {},
     "output_type": "execute_result"
    }
   ],
   "source": [
    "extrim_features['min'][0]"
   ]
  },
  {
   "cell_type": "raw",
   "metadata": {},
   "source": [
    "# Удалим из таргета данные выходящие за граница распределения таргета в тренировочной выборке.\n",
    "target_test = target_test.loc[(target_test>=extrim_features['min'][0])&(target_test<=extrim_features['max'][0])]\n",
    "target_test.shape"
   ]
  },
  {
   "cell_type": "raw",
   "metadata": {},
   "source": [
    "# удалим из тестовой выборки строки соответствующие удаленным значениям в таргете.\n",
    "f_test = f_test.iloc[f_test.index.isin(target_test.index)]\n",
    "f_test.shape"
   ]
  },
  {
   "cell_type": "raw",
   "metadata": {},
   "source": [
    "# Удалим из тестовых данные выходящие за граница распределения в тренировочной выборке.\n",
    "f_test = f_test.loc[(f_test['registration_year']>=extrim_features['min'][1])&\n",
    "                    (f_test['registration_year']<=extrim_features['max'][1])&\n",
    "                    (f_test['power']>=extrim_features['min'][2])&\n",
    "                    (f_test['power']<=extrim_features['max'][2])]\n",
    "f_test.shape"
   ]
  },
  {
   "cell_type": "raw",
   "metadata": {},
   "source": [
    "# удалим из таргета значения соответствующие удаленным строкам в тренировочной выборке.\n",
    "target_test = target_test.iloc[target_test.index.isin(f_test.index)]\n",
    "len(target_test)"
   ]
  },
  {
   "cell_type": "markdown",
   "metadata": {},
   "source": [
    "в ходе предобработки тестовых данных \n",
    "* заполним пропуски\n",
    "* Убрали экстримальные значения в соответствии с определнными границами в тренировочных данных."
   ]
  },
  {
   "cell_type": "markdown",
   "metadata": {},
   "source": [
    "### Итоговое тестирование модели"
   ]
  },
  {
   "cell_type": "code",
   "execution_count": 89,
   "metadata": {},
   "outputs": [],
   "source": [
    "test_pred = cat.predict(f_test)"
   ]
  },
  {
   "cell_type": "code",
   "execution_count": 90,
   "metadata": {},
   "outputs": [
    {
     "data": {
      "text/plain": [
       "1857.8017863683554"
      ]
     },
     "execution_count": 90,
     "metadata": {},
     "output_type": "execute_result"
    }
   ],
   "source": [
    "rmse(target_test, test_pred)"
   ]
  },
  {
   "cell_type": "code",
   "execution_count": 91,
   "metadata": {},
   "outputs": [
    {
     "data": {
      "text/plain": [
       "4753.758038751172"
      ]
     },
     "execution_count": 91,
     "metadata": {},
     "output_type": "execute_result"
    }
   ],
   "source": [
    "#сравним нашу модель с константной моделью\n",
    "dummy_median = DummyRegressor(strategy = 'median').fit(f_test, test_pred)\n",
    "y_predict_dummy_median = dummy_median.predict(f_test)\n",
    "\n",
    "rmse(target_test, y_predict_dummy_median)"
   ]
  },
  {
   "cell_type": "markdown",
   "metadata": {},
   "source": [
    "Выполнили проверку на адекватнойсть. Выбранная нами модель показывает результат превосходящий в 2,5 раза константную модель."
   ]
  },
  {
   "cell_type": "markdown",
   "metadata": {},
   "source": [
    "## Итоги\n",
    "\n",
    "Подготовили прототип модели машинного обучения.\n",
    "Которая предсказывает рыночную стоимость автомобиля.\n",
    "\n",
    "Работы выполнили в четыре этапа:\n",
    "* Подготовка данных;\n",
    "* Анализ данных;\n",
    "* Построение и обучение модели.\n",
    "* Выбор модели\n",
    "\n",
    "**В ходе подготовки данных:**\n",
    "\n",
    "* названия колонок привели к общему виду без заглавных букв и написанию через нижнее подчеркивание.\n",
    "* типы данных в колонках DateCrawled, DateCreated, LastSeen перевели в тип DataTime.\n",
    "* удалили повторяющиеся строки\n",
    "* данные слабо коррелируют, ожидаемо наибольшую взаимосвязь с целевым признаком имеют пробег мощность двигателя и год выпуска.\n",
    "* отделили целевую переменную с ценой, данные разбили на обучающую и тестовую выборки в соотношении 8:2\n",
    "\n",
    "**В ходе анализа данных**\n",
    "\n",
    "1. Расмотрев целевой параметр с ценой:\n",
    "\n",
    "* Удалили данные находящиеся за пределами 4 межквартильных растояний распределения при помощи написанной функции.\n",
    "* Удалим значения ниже первого пика в 100 евро для более точного обучения модели.\n",
    "\n",
    "2. Рассмотрели обучающую выборку:\n",
    "\n",
    "* Удалили из тренировочной выборки строки соответствующие удаленным значениям в таргете по индексу.\n",
    "* Удалили нашей функцией экстримальные значения в признаках Год регистрации и Мощность двигателя.\n",
    "* По всей видимости в сервисе значение пробега выбирается из предложенного списка, наблюдаем небольшое кол-во уникальных значений, кратных 5 000 км. Оставили данные в неизменном виде.\n",
    "* На графике распределения по брендам видим больше всего анкет по volkswagen дальше расположились opel, bmw, mercedes_benz. Наименьшее кол-во анкет по таким брендам как jeep, daewoo, jaguar, lada, porsche, trabant.\n",
    "* Больше всего анкет в крупных городах в них же как правило цены на авто отличаются от остальных городов. Выбрали города с кол-вом анкет больше 200. Оставили их индексы остальные заменили заглушкой будем считать что небольшие города не сильно влияют на рыночную стоимость авто. Уникальных городов с кол-вом анкет около 16 что соответсвует кол-ву наиболее крупных городов России.\n",
    "* Удалили из таргета значения соответствующие удаленным строкам в тренировочной выборке\n",
    "* В обучающец выборке оставили колонки характеризующие объект исследования\n",
    "\n",
    "для построения и обучения моделей были выбраны LinearRegression, DecisionTreeRegressor, LGBMRegressor, CatBoostRegressor.\n",
    "\n",
    "Для моделей DecisionTreeRegressor и LGBMRegressor гиперпараметры подбирали через RandomizedSearchCV. \n",
    "через pipeline выполнили предобработку с кодированием категориальных данных, и масштабированием числовых данных \n",
    "\n",
    "По условию первоначальной задачи прошли все модели значение RMSE < 2500. \n",
    "Качественно выигрывает модель **CatBoostRegressor** она имеет наименьшее значение **RMSE=1530** делает наиболее точные предсказания, но при этом показывает **время обучения 350 секунд** что гораздо больше чем у других моделей.\n",
    "чуть хуже всего на 50 пунктов результат показал CatBoostRegressor с estimators=500 но при этом по времени обучения почти в три раза быстрее. \n",
    "\n",
    "Наихудшие результаты показала модель  LinearRegression_RandomSearchCV\n",
    "\n",
    "Вывод: чем больше параметров как и ожидалось тем больше времени требуется для обучения моделей, CatBoostRegressor умеет работать с категориальными признаками.\n",
    "estimators  Выше 1500 нусущественно улучшает характеристику MRSE при этом на обучение уходит гораздо больше времени.\n",
    "\n",
    "Для решения поставленной задачи провели тестирование на модели **CatBoostRegressor_1500.**\n",
    "\n",
    "\n",
    "Модель выбиралась на основании трех характеристик указанных заказчиком:\n",
    "\n",
    "* качество предсказания;\n",
    "* скорость предсказания;\n",
    "* время обучения.\n",
    "\n",
    "Модель показала на предсказаниях значение RMSE равное 1587.\n",
    "Выполнили проверку на адекватнойсть. Выбранная нами модель показывает результат превосходящий в 2,5 раза константную модель.\n",
    "Модель показала довольно стабильный высокий результат. Цели задачи проекта выполнены.  \n",
    "\n"
   ]
  },
  {
   "cell_type": "code",
   "execution_count": null,
   "metadata": {},
   "outputs": [],
   "source": []
  }
 ],
 "metadata": {
  "ExecuteTimeLog": [
   {
    "duration": 399,
    "start_time": "2023-02-15T19:48:43.354Z"
   },
   {
    "duration": 66,
    "start_time": "2023-02-15T19:50:03.119Z"
   },
   {
    "duration": 3156,
    "start_time": "2023-02-15T19:50:05.679Z"
   },
   {
    "duration": 18,
    "start_time": "2023-02-15T19:50:08.837Z"
   },
   {
    "duration": 136,
    "start_time": "2023-02-15T19:50:53.237Z"
   },
   {
    "duration": 807,
    "start_time": "2023-02-15T19:57:49.840Z"
   },
   {
    "duration": 60,
    "start_time": "2023-02-16T18:17:16.090Z"
   },
   {
    "duration": 418,
    "start_time": "2023-02-16T18:17:20.438Z"
   },
   {
    "duration": 1057,
    "start_time": "2023-02-16T18:17:23.011Z"
   },
   {
    "duration": 18,
    "start_time": "2023-02-16T18:17:26.155Z"
   },
   {
    "duration": 115,
    "start_time": "2023-02-16T18:17:29.674Z"
   },
   {
    "duration": 448,
    "start_time": "2023-02-16T18:17:32.809Z"
   },
   {
    "duration": 953,
    "start_time": "2023-02-16T18:18:35.529Z"
   },
   {
    "duration": 685,
    "start_time": "2023-02-16T18:18:55.635Z"
   },
   {
    "duration": 728,
    "start_time": "2023-02-16T18:20:09.919Z"
   },
   {
    "duration": 190,
    "start_time": "2023-02-16T18:26:20.715Z"
   },
   {
    "duration": 7505,
    "start_time": "2023-02-26T07:10:24.992Z"
   },
   {
    "duration": 399,
    "start_time": "2023-02-26T07:10:32.587Z"
   },
   {
    "duration": 7,
    "start_time": "2023-02-26T07:10:32.988Z"
   },
   {
    "duration": 202,
    "start_time": "2023-02-26T07:10:32.997Z"
   },
   {
    "duration": 185,
    "start_time": "2023-02-26T07:10:33.201Z"
   },
   {
    "duration": 303,
    "start_time": "2023-02-26T07:10:33.388Z"
   },
   {
    "duration": 93,
    "start_time": "2023-02-26T07:10:33.694Z"
   },
   {
    "duration": 9897,
    "start_time": "2023-02-26T07:10:33.789Z"
   },
   {
    "duration": 110,
    "start_time": "2023-02-26T07:10:43.688Z"
   },
   {
    "duration": 899,
    "start_time": "2023-02-26T07:10:43.892Z"
   },
   {
    "duration": 3,
    "start_time": "2023-02-26T07:10:44.792Z"
   },
   {
    "duration": 2191,
    "start_time": "2023-02-26T07:10:44.799Z"
   },
   {
    "duration": 2096,
    "start_time": "2023-02-26T07:10:46.998Z"
   },
   {
    "duration": 2389,
    "start_time": "2023-02-26T07:10:49.098Z"
   },
   {
    "duration": 3504,
    "start_time": "2023-02-26T07:10:51.493Z"
   },
   {
    "duration": 897,
    "start_time": "2023-02-26T07:10:55.000Z"
   },
   {
    "duration": 109,
    "start_time": "2023-02-26T07:10:55.987Z"
   },
   {
    "duration": 2904,
    "start_time": "2023-02-26T07:10:56.098Z"
   },
   {
    "duration": 7,
    "start_time": "2023-02-26T07:10:59.090Z"
   },
   {
    "duration": 207,
    "start_time": "2023-02-26T07:10:59.104Z"
   },
   {
    "duration": 405,
    "start_time": "2023-02-26T07:10:59.385Z"
   },
   {
    "duration": 1397,
    "start_time": "2023-02-26T07:10:59.794Z"
   },
   {
    "duration": 93,
    "start_time": "2023-02-26T07:11:01.196Z"
   },
   {
    "duration": 2794,
    "start_time": "2023-02-26T07:11:01.298Z"
   },
   {
    "duration": 6,
    "start_time": "2023-02-26T07:11:04.095Z"
   },
   {
    "duration": 91,
    "start_time": "2023-02-26T07:11:04.102Z"
   },
   {
    "duration": 397,
    "start_time": "2023-02-26T07:11:04.195Z"
   },
   {
    "duration": 783,
    "start_time": "2023-02-26T07:11:04.604Z"
   },
   {
    "duration": 402,
    "start_time": "2023-02-26T07:11:05.388Z"
   },
   {
    "duration": 98,
    "start_time": "2023-02-26T07:11:05.792Z"
   },
   {
    "duration": 123,
    "start_time": "2023-02-26T07:11:05.892Z"
   },
   {
    "duration": 236,
    "start_time": "2023-02-26T07:11:06.088Z"
   },
   {
    "duration": 101,
    "start_time": "2023-02-26T07:11:06.394Z"
   },
   {
    "duration": 486,
    "start_time": "2023-02-26T07:11:06.502Z"
   },
   {
    "duration": 698,
    "start_time": "2023-02-26T07:11:06.996Z"
   },
   {
    "duration": 10511,
    "start_time": "2023-02-26T07:11:07.788Z"
   },
   {
    "duration": 396,
    "start_time": "2023-02-26T07:11:18.301Z"
   },
   {
    "duration": 102,
    "start_time": "2023-02-26T07:11:18.788Z"
   },
   {
    "duration": 1999,
    "start_time": "2023-02-26T07:11:18.891Z"
   },
   {
    "duration": 403,
    "start_time": "2023-02-26T07:11:20.893Z"
   },
   {
    "duration": 100,
    "start_time": "2023-02-26T07:11:21.390Z"
   },
   {
    "duration": 2288,
    "start_time": "2023-02-26T07:11:21.498Z"
   },
   {
    "duration": 5,
    "start_time": "2023-02-26T07:11:23.787Z"
   },
   {
    "duration": 2105,
    "start_time": "2023-02-26T07:11:23.794Z"
   },
   {
    "duration": 305,
    "start_time": "2023-02-26T07:11:25.986Z"
   },
   {
    "duration": 5,
    "start_time": "2023-02-26T07:11:26.293Z"
   },
   {
    "duration": 1588,
    "start_time": "2023-02-26T07:11:26.300Z"
   },
   {
    "duration": 97,
    "start_time": "2023-02-26T07:11:27.890Z"
   },
   {
    "duration": 103,
    "start_time": "2023-02-26T07:11:27.994Z"
   },
   {
    "duration": 3497,
    "start_time": "2023-02-26T07:11:28.099Z"
   },
   {
    "duration": 97,
    "start_time": "2023-02-26T07:11:31.598Z"
   },
   {
    "duration": 305,
    "start_time": "2023-02-26T07:11:31.697Z"
   },
   {
    "duration": 383,
    "start_time": "2023-02-26T07:11:32.008Z"
   },
   {
    "duration": 198,
    "start_time": "2023-02-26T07:11:32.392Z"
   },
   {
    "duration": 194,
    "start_time": "2023-02-26T07:11:32.591Z"
   },
   {
    "duration": 1316,
    "start_time": "2023-02-26T07:11:32.786Z"
   },
   {
    "duration": 183,
    "start_time": "2023-02-26T07:11:34.104Z"
   },
   {
    "duration": 404,
    "start_time": "2023-02-26T07:11:34.291Z"
   },
   {
    "duration": 287,
    "start_time": "2023-02-26T07:11:34.701Z"
   },
   {
    "duration": 395,
    "start_time": "2023-02-26T07:11:34.993Z"
   },
   {
    "duration": 809,
    "start_time": "2023-02-26T07:11:35.389Z"
   },
   {
    "duration": 6,
    "start_time": "2023-02-26T07:11:36.288Z"
   },
   {
    "duration": 215,
    "start_time": "2023-02-26T07:11:36.386Z"
   },
   {
    "duration": 184,
    "start_time": "2023-02-26T07:11:36.603Z"
   },
   {
    "duration": 210,
    "start_time": "2023-02-26T07:11:36.788Z"
   },
   {
    "duration": 194,
    "start_time": "2023-02-26T07:11:37.001Z"
   },
   {
    "duration": 1986,
    "start_time": "2023-02-26T07:11:37.199Z"
   },
   {
    "duration": 0,
    "start_time": "2023-02-26T07:11:39.193Z"
   },
   {
    "duration": 0,
    "start_time": "2023-02-26T07:11:39.197Z"
   },
   {
    "duration": 0,
    "start_time": "2023-02-26T07:11:39.201Z"
   },
   {
    "duration": 0,
    "start_time": "2023-02-26T07:11:39.205Z"
   },
   {
    "duration": 0,
    "start_time": "2023-02-26T07:11:39.209Z"
   },
   {
    "duration": 0,
    "start_time": "2023-02-26T07:11:39.210Z"
   },
   {
    "duration": 0,
    "start_time": "2023-02-26T07:11:39.210Z"
   },
   {
    "duration": 0,
    "start_time": "2023-02-26T07:11:39.211Z"
   },
   {
    "duration": 0,
    "start_time": "2023-02-26T07:11:39.211Z"
   },
   {
    "duration": 0,
    "start_time": "2023-02-26T07:11:39.212Z"
   },
   {
    "duration": 0,
    "start_time": "2023-02-26T07:11:39.213Z"
   },
   {
    "duration": 0,
    "start_time": "2023-02-26T07:11:39.213Z"
   },
   {
    "duration": 0,
    "start_time": "2023-02-26T07:11:39.214Z"
   },
   {
    "duration": 0,
    "start_time": "2023-02-26T07:11:39.214Z"
   },
   {
    "duration": 0,
    "start_time": "2023-02-26T07:11:39.285Z"
   },
   {
    "duration": 0,
    "start_time": "2023-02-26T07:11:39.289Z"
   },
   {
    "duration": 0,
    "start_time": "2023-02-26T07:11:39.290Z"
   },
   {
    "duration": 0,
    "start_time": "2023-02-26T07:11:39.291Z"
   },
   {
    "duration": 1,
    "start_time": "2023-02-26T07:11:39.292Z"
   },
   {
    "duration": 0,
    "start_time": "2023-02-26T07:11:39.294Z"
   },
   {
    "duration": 0,
    "start_time": "2023-02-26T07:11:39.295Z"
   },
   {
    "duration": 0,
    "start_time": "2023-02-26T07:11:39.296Z"
   },
   {
    "duration": 0,
    "start_time": "2023-02-26T07:11:39.297Z"
   },
   {
    "duration": 0,
    "start_time": "2023-02-26T07:11:39.298Z"
   },
   {
    "duration": 0,
    "start_time": "2023-02-26T07:11:39.300Z"
   },
   {
    "duration": 0,
    "start_time": "2023-02-26T07:11:39.300Z"
   },
   {
    "duration": 0,
    "start_time": "2023-02-26T07:11:39.301Z"
   },
   {
    "duration": 0,
    "start_time": "2023-02-26T07:11:39.302Z"
   },
   {
    "duration": 0,
    "start_time": "2023-02-26T07:11:39.302Z"
   },
   {
    "duration": 1,
    "start_time": "2023-02-26T07:11:39.302Z"
   },
   {
    "duration": 0,
    "start_time": "2023-02-26T07:11:39.303Z"
   },
   {
    "duration": 0,
    "start_time": "2023-02-26T07:11:39.303Z"
   },
   {
    "duration": 0,
    "start_time": "2023-02-26T07:11:39.304Z"
   },
   {
    "duration": 0,
    "start_time": "2023-02-26T07:11:39.304Z"
   },
   {
    "duration": 0,
    "start_time": "2023-02-26T07:11:39.305Z"
   },
   {
    "duration": 0,
    "start_time": "2023-02-26T07:11:39.305Z"
   },
   {
    "duration": 0,
    "start_time": "2023-02-26T07:11:39.305Z"
   },
   {
    "duration": 7501,
    "start_time": "2023-02-26T07:15:29.686Z"
   },
   {
    "duration": 14,
    "start_time": "2023-02-26T07:15:37.189Z"
   },
   {
    "duration": 203,
    "start_time": "2023-02-26T07:15:37.290Z"
   },
   {
    "duration": 193,
    "start_time": "2023-02-26T07:15:37.494Z"
   },
   {
    "duration": 92,
    "start_time": "2023-02-26T07:15:37.694Z"
   },
   {
    "duration": 199,
    "start_time": "2023-02-26T07:15:37.792Z"
   },
   {
    "duration": 96,
    "start_time": "2023-02-26T07:15:37.992Z"
   },
   {
    "duration": 5495,
    "start_time": "2023-02-26T07:15:38.091Z"
   },
   {
    "duration": 204,
    "start_time": "2023-02-26T07:15:43.588Z"
   },
   {
    "duration": 805,
    "start_time": "2023-02-26T07:15:43.794Z"
   },
   {
    "duration": 98,
    "start_time": "2023-02-26T07:15:44.693Z"
   },
   {
    "duration": 1996,
    "start_time": "2023-02-26T07:15:44.797Z"
   },
   {
    "duration": 1895,
    "start_time": "2023-02-26T07:15:46.797Z"
   },
   {
    "duration": 2203,
    "start_time": "2023-02-26T07:15:48.785Z"
   },
   {
    "duration": 3800,
    "start_time": "2023-02-26T07:15:50.991Z"
   },
   {
    "duration": 913,
    "start_time": "2023-02-26T07:15:54.795Z"
   },
   {
    "duration": 106,
    "start_time": "2023-02-26T07:15:55.790Z"
   },
   {
    "duration": 2999,
    "start_time": "2023-02-26T07:15:55.898Z"
   },
   {
    "duration": 8,
    "start_time": "2023-02-26T07:15:58.987Z"
   },
   {
    "duration": 4,
    "start_time": "2023-02-26T07:15:59.085Z"
   },
   {
    "duration": 401,
    "start_time": "2023-02-26T07:15:59.091Z"
   },
   {
    "duration": 1700,
    "start_time": "2023-02-26T07:15:59.495Z"
   },
   {
    "duration": 101,
    "start_time": "2023-02-26T07:16:01.285Z"
   },
   {
    "duration": 2411,
    "start_time": "2023-02-26T07:16:01.389Z"
   },
   {
    "duration": 7,
    "start_time": "2023-02-26T07:16:03.889Z"
   },
   {
    "duration": 87,
    "start_time": "2023-02-26T07:16:03.899Z"
   },
   {
    "duration": 295,
    "start_time": "2023-02-26T07:16:03.990Z"
   },
   {
    "duration": 908,
    "start_time": "2023-02-26T07:16:04.290Z"
   },
   {
    "duration": 402,
    "start_time": "2023-02-26T07:16:05.200Z"
   },
   {
    "duration": 95,
    "start_time": "2023-02-26T07:16:05.604Z"
   },
   {
    "duration": 392,
    "start_time": "2023-02-26T07:16:05.701Z"
   },
   {
    "duration": 292,
    "start_time": "2023-02-26T07:16:06.098Z"
   },
   {
    "duration": 306,
    "start_time": "2023-02-26T07:16:06.392Z"
   },
   {
    "duration": 116,
    "start_time": "2023-02-26T07:16:06.786Z"
   },
   {
    "duration": 502,
    "start_time": "2023-02-26T07:16:06.989Z"
   },
   {
    "duration": 10908,
    "start_time": "2023-02-26T07:16:07.492Z"
   },
   {
    "duration": 413,
    "start_time": "2023-02-26T07:16:18.486Z"
   },
   {
    "duration": 99,
    "start_time": "2023-02-26T07:16:18.989Z"
   },
   {
    "duration": 1701,
    "start_time": "2023-02-26T07:16:19.094Z"
   },
   {
    "duration": 397,
    "start_time": "2023-02-26T07:16:20.899Z"
   },
   {
    "duration": 105,
    "start_time": "2023-02-26T07:16:21.385Z"
   },
   {
    "duration": 2407,
    "start_time": "2023-02-26T07:16:21.493Z"
   },
   {
    "duration": 91,
    "start_time": "2023-02-26T07:16:23.901Z"
   },
   {
    "duration": 2589,
    "start_time": "2023-02-26T07:16:23.996Z"
   },
   {
    "duration": 307,
    "start_time": "2023-02-26T07:16:26.588Z"
   },
   {
    "duration": 93,
    "start_time": "2023-02-26T07:16:26.898Z"
   },
   {
    "duration": 1795,
    "start_time": "2023-02-26T07:16:26.996Z"
   },
   {
    "duration": 191,
    "start_time": "2023-02-26T07:16:28.800Z"
   },
   {
    "duration": 296,
    "start_time": "2023-02-26T07:16:28.997Z"
   },
   {
    "duration": 3502,
    "start_time": "2023-02-26T07:16:29.294Z"
   },
   {
    "duration": 11,
    "start_time": "2023-02-26T07:16:32.888Z"
   },
   {
    "duration": 11,
    "start_time": "2023-02-26T07:16:32.988Z"
   },
   {
    "duration": 90,
    "start_time": "2023-02-26T07:16:33.001Z"
   },
   {
    "duration": 193,
    "start_time": "2023-02-26T07:16:33.094Z"
   },
   {
    "duration": 5,
    "start_time": "2023-02-26T07:16:33.288Z"
   },
   {
    "duration": 1592,
    "start_time": "2023-02-26T07:16:33.295Z"
   },
   {
    "duration": 110,
    "start_time": "2023-02-26T07:16:34.895Z"
   },
   {
    "duration": 101,
    "start_time": "2023-02-26T07:16:35.087Z"
   },
   {
    "duration": 98,
    "start_time": "2023-02-26T07:16:35.190Z"
   },
   {
    "duration": 318,
    "start_time": "2023-02-26T07:16:35.289Z"
   },
   {
    "duration": 894,
    "start_time": "2023-02-26T07:16:35.609Z"
   },
   {
    "duration": 3,
    "start_time": "2023-02-26T07:16:36.587Z"
   },
   {
    "duration": 295,
    "start_time": "2023-02-26T07:16:36.592Z"
   },
   {
    "duration": 198,
    "start_time": "2023-02-26T07:16:36.888Z"
   },
   {
    "duration": 102,
    "start_time": "2023-02-26T07:16:37.087Z"
   },
   {
    "duration": 5,
    "start_time": "2023-02-26T07:16:37.191Z"
   },
   {
    "duration": 1987,
    "start_time": "2023-02-26T07:16:37.198Z"
   },
   {
    "duration": 0,
    "start_time": "2023-02-26T07:16:39.191Z"
   },
   {
    "duration": 0,
    "start_time": "2023-02-26T07:16:39.195Z"
   },
   {
    "duration": 0,
    "start_time": "2023-02-26T07:16:39.197Z"
   },
   {
    "duration": 0,
    "start_time": "2023-02-26T07:16:39.200Z"
   },
   {
    "duration": 0,
    "start_time": "2023-02-26T07:16:39.201Z"
   },
   {
    "duration": 0,
    "start_time": "2023-02-26T07:16:39.202Z"
   },
   {
    "duration": 0,
    "start_time": "2023-02-26T07:16:39.203Z"
   },
   {
    "duration": 0,
    "start_time": "2023-02-26T07:16:39.204Z"
   },
   {
    "duration": 0,
    "start_time": "2023-02-26T07:16:39.286Z"
   },
   {
    "duration": 0,
    "start_time": "2023-02-26T07:16:39.288Z"
   },
   {
    "duration": 0,
    "start_time": "2023-02-26T07:16:39.289Z"
   },
   {
    "duration": 0,
    "start_time": "2023-02-26T07:16:39.291Z"
   },
   {
    "duration": 0,
    "start_time": "2023-02-26T07:16:39.292Z"
   },
   {
    "duration": 0,
    "start_time": "2023-02-26T07:16:39.293Z"
   },
   {
    "duration": 0,
    "start_time": "2023-02-26T07:16:39.294Z"
   },
   {
    "duration": 0,
    "start_time": "2023-02-26T07:16:39.296Z"
   },
   {
    "duration": 0,
    "start_time": "2023-02-26T07:16:39.296Z"
   },
   {
    "duration": 0,
    "start_time": "2023-02-26T07:16:39.299Z"
   },
   {
    "duration": 0,
    "start_time": "2023-02-26T07:16:39.300Z"
   },
   {
    "duration": 0,
    "start_time": "2023-02-26T07:16:39.300Z"
   },
   {
    "duration": 0,
    "start_time": "2023-02-26T07:16:39.301Z"
   },
   {
    "duration": 0,
    "start_time": "2023-02-26T07:16:39.301Z"
   },
   {
    "duration": 0,
    "start_time": "2023-02-26T07:16:39.302Z"
   },
   {
    "duration": 0,
    "start_time": "2023-02-26T07:16:39.302Z"
   },
   {
    "duration": 0,
    "start_time": "2023-02-26T07:16:39.302Z"
   },
   {
    "duration": 0,
    "start_time": "2023-02-26T07:16:39.387Z"
   },
   {
    "duration": 0,
    "start_time": "2023-02-26T07:16:39.389Z"
   },
   {
    "duration": 0,
    "start_time": "2023-02-26T07:16:39.395Z"
   },
   {
    "duration": 0,
    "start_time": "2023-02-26T07:16:39.396Z"
   },
   {
    "duration": 0,
    "start_time": "2023-02-26T07:16:39.396Z"
   },
   {
    "duration": 0,
    "start_time": "2023-02-26T07:16:39.397Z"
   },
   {
    "duration": 0,
    "start_time": "2023-02-26T07:16:39.398Z"
   },
   {
    "duration": 0,
    "start_time": "2023-02-26T07:16:39.398Z"
   },
   {
    "duration": 0,
    "start_time": "2023-02-26T07:16:39.399Z"
   },
   {
    "duration": 0,
    "start_time": "2023-02-26T07:16:39.400Z"
   },
   {
    "duration": 0,
    "start_time": "2023-02-26T07:16:39.400Z"
   },
   {
    "duration": 0,
    "start_time": "2023-02-26T07:16:39.400Z"
   }
  ],
  "kernelspec": {
   "display_name": "Python 3 (ipykernel)",
   "language": "python",
   "name": "python3"
  },
  "language_info": {
   "codemirror_mode": {
    "name": "ipython",
    "version": 3
   },
   "file_extension": ".py",
   "mimetype": "text/x-python",
   "name": "python",
   "nbconvert_exporter": "python",
   "pygments_lexer": "ipython3",
   "version": "3.10.9"
  },
  "toc": {
   "base_numbering": 1,
   "nav_menu": {},
   "number_sections": true,
   "sideBar": true,
   "skip_h1_title": true,
   "title_cell": "Содержание",
   "title_sidebar": "Contents",
   "toc_cell": true,
   "toc_position": {
    "height": "calc(100% - 180px)",
    "left": "10px",
    "top": "150px",
    "width": "426.75px"
   },
   "toc_section_display": true,
   "toc_window_display": true
  }
 },
 "nbformat": 4,
 "nbformat_minor": 2
}
