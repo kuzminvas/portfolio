{
 "cells": [
  {
   "cell_type": "markdown",
   "metadata": {
    "toc": true
   },
   "source": [
    "<h1>Содержание<span class=\"tocSkip\"></span></h1>\n",
    "<div class=\"toc\"><ul class=\"toc-item\"><li><span><a href=\"#Подготовка\" data-toc-modified-id=\"Подготовка-1\"><span class=\"toc-item-num\">1&nbsp;&nbsp;</span>Подготовка</a></span><ul class=\"toc-item\"><li><span><a href=\"#Вывод\" data-toc-modified-id=\"Вывод-1.1\"><span class=\"toc-item-num\">1.1&nbsp;&nbsp;</span>Вывод</a></span></li></ul></li><li><span><a href=\"#Анализ\" data-toc-modified-id=\"Анализ-2\"><span class=\"toc-item-num\">2&nbsp;&nbsp;</span>Анализ</a></span><ul class=\"toc-item\"><li><span><a href=\"#Вывод\" data-toc-modified-id=\"Вывод-2.1\"><span class=\"toc-item-num\">2.1&nbsp;&nbsp;</span>Вывод</a></span></li></ul></li><li><span><a href=\"#Обучение\" data-toc-modified-id=\"Обучение-3\"><span class=\"toc-item-num\">3&nbsp;&nbsp;</span>Обучение</a></span><ul class=\"toc-item\"><li><span><a href=\"#Вывод\" data-toc-modified-id=\"Вывод-3.1\"><span class=\"toc-item-num\">3.1&nbsp;&nbsp;</span>Вывод</a></span></li></ul></li><li><span><a href=\"#Тестирование\" data-toc-modified-id=\"Тестирование-4\"><span class=\"toc-item-num\">4&nbsp;&nbsp;</span>Тестирование</a></span><ul class=\"toc-item\"><li><span><a href=\"#Вывод\" data-toc-modified-id=\"Вывод-4.1\"><span class=\"toc-item-num\">4.1&nbsp;&nbsp;</span>Вывод</a></span></li></ul></li></ul></div>"
   ]
  },
  {
   "cell_type": "markdown",
   "metadata": {},
   "source": [
    "#  Прогнозирование заказов такси"
   ]
  },
  {
   "cell_type": "markdown",
   "metadata": {},
   "source": [
    "Необходимо построить модель для прогнозирования количества заказов такси на следующий час. \n",
    "Работы выполним в 4 этапа\n",
    "1. Загрузка и подготовка данных\n",
    "2. Анализ данных\n",
    "3. Обучение моделей\n",
    "4. Проверка данных на тестовой выборке\n",
    "\n",
    "Задача: обучение и выбор лучшей модели\n",
    "Цель: RMSE на тестовой выборке должно быть не больше 48."
   ]
  },
  {
   "cell_type": "markdown",
   "metadata": {},
   "source": [
    "## Подготовка"
   ]
  },
  {
   "cell_type": "code",
   "execution_count": 1,
   "metadata": {},
   "outputs": [],
   "source": [
    "import pandas as pd\n",
    "import numpy as np\n",
    "import matplotlib.pyplot as plt\n",
    "import seaborn as sns\n",
    "from tqdm import tqdm\n",
    "from time import time\n",
    "\n",
    "from sklearn.model_selection import train_test_split\n",
    "\n",
    "from sklearn.pipeline import Pipeline\n",
    "from sklearn.pipeline import make_pipeline\n",
    "from sklearn.preprocessing import StandardScaler, OneHotEncoder\n",
    "from sklearn.compose import ColumnTransformer\n",
    "from sklearn.linear_model import LinearRegression\n",
    "from sklearn.model_selection import RandomizedSearchCV\n",
    "from sklearn.model_selection import cross_val_score\n",
    "\n",
    "from sklearn.tree import DecisionTreeRegressor\n",
    "from sklearn.metrics import make_scorer\n",
    "from sklearn.metrics import mean_squared_error\n",
    "\n",
    "from statsmodels.tsa.seasonal import seasonal_decompose\n",
    "\n",
    "from math import sqrt\n",
    "\n",
    "#!pip install catboost\n",
    "from catboost import CatBoost, CatBoostRegressor, Pool\n",
    "\n",
    "import warnings\n",
    "\n",
    "warnings.filterwarnings(\"ignore\")"
   ]
  },
  {
   "cell_type": "code",
   "execution_count": 2,
   "metadata": {},
   "outputs": [],
   "source": [
    "RND_ST = 3101\n",
    "LIMIT_RMSE = 48"
   ]
  },
  {
   "cell_type": "code",
   "execution_count": 3,
   "metadata": {},
   "outputs": [],
   "source": [
    "try:\n",
    "    data = pd.read_csv('/datasets/taxi.csv')\n",
    "    \n",
    "except:\n",
    "    data = pd.read_csv('taxi.csv')"
   ]
  },
  {
   "cell_type": "code",
   "execution_count": 4,
   "metadata": {},
   "outputs": [
    {
     "data": {
      "text/html": [
       "<div>\n",
       "<style scoped>\n",
       "    .dataframe tbody tr th:only-of-type {\n",
       "        vertical-align: middle;\n",
       "    }\n",
       "\n",
       "    .dataframe tbody tr th {\n",
       "        vertical-align: top;\n",
       "    }\n",
       "\n",
       "    .dataframe thead th {\n",
       "        text-align: right;\n",
       "    }\n",
       "</style>\n",
       "<table border=\"1\" class=\"dataframe\">\n",
       "  <thead>\n",
       "    <tr style=\"text-align: right;\">\n",
       "      <th></th>\n",
       "      <th>datetime</th>\n",
       "      <th>num_orders</th>\n",
       "    </tr>\n",
       "  </thead>\n",
       "  <tbody>\n",
       "    <tr>\n",
       "      <th>21091</th>\n",
       "      <td>2018-07-25 11:10:00</td>\n",
       "      <td>9</td>\n",
       "    </tr>\n",
       "    <tr>\n",
       "      <th>9316</th>\n",
       "      <td>2018-05-04 16:40:00</td>\n",
       "      <td>11</td>\n",
       "    </tr>\n",
       "    <tr>\n",
       "      <th>3976</th>\n",
       "      <td>2018-03-28 14:40:00</td>\n",
       "      <td>8</td>\n",
       "    </tr>\n",
       "    <tr>\n",
       "      <th>6986</th>\n",
       "      <td>2018-04-18 12:20:00</td>\n",
       "      <td>8</td>\n",
       "    </tr>\n",
       "    <tr>\n",
       "      <th>3397</th>\n",
       "      <td>2018-03-24 14:10:00</td>\n",
       "      <td>8</td>\n",
       "    </tr>\n",
       "  </tbody>\n",
       "</table>\n",
       "</div>"
      ],
      "text/plain": [
       "                  datetime  num_orders\n",
       "21091  2018-07-25 11:10:00           9\n",
       "9316   2018-05-04 16:40:00          11\n",
       "3976   2018-03-28 14:40:00           8\n",
       "6986   2018-04-18 12:20:00           8\n",
       "3397   2018-03-24 14:10:00           8"
      ]
     },
     "execution_count": 4,
     "metadata": {},
     "output_type": "execute_result"
    }
   ],
   "source": [
    "data.sample(5)"
   ]
  },
  {
   "cell_type": "code",
   "execution_count": 5,
   "metadata": {},
   "outputs": [
    {
     "name": "stdout",
     "output_type": "stream",
     "text": [
      "<class 'pandas.core.frame.DataFrame'>\n",
      "RangeIndex: 26496 entries, 0 to 26495\n",
      "Data columns (total 2 columns):\n",
      " #   Column      Non-Null Count  Dtype \n",
      "---  ------      --------------  ----- \n",
      " 0   datetime    26496 non-null  object\n",
      " 1   num_orders  26496 non-null  int64 \n",
      "dtypes: int64(1), object(1)\n",
      "memory usage: 414.1+ KB\n"
     ]
    }
   ],
   "source": [
    "data.info()"
   ]
  },
  {
   "cell_type": "code",
   "execution_count": 6,
   "metadata": {},
   "outputs": [],
   "source": [
    "#поменяем тип данных в колонке Datetime\n",
    "data['datetime'] = pd.to_datetime(data['datetime'])"
   ]
  },
  {
   "cell_type": "code",
   "execution_count": 7,
   "metadata": {},
   "outputs": [],
   "source": [
    "data = data.set_index('datetime')"
   ]
  },
  {
   "cell_type": "code",
   "execution_count": 8,
   "metadata": {},
   "outputs": [
    {
     "name": "stdout",
     "output_type": "stream",
     "text": [
      "True\n"
     ]
    }
   ],
   "source": [
    "print(data.index.is_monotonic)"
   ]
  },
  {
   "cell_type": "code",
   "execution_count": 9,
   "metadata": {},
   "outputs": [
    {
     "name": "stdout",
     "output_type": "stream",
     "text": [
      "кол-во дублей: 26415\n"
     ]
    }
   ],
   "source": [
    "print('кол-во дублей:', data.duplicated().sum())"
   ]
  },
  {
   "cell_type": "code",
   "execution_count": 10,
   "metadata": {},
   "outputs": [
    {
     "data": {
      "text/html": [
       "<div>\n",
       "<style scoped>\n",
       "    .dataframe tbody tr th:only-of-type {\n",
       "        vertical-align: middle;\n",
       "    }\n",
       "\n",
       "    .dataframe tbody tr th {\n",
       "        vertical-align: top;\n",
       "    }\n",
       "\n",
       "    .dataframe thead th {\n",
       "        text-align: right;\n",
       "    }\n",
       "</style>\n",
       "<table border=\"1\" class=\"dataframe\">\n",
       "  <thead>\n",
       "    <tr style=\"text-align: right;\">\n",
       "      <th></th>\n",
       "      <th>num_orders</th>\n",
       "    </tr>\n",
       "    <tr>\n",
       "      <th>datetime</th>\n",
       "      <th></th>\n",
       "    </tr>\n",
       "  </thead>\n",
       "  <tbody>\n",
       "    <tr>\n",
       "      <th>2018-03-01 00:00:00</th>\n",
       "      <td>False</td>\n",
       "    </tr>\n",
       "    <tr>\n",
       "      <th>2018-03-01 00:10:00</th>\n",
       "      <td>False</td>\n",
       "    </tr>\n",
       "    <tr>\n",
       "      <th>2018-03-01 00:20:00</th>\n",
       "      <td>False</td>\n",
       "    </tr>\n",
       "    <tr>\n",
       "      <th>2018-03-01 00:30:00</th>\n",
       "      <td>False</td>\n",
       "    </tr>\n",
       "    <tr>\n",
       "      <th>2018-03-01 00:40:00</th>\n",
       "      <td>False</td>\n",
       "    </tr>\n",
       "    <tr>\n",
       "      <th>...</th>\n",
       "      <td>...</td>\n",
       "    </tr>\n",
       "    <tr>\n",
       "      <th>2018-08-31 23:10:00</th>\n",
       "      <td>False</td>\n",
       "    </tr>\n",
       "    <tr>\n",
       "      <th>2018-08-31 23:20:00</th>\n",
       "      <td>False</td>\n",
       "    </tr>\n",
       "    <tr>\n",
       "      <th>2018-08-31 23:30:00</th>\n",
       "      <td>False</td>\n",
       "    </tr>\n",
       "    <tr>\n",
       "      <th>2018-08-31 23:40:00</th>\n",
       "      <td>False</td>\n",
       "    </tr>\n",
       "    <tr>\n",
       "      <th>2018-08-31 23:50:00</th>\n",
       "      <td>False</td>\n",
       "    </tr>\n",
       "  </tbody>\n",
       "</table>\n",
       "<p>26496 rows × 1 columns</p>\n",
       "</div>"
      ],
      "text/plain": [
       "                     num_orders\n",
       "datetime                       \n",
       "2018-03-01 00:00:00       False\n",
       "2018-03-01 00:10:00       False\n",
       "2018-03-01 00:20:00       False\n",
       "2018-03-01 00:30:00       False\n",
       "2018-03-01 00:40:00       False\n",
       "...                         ...\n",
       "2018-08-31 23:10:00       False\n",
       "2018-08-31 23:20:00       False\n",
       "2018-08-31 23:30:00       False\n",
       "2018-08-31 23:40:00       False\n",
       "2018-08-31 23:50:00       False\n",
       "\n",
       "[26496 rows x 1 columns]"
      ]
     },
     "execution_count": 10,
     "metadata": {},
     "output_type": "execute_result"
    }
   ],
   "source": [
    "data.isna()"
   ]
  },
  {
   "cell_type": "markdown",
   "metadata": {},
   "source": [
    "### Вывод\n",
    "В датафрейме две колонки c временем и кол-вом заказов\n",
    "1. Поменяли тип данных для колонки datetime и сделали ее индексом нашей таблицы\n",
    "2. данные расположены в хронологическом порядке.\n",
    "3. Названия колонок написаны с маленькой буквы с нижним подчеркиванием изменения не требуются.\n",
    "4. Пропуски отсутствуют.\n",
    "5. дубликаты отсутствуют.\n"
   ]
  },
  {
   "cell_type": "markdown",
   "metadata": {},
   "source": [
    "## Анализ"
   ]
  },
  {
   "cell_type": "code",
   "execution_count": 11,
   "metadata": {},
   "outputs": [
    {
     "data": {
      "text/html": [
       "<div>\n",
       "<style scoped>\n",
       "    .dataframe tbody tr th:only-of-type {\n",
       "        vertical-align: middle;\n",
       "    }\n",
       "\n",
       "    .dataframe tbody tr th {\n",
       "        vertical-align: top;\n",
       "    }\n",
       "\n",
       "    .dataframe thead th {\n",
       "        text-align: right;\n",
       "    }\n",
       "</style>\n",
       "<table border=\"1\" class=\"dataframe\">\n",
       "  <thead>\n",
       "    <tr style=\"text-align: right;\">\n",
       "      <th></th>\n",
       "      <th>num_orders</th>\n",
       "    </tr>\n",
       "  </thead>\n",
       "  <tbody>\n",
       "    <tr>\n",
       "      <th>count</th>\n",
       "      <td>26496.000000</td>\n",
       "    </tr>\n",
       "    <tr>\n",
       "      <th>mean</th>\n",
       "      <td>14.070463</td>\n",
       "    </tr>\n",
       "    <tr>\n",
       "      <th>std</th>\n",
       "      <td>9.211330</td>\n",
       "    </tr>\n",
       "    <tr>\n",
       "      <th>min</th>\n",
       "      <td>0.000000</td>\n",
       "    </tr>\n",
       "    <tr>\n",
       "      <th>25%</th>\n",
       "      <td>8.000000</td>\n",
       "    </tr>\n",
       "    <tr>\n",
       "      <th>50%</th>\n",
       "      <td>13.000000</td>\n",
       "    </tr>\n",
       "    <tr>\n",
       "      <th>75%</th>\n",
       "      <td>19.000000</td>\n",
       "    </tr>\n",
       "    <tr>\n",
       "      <th>max</th>\n",
       "      <td>119.000000</td>\n",
       "    </tr>\n",
       "  </tbody>\n",
       "</table>\n",
       "</div>"
      ],
      "text/plain": [
       "         num_orders\n",
       "count  26496.000000\n",
       "mean      14.070463\n",
       "std        9.211330\n",
       "min        0.000000\n",
       "25%        8.000000\n",
       "50%       13.000000\n",
       "75%       19.000000\n",
       "max      119.000000"
      ]
     },
     "execution_count": 11,
     "metadata": {},
     "output_type": "execute_result"
    }
   ],
   "source": [
    "data.describe()"
   ]
  },
  {
   "cell_type": "code",
   "execution_count": 12,
   "metadata": {},
   "outputs": [
    {
     "data": {
      "text/plain": [
       "<AxesSubplot:xlabel='datetime'>"
      ]
     },
     "execution_count": 12,
     "metadata": {},
     "output_type": "execute_result"
    },
    {
     "data": {
      "image/png": "[encoded data removed]",
      "text/plain": [
       "<Figure size 432x288 with 1 Axes>"
      ]
     },
     "metadata": {
      "needs_background": "light"
     },
     "output_type": "display_data"
    }
   ],
   "source": [
    "data = data.resample('1H').sum()\n",
    "data.plot()"
   ]
  },
  {
   "cell_type": "code",
   "execution_count": 13,
   "metadata": {},
   "outputs": [
    {
     "data": {
      "text/plain": [
       "<AxesSubplot:xlabel='datetime'>"
      ]
     },
     "execution_count": 13,
     "metadata": {},
     "output_type": "execute_result"
    },
    {
     "data": {
      "image/png": "[encoded data removed]",
      "text/plain": [
       "<Figure size 432x288 with 1 Axes>"
      ]
     },
     "metadata": {
      "needs_background": "light"
     },
     "output_type": "display_data"
    }
   ],
   "source": [
    "data.rolling(24).mean().plot()\n"
   ]
  },
  {
   "cell_type": "code",
   "execution_count": 14,
   "metadata": {},
   "outputs": [
    {
     "data": {
      "text/plain": [
       "Text(0.5, 1.0, 'Сезонность в пределах августа месяца')"
      ]
     },
     "execution_count": 14,
     "metadata": {},
     "output_type": "execute_result"
    },
    {
     "data": {
      "image/png": "[encoded data removed]",
      "text/plain": [
       "<Figure size 432x288 with 1 Axes>"
      ]
     },
     "metadata": {
      "needs_background": "light"
     },
     "output_type": "display_data"
    }
   ],
   "source": [
    "\n",
    "decomposed_d = seasonal_decompose(data.resample('1D').sum())\n",
    "\n",
    "plt.subplot()\n",
    "decomposed_d.seasonal['2018-08':'2018-08'].plot(ax=plt.gca())\n",
    "plt.title('Сезонность в пределах августа месяца')"
   ]
  },
  {
   "cell_type": "code",
   "execution_count": 15,
   "metadata": {},
   "outputs": [
    {
     "data": {
      "text/plain": [
       "Text(0.5, 1.0, 'Сезонность в пределах марта месяца')"
      ]
     },
     "execution_count": 15,
     "metadata": {},
     "output_type": "execute_result"
    },
    {
     "data": {
      "image/png": "[encoded data removed]",
      "text/plain": [
       "<Figure size 432x288 with 1 Axes>"
      ]
     },
     "metadata": {
      "needs_background": "light"
     },
     "output_type": "display_data"
    }
   ],
   "source": [
    "plt.subplot()\n",
    "decomposed_d.seasonal['2018-03':'2018-03'].plot(ax=plt.gca())\n",
    "plt.title('Сезонность в пределах марта месяца')"
   ]
  },
  {
   "cell_type": "markdown",
   "metadata": {},
   "source": [
    "Пики использования такси приходятся на пятницу и понедельник минимум заказов на вторник."
   ]
  },
  {
   "cell_type": "code",
   "execution_count": 16,
   "metadata": {},
   "outputs": [
    {
     "data": {
      "text/plain": [
       "Text(0.5, 1.0, 'trend')"
      ]
     },
     "execution_count": 16,
     "metadata": {},
     "output_type": "execute_result"
    },
    {
     "data": {
      "image/png": "[encoded data removed]",
      "text/plain": [
       "<Figure size 432x288 with 1 Axes>"
      ]
     },
     "metadata": {
      "needs_background": "light"
     },
     "output_type": "display_data"
    }
   ],
   "source": [
    "plt.subplot()\n",
    "decomposed_d.trend.plot(ax=plt.gca())\n",
    "plt.title('trend')\n"
   ]
  },
  {
   "cell_type": "markdown",
   "metadata": {},
   "source": [
    "с марта по август кол-во заказов кратно увеличилось. В августе наблюдается резкий подъем."
   ]
  },
  {
   "cell_type": "code",
   "execution_count": 17,
   "metadata": {},
   "outputs": [
    {
     "data": {
      "text/plain": [
       "Timestamp('2018-08-31 23:00:00', freq='H')"
      ]
     },
     "execution_count": 17,
     "metadata": {},
     "output_type": "execute_result"
    }
   ],
   "source": [
    "data.index[-1]"
   ]
  },
  {
   "cell_type": "code",
   "execution_count": 18,
   "metadata": {},
   "outputs": [
    {
     "data": {
      "text/plain": [
       "Text(0.5, 1.0, 'Сезонность в течение дня')"
      ]
     },
     "execution_count": 18,
     "metadata": {},
     "output_type": "execute_result"
    },
    {
     "data": {
      "image/png": "[encoded data removed]",
      "text/plain": [
       "<Figure size 432x288 with 1 Axes>"
      ]
     },
     "metadata": {
      "needs_background": "light"
     },
     "output_type": "display_data"
    }
   ],
   "source": [
    "decomposed = seasonal_decompose(data)\n",
    "\n",
    "plt.subplot()\n",
    "decomposed.seasonal['2018-03-01 00:00:00':'2018-03-02 00:00:00'].plot(ax=plt.gca())\n",
    "\n",
    "plt.title('Сезонность в течение дня')"
   ]
  },
  {
   "cell_type": "markdown",
   "metadata": {},
   "source": [
    "В течение дня минимальное кол-во заказов в 6 утра пики в 10:00, 16:00 и наибольшее кол-во заказов приходится на 00:00"
   ]
  },
  {
   "cell_type": "markdown",
   "metadata": {},
   "source": [
    "### Вывод\n",
    "Изучили данные о количестве заказов\n",
    "1. с марта по август кол-во заказов кратно увеличилось. В августе наблюдается резкий подъем.\n",
    "2. В разрезе ндели наблюдается сезонность Пики использования такси приходятся на пятницу и понедельник минимум заказов на вторник.\n",
    "3. В течение дня минимальное кол-во заказов в 6 утра пики в 10:00, 16:00 и наибольшее кол-во заказов приходится на 00:00"
   ]
  },
  {
   "cell_type": "markdown",
   "metadata": {},
   "source": [
    "## Обучение"
   ]
  },
  {
   "cell_type": "code",
   "execution_count": 19,
   "metadata": {},
   "outputs": [],
   "source": [
    "# Напишем функцию для добавления данных (год, месяц, день, день недели, \n",
    "                                         # отстающие значения и скользящее среднее) в нашу таблицу \n",
    "    \n",
    "def make_features(data, max_lag, rolling_mean_size):\n",
    "    data['year'] = data.index.year\n",
    "    data['month'] = data.index.month\n",
    "    data['day'] = data.index.day\n",
    "    data['dayofweek'] = data.index.dayofweek\n",
    "    \n",
    "    for lag in range(1, max_lag + 1):\n",
    "        data['lag_{}'.format(lag)] = data['num_orders'].shift(lag)\n",
    "\n",
    "    data['rolling_mean'] = data['num_orders'].shift().rolling(rolling_mean_size).mean()\n"
   ]
  },
  {
   "cell_type": "code",
   "execution_count": 20,
   "metadata": {},
   "outputs": [],
   "source": [
    "# Заполним данные отстающими значениями за неделю для сохранения данных о сезонности.\n",
    "make_features(data, 168, 3)"
   ]
  },
  {
   "cell_type": "code",
   "execution_count": 21,
   "metadata": {},
   "outputs": [
    {
     "name": "stdout",
     "output_type": "stream",
     "text": [
      "Границы тренировочной выборки: 2018-03-03 00:00:00 - 2018-08-13 13:00:00\n",
      "Границы тестовой выборки: 2018-08-13 14:00:00 - 2018-08-31 23:00:00\n"
     ]
    }
   ],
   "source": [
    "# Разделим выборку на тренировочную и тестовую\n",
    "\n",
    "train, test = train_test_split(data, shuffle=False, test_size=0.1)\n",
    "\n",
    "train = train.dropna()\n",
    "\n",
    "print('Границы тренировочной выборки:', train.index.min(),'-', train.index.max())\n",
    "\n",
    "print('Границы тестовой выборки:', test.index.min(),'-', test.index.max())"
   ]
  },
  {
   "cell_type": "code",
   "execution_count": 22,
   "metadata": {},
   "outputs": [],
   "source": [
    "feature_train = train.drop(['num_orders'], axis=1)\n",
    "target_train = train['num_orders']\n",
    "\n",
    "feature_test = test.drop(['num_orders'], axis=1)\n",
    "target_test = test['num_orders']"
   ]
  },
  {
   "cell_type": "code",
   "execution_count": 23,
   "metadata": {},
   "outputs": [],
   "source": [
    "# напишем функцию для расчета RMSE\n",
    "def rmse(target, prediction):\n",
    "    return mean_squared_error(target, prediction)**0.5\n",
    "\n",
    "RMSE_scorer = make_scorer(rmse, greater_is_better=False)"
   ]
  },
  {
   "cell_type": "code",
   "execution_count": 24,
   "metadata": {},
   "outputs": [],
   "source": [
    "#подготовим переменные для сбора данных\n",
    "\n",
    "model_name = []\n",
    "model_rmse = []"
   ]
  },
  {
   "cell_type": "code",
   "execution_count": 25,
   "metadata": {},
   "outputs": [
    {
     "name": "stdout",
     "output_type": "stream",
     "text": [
      "RMSE для LinearRegression: 23.507120021970614\n"
     ]
    }
   ],
   "source": [
    "# оценим модель с помощью кроссвалидации features_train_rougher, target_train_rougher. Вычислим sMAPE_rougher\n",
    "model_line_reg = LinearRegression()\n",
    "\n",
    "line_reg = cross_val_score(model_line_reg,\n",
    "                           feature_train,\n",
    "                           target_train,\n",
    "                           scoring = RMSE_scorer,\n",
    "                           cv = 5)\n",
    "\n",
    "line_reg_RMSE = np.mean(abs(line_reg))\n",
    "\n",
    "print('RMSE для LinearRegression:', line_reg_RMSE)\n"
   ]
  },
  {
   "cell_type": "code",
   "execution_count": 26,
   "metadata": {},
   "outputs": [],
   "source": [
    "model_name.append('LinearRegression')\n",
    "model_rmse.append(line_reg_RMSE)"
   ]
  },
  {
   "cell_type": "code",
   "execution_count": 27,
   "metadata": {},
   "outputs": [
    {
     "name": "stdout",
     "output_type": "stream",
     "text": [
      "Fitting 3 folds for each of 5 candidates, totalling 15 fits\n",
      "RMSE для DecisionTreeRegressor: 29.323477484384142\n"
     ]
    }
   ],
   "source": [
    "DTreg = DecisionTreeRegressor()\n",
    "\n",
    "param_grid = {\"max_depth\": range(2, 20, 4)}\n",
    "\n",
    "rs_DTreg = RandomizedSearchCV(estimator = DTreg,\n",
    "                              param_distributions =param_grid,\n",
    "                              cv=3, random_state=RND_ST,\n",
    "                              scoring = RMSE_scorer,\n",
    "                              verbose = 2, n_jobs = -1) \n",
    "\n",
    "\n",
    "rs_DTreg.fit(feature_train, target_train)\n",
    "\n",
    "\n",
    "y_pred_rs = rs_DTreg.predict(feature_train)\n",
    "\n",
    "rmse_rs_DTreg = abs(rs_DTreg.best_score_)\n",
    "\n",
    "rs_DTreg_param = rs_DTreg.best_params_\n",
    "\n",
    "print('RMSE для DecisionTreeRegressor:', rmse_rs_DTreg)\n"
   ]
  },
  {
   "cell_type": "code",
   "execution_count": 28,
   "metadata": {},
   "outputs": [],
   "source": [
    "model_name.append('DecisionTreeRegressor')\n",
    "model_rmse.append(rmse_rs_DTreg)"
   ]
  },
  {
   "cell_type": "code",
   "execution_count": 29,
   "metadata": {},
   "outputs": [
    {
     "data": {
      "application/vnd.jupyter.widget-view+json": {
       "model_id": "58c898a9219e4390b711ad8147076bb9",
       "version_major": 2,
       "version_minor": 0
      },
      "text/plain": [
       "MetricVisualizer(layout=Layout(align_self='stretch', height='500px'))"
      ]
     },
     "metadata": {},
     "output_type": "display_data"
    },
    {
     "name": "stdout",
     "output_type": "stream",
     "text": [
      "0:\tlearn: 38.0888048\ttotal: 149ms\tremaining: 3m 43s\n",
      "100:\tlearn: 22.7136545\ttotal: 1.4s\tremaining: 19.4s\n",
      "200:\tlearn: 20.9386901\ttotal: 2.67s\tremaining: 17.2s\n",
      "300:\tlearn: 19.8356605\ttotal: 3.89s\tremaining: 15.5s\n",
      "400:\tlearn: 18.5088302\ttotal: 5.2s\tremaining: 14.3s\n",
      "500:\tlearn: 17.4046756\ttotal: 6.51s\tremaining: 13s\n",
      "600:\tlearn: 16.4509363\ttotal: 8.14s\tremaining: 12.2s\n",
      "700:\tlearn: 15.6309081\ttotal: 9.88s\tremaining: 11.3s\n",
      "800:\tlearn: 14.8268302\ttotal: 11.1s\tremaining: 9.69s\n",
      "900:\tlearn: 14.1163480\ttotal: 12.3s\tremaining: 8.18s\n",
      "1000:\tlearn: 13.4723555\ttotal: 13.6s\tremaining: 6.75s\n",
      "1100:\tlearn: 12.8485111\ttotal: 14.8s\tremaining: 5.35s\n",
      "1200:\tlearn: 12.2859172\ttotal: 16s\tremaining: 3.99s\n",
      "1300:\tlearn: 11.7533610\ttotal: 17.3s\tremaining: 2.64s\n",
      "1400:\tlearn: 11.3005019\ttotal: 18.4s\tremaining: 1.3s\n",
      "1499:\tlearn: 10.8271471\ttotal: 19.4s\tremaining: 0us\n",
      "RMSE для CatBoostRegressor estimators 500: 10.827147104727942\n"
     ]
    }
   ],
   "source": [
    "cat = CatBoostRegressor(custom_metric= ['RMSE'],\n",
    "                        learning_rate=0.03,\n",
    "                        n_estimators=1500,\n",
    "                        random_seed=RND_ST)\n",
    "\n",
    "\n",
    "cat.fit(feature_train, target_train,verbose=100, plot=True)\n",
    "\n",
    "rmse_cat = cat.best_score_['learn']['RMSE']\n",
    "\n",
    "print('RMSE для CatBoostRegressor estimators 1500:', rmse_cat)"
   ]
  },
  {
   "cell_type": "code",
   "execution_count": 30,
   "metadata": {},
   "outputs": [],
   "source": [
    "model_name.append('CatBoostRegressor')\n",
    "model_rmse.append(rmse_cat)"
   ]
  },
  {
   "cell_type": "code",
   "execution_count": 31,
   "metadata": {},
   "outputs": [
    {
     "data": {
      "text/html": [
       "<div>\n",
       "<style scoped>\n",
       "    .dataframe tbody tr th:only-of-type {\n",
       "        vertical-align: middle;\n",
       "    }\n",
       "\n",
       "    .dataframe tbody tr th {\n",
       "        vertical-align: top;\n",
       "    }\n",
       "\n",
       "    .dataframe thead th {\n",
       "        text-align: right;\n",
       "    }\n",
       "</style>\n",
       "<table border=\"1\" class=\"dataframe\">\n",
       "  <thead>\n",
       "    <tr style=\"text-align: right;\">\n",
       "      <th></th>\n",
       "      <th>Name</th>\n",
       "      <th>RMSE</th>\n",
       "    </tr>\n",
       "  </thead>\n",
       "  <tbody>\n",
       "    <tr>\n",
       "      <th>0</th>\n",
       "      <td>CatBoostRegressor</td>\n",
       "      <td>10.827147</td>\n",
       "    </tr>\n",
       "    <tr>\n",
       "      <th>1</th>\n",
       "      <td>LinearRegression</td>\n",
       "      <td>23.507120</td>\n",
       "    </tr>\n",
       "    <tr>\n",
       "      <th>2</th>\n",
       "      <td>DecisionTreeRegressor</td>\n",
       "      <td>29.323477</td>\n",
       "    </tr>\n",
       "  </tbody>\n",
       "</table>\n",
       "</div>"
      ],
      "text/plain": [
       "                    Name       RMSE\n",
       "0      CatBoostRegressor  10.827147\n",
       "1       LinearRegression  23.507120\n",
       "2  DecisionTreeRegressor  29.323477"
      ]
     },
     "execution_count": 31,
     "metadata": {},
     "output_type": "execute_result"
    }
   ],
   "source": [
    "# Соберем в датафрейм полученные результаты со всех моделей.\n",
    "\n",
    "scores = pd.DataFrame( {'Name' : model_name, \n",
    "                       'RMSE' : model_rmse}) \n",
    "\n",
    "scores.sort_values('RMSE', ascending=True).reset_index(drop=True)"
   ]
  },
  {
   "cell_type": "markdown",
   "metadata": {},
   "source": [
    "### Вывод\n",
    "Подготовили и обучили три модели LinearRegression, DecisionTreeRegressor, CatBoostRegressor\n",
    "\n",
    "На тренировочных данных все модели прошли рубеж RMSE < 48 лучший результат показала модель CatBoostRegressor Со значением RMSE = 10.8\n",
    "На ней произведем финальное тестирование"
   ]
  },
  {
   "cell_type": "markdown",
   "metadata": {},
   "source": [
    "## Тестирование"
   ]
  },
  {
   "cell_type": "code",
   "execution_count": 32,
   "metadata": {},
   "outputs": [
    {
     "name": "stdout",
     "output_type": "stream",
     "text": [
      "RMSE: 38.09509159941506\n"
     ]
    }
   ],
   "source": [
    "pred = cat.predict(feature_test)\n",
    "print(\"RMSE:\", mean_squared_error(target_test,pred, squared=False))"
   ]
  },
  {
   "cell_type": "code",
   "execution_count": 36,
   "metadata": {},
   "outputs": [
    {
     "name": "stdout",
     "output_type": "stream",
     "text": [
      "RMSE: 58.856486242815066\n"
     ]
    }
   ],
   "source": [
    "#Проверим модель на адекватность предыдущими значениями\n",
    "pred_previous = test.shift()\n",
    "pred_previous.iloc[0]=train.iloc[-1]\n",
    "print(\"RMSE:\", rmse(test['num_orders'],pred_previous['num_orders']))"
   ]
  },
  {
   "cell_type": "markdown",
   "metadata": {},
   "source": [
    "### Вывод\n",
    "\n",
    "В исходном датафрейме две колонки c временем и кол-вом заказов за период 2018-03-01 - 2018-08-31\n",
    "1. Поменяли тип данных для колонки datetime и сделали ее индексом нашей таблицы\n",
    "2. данные расположены в хронологическом порядке.\n",
    "3. Названия колонок написаны с маленькой буквы с нижним подчеркиванием изменения не требуются.\n",
    "4. Пропуски отсутствуют.\n",
    "5. дубликаты отсутствуют.\n",
    "\n",
    "Изучили данные о количестве заказов\n",
    "1. с марта по август кол-во заказов кратно увеличилось. В августе наблюдается резкий подъем.\n",
    "2. В разрезе недели наблюдается сезонность Пики использования такси приходятся на пятницу и понедельник минимум заказов на вторник.\n",
    "3. В течение дня минимальное кол-во заказов в 6 утра пики в 10:00, 16:00 и наибольшее кол-во заказов приходится на 00:00\n",
    "\n",
    "Подготовили и обучили три модели LinearRegression, DecisionTreeRegressor, CatBoostRegressor\n",
    "\n",
    "На тренировочных данных все модели прошли рубеж RMSE < 48 лучший результат показала модель CatBoostRegressor Со значением RMSE = 10.8\n",
    "На ней произвели финальное тестирование RMSE = 38, Не смотря на то что модель переобучилась результат с запасом ниже 48.\n",
    "\n",
    "Цели и задачи проекта выполнены."
   ]
  }
 ],
 "metadata": {
  "ExecuteTimeLog": [
   {
    "duration": 2338,
    "start_time": "2023-03-02T08:14:41.605Z"
   },
   {
    "duration": 3,
    "start_time": "2023-03-02T08:14:43.970Z"
   },
   {
    "duration": 412,
    "start_time": "2023-03-02T08:14:46.120Z"
   },
   {
    "duration": 16,
    "start_time": "2023-03-02T08:14:48.276Z"
   },
   {
    "duration": 14,
    "start_time": "2023-03-02T08:15:04.519Z"
   },
   {
    "duration": 14,
    "start_time": "2023-03-02T08:15:19.230Z"
   },
   {
    "duration": 4,
    "start_time": "2023-03-02T08:15:48.735Z"
   },
   {
    "duration": 4,
    "start_time": "2023-03-02T08:16:20.341Z"
   },
   {
    "duration": 124,
    "start_time": "2023-03-02T08:16:43.467Z"
   },
   {
    "duration": 8,
    "start_time": "2023-03-02T08:16:58.025Z"
   },
   {
    "duration": 14,
    "start_time": "2023-03-02T08:18:11.734Z"
   },
   {
    "duration": 1498,
    "start_time": "2023-03-02T08:28:21.576Z"
   },
   {
    "duration": 14,
    "start_time": "2023-03-02T08:28:23.587Z"
   },
   {
    "duration": 7,
    "start_time": "2023-03-02T08:28:27.475Z"
   },
   {
    "duration": 2172,
    "start_time": "2023-03-02T08:28:39.688Z"
   },
   {
    "duration": 5,
    "start_time": "2023-03-02T08:28:41.863Z"
   },
   {
    "duration": 93,
    "start_time": "2023-03-02T08:28:41.870Z"
   },
   {
    "duration": 17,
    "start_time": "2023-03-02T08:28:41.965Z"
   },
   {
    "duration": 19,
    "start_time": "2023-03-02T08:28:41.984Z"
   },
   {
    "duration": 14,
    "start_time": "2023-03-02T08:28:42.006Z"
   },
   {
    "duration": 13,
    "start_time": "2023-03-02T08:28:42.022Z"
   },
   {
    "duration": 6,
    "start_time": "2023-03-02T08:28:42.038Z"
   },
   {
    "duration": 57,
    "start_time": "2023-03-02T08:28:42.046Z"
   },
   {
    "duration": 400,
    "start_time": "2023-03-02T08:28:42.106Z"
   },
   {
    "duration": 379,
    "start_time": "2023-03-02T08:30:23.992Z"
   },
   {
    "duration": 472,
    "start_time": "2023-03-02T08:30:39.528Z"
   },
   {
    "duration": 39,
    "start_time": "2023-03-02T08:37:47.413Z"
   },
   {
    "duration": 28,
    "start_time": "2023-03-02T08:39:22.473Z"
   },
   {
    "duration": 180,
    "start_time": "2023-03-02T08:41:36.488Z"
   },
   {
    "duration": 14,
    "start_time": "2023-03-02T08:47:42.790Z"
   },
   {
    "duration": 20,
    "start_time": "2023-03-02T08:48:45.238Z"
   },
   {
    "duration": 15,
    "start_time": "2023-03-02T08:53:44.322Z"
   },
   {
    "duration": 1828,
    "start_time": "2023-03-02T10:40:06.090Z"
   },
   {
    "duration": 3,
    "start_time": "2023-03-02T10:40:07.921Z"
   },
   {
    "duration": 78,
    "start_time": "2023-03-02T10:40:07.926Z"
   },
   {
    "duration": 18,
    "start_time": "2023-03-02T10:40:08.007Z"
   },
   {
    "duration": 28,
    "start_time": "2023-03-02T10:40:08.027Z"
   },
   {
    "duration": 58,
    "start_time": "2023-03-02T10:40:08.057Z"
   },
   {
    "duration": 20,
    "start_time": "2023-03-02T10:40:08.118Z"
   },
   {
    "duration": 70,
    "start_time": "2023-03-02T10:40:08.140Z"
   },
   {
    "duration": 11,
    "start_time": "2023-03-02T10:40:08.212Z"
   },
   {
    "duration": 14,
    "start_time": "2023-03-02T10:40:08.226Z"
   },
   {
    "duration": 32,
    "start_time": "2023-03-02T10:40:08.241Z"
   },
   {
    "duration": 414,
    "start_time": "2023-03-02T10:40:08.275Z"
   },
   {
    "duration": 453,
    "start_time": "2023-03-02T10:40:08.690Z"
   },
   {
    "duration": 351,
    "start_time": "2023-03-02T10:40:09.148Z"
   },
   {
    "duration": 331,
    "start_time": "2023-03-02T10:43:21.368Z"
   },
   {
    "duration": 273,
    "start_time": "2023-03-02T10:45:31.989Z"
   },
   {
    "duration": 171,
    "start_time": "2023-03-02T10:46:08.441Z"
   },
   {
    "duration": 196,
    "start_time": "2023-03-02T10:47:07.481Z"
   },
   {
    "duration": 267,
    "start_time": "2023-03-02T10:48:02.741Z"
   },
   {
    "duration": 233,
    "start_time": "2023-03-02T10:48:07.042Z"
   },
   {
    "duration": 260,
    "start_time": "2023-03-02T10:49:04.977Z"
   },
   {
    "duration": 316,
    "start_time": "2023-03-02T10:50:50.182Z"
   }
  ],
  "kernelspec": {
   "display_name": "Python 3 (ipykernel)",
   "language": "python",
   "name": "python3"
  },
  "language_info": {
   "codemirror_mode": {
    "name": "ipython",
    "version": 3
   },
   "file_extension": ".py",
   "mimetype": "text/x-python",
   "name": "python",
   "nbconvert_exporter": "python",
   "pygments_lexer": "ipython3",
   "version": "3.10.9"
  },
  "toc": {
   "base_numbering": 1,
   "nav_menu": {},
   "number_sections": true,
   "sideBar": true,
   "skip_h1_title": true,
   "title_cell": "Содержание",
   "title_sidebar": "Contents",
   "toc_cell": true,
   "toc_position": {
    "height": "calc(100% - 180px)",
    "left": "10px",
    "top": "150px",
    "width": "397.431px"
   },
   "toc_section_display": true,
   "toc_window_display": true
  }
 },
 "nbformat": 4,
 "nbformat_minor": 2
}
